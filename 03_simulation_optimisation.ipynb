{
 "cells": [
  {
   "cell_type": "markdown",
   "id": "f6376ebf",
   "metadata": {},
   "source": [
    "# Simulation Optimsiation using DES model of homeless response system"
   ]
  },
  {
   "cell_type": "code",
   "execution_count": 1,
   "id": "af7ca805",
   "metadata": {},
   "outputs": [
    {
     "name": "stdout",
     "output_type": "stream",
     "text": [
      "Current version of this notebook updated 2023-10-23\n"
     ]
    }
   ],
   "source": [
    "import datetime\n",
    "print('Current version of this notebook updated ' + str(datetime.date.today()))"
   ]
  },
  {
   "cell_type": "markdown",
   "id": "a165b34c",
   "metadata": {},
   "source": [
    "## Ranking & Selection"
   ]
  },
  {
   "cell_type": "markdown",
   "id": "d00cacfd",
   "metadata": {},
   "source": [
    "First we employ a Ranking & Selection algorithm based on the Kim & Nelson procedure. Details of this procedure can be found in section 9.3.2 (page 247) of 'Foundation and Methods of Stochastic Simulation' - Edition 2 (2021). The Python code for this procedure is found in the ranking_and_selection.py file in the GitHub repository. Below we import this module, and some others"
   ]
  },
  {
   "cell_type": "code",
   "execution_count": 2,
   "id": "3b8cdc6e",
   "metadata": {},
   "outputs": [],
   "source": [
    "# modules from this repository\n",
    "import ranking_and_selection as rs\n",
    "import simulation_model as sim\n",
    "\n",
    "# external packages\n",
    "import numpy as np\n",
    "import random"
   ]
  },
  {
   "cell_type": "markdown",
   "id": "49f98950",
   "metadata": {},
   "source": [
    "### Testing using Inventory System\n",
    "\n",
    "In order to test our KN procedure, we test it on a simulation model which has already been analysed using the KN algorithm in STOR-606 module - this is an $(s,S)$ inventory system where stock is replenished to a level of $S$ when it reaches $s$. "
   ]
  },
  {
   "cell_type": "code",
   "execution_count": 3,
   "id": "fe557041",
   "metadata": {},
   "outputs": [],
   "source": [
    "solutions = [i for i in range(1600)]\n",
    "k=np.array([i for i in range(1600)])\n",
    "\n",
    "def simulate(solution):\n",
    "    # one replication of simulating the cost of the inventory policy\n",
    "    out=rs.InventorySystem(solution)[0]\n",
    "    return out"
   ]
  },
  {
   "cell_type": "code",
   "execution_count": 4,
   "id": "50d49cad",
   "metadata": {},
   "outputs": [],
   "source": [
    "random.seed(1)\n",
    "opt_sols = []\n",
    "for i in range(10):\n",
    "    spc = rs.SolutionSpace(solutions)\n",
    "    spc.optimise_rs(0.05, 50, 1, simulate, False)\n",
    "    s,S = rs.get_sS_system(k[spc.active][0])\n",
    "    opt_sols.append((s,S))"
   ]
  },
  {
   "cell_type": "code",
   "execution_count": 5,
   "id": "ac5bb229",
   "metadata": {},
   "outputs": [
    {
     "name": "stdout",
     "output_type": "stream",
     "text": [
      "(s,S) for the optimal solution found at each iteration of the algorithm\n",
      "[(19, 51), (18, 54), (16, 51), (21, 56), (16, 54), (21, 53), (13, 50), (16, 51), (17, 49), (20, 50)]\n"
     ]
    }
   ],
   "source": [
    "print('(s,S) for the optimal solution found at each iteration of the algorithm')\n",
    "print(opt_sols)"
   ]
  },
  {
   "cell_type": "markdown",
   "id": "1baeb576",
   "metadata": {},
   "source": [
    "The above illustrates that this KN algorithm can return different solutions when it is run at different times (i.e. with different starting seeds) - this is likely due to the difference between the true best and other good solutions being less than the 'delta' indiffference zone parameter used when running the algorithm above. "
   ]
  },
  {
   "cell_type": "markdown",
   "id": "706959ca",
   "metadata": {},
   "source": [
    "### Developing a discrete solution space for the homeless response system"
   ]
  },
  {
   "cell_type": "code",
   "execution_count": 3,
   "id": "c1c06a8c",
   "metadata": {},
   "outputs": [],
   "source": [
    "build_rate_options = {'housing' : [25, 50], 'shelter' : [25,50]}\n",
    "annual_budget = 75\n",
    "accommodation_budgets = {'housing' : 200, 'shelter' : 200}\n",
    "simulation_length = 5\n",
    "\n",
    "sols = rs.generate_solution_space(build_rate_options, annual_budget, accommodation_budgets, simulation_length)"
   ]
  },
  {
   "cell_type": "markdown",
   "id": "66219de3",
   "metadata": {},
   "source": [
    "Below we print ten of the 221 feasible solutions"
   ]
  },
  {
   "cell_type": "code",
   "execution_count": 4,
   "id": "0a05454a",
   "metadata": {},
   "outputs": [
    {
     "data": {
      "text/plain": [
       "[{'housing': [25, 25, 25, 25, 25], 'shelter': [25, 25, 25, 25, 25]},\n",
       " {'housing': [25, 25, 25, 25, 25], 'shelter': [50, 25, 25, 25, 25]},\n",
       " {'housing': [50, 25, 25, 25, 25], 'shelter': [25, 25, 25, 25, 25]},\n",
       " {'housing': [25, 25, 25, 25, 25], 'shelter': [25, 50, 25, 25, 25]},\n",
       " {'housing': [25, 25, 25, 25, 25], 'shelter': [50, 50, 25, 25, 25]},\n",
       " {'housing': [50, 25, 25, 25, 25], 'shelter': [25, 50, 25, 25, 25]},\n",
       " {'housing': [25, 50, 25, 25, 25], 'shelter': [25, 25, 25, 25, 25]},\n",
       " {'housing': [25, 50, 25, 25, 25], 'shelter': [50, 25, 25, 25, 25]},\n",
       " {'housing': [50, 50, 25, 25, 25], 'shelter': [25, 25, 25, 25, 25]}]"
      ]
     },
     "execution_count": 4,
     "metadata": {},
     "output_type": "execute_result"
    }
   ],
   "source": [
    "sols[0:9]"
   ]
  },
  {
   "cell_type": "markdown",
   "id": "0ba31f40",
   "metadata": {},
   "source": [
    "Below we initialise a solution space object with the solutions we have generated"
   ]
  },
  {
   "cell_type": "code",
   "execution_count": 5,
   "id": "a20bbd8a",
   "metadata": {},
   "outputs": [],
   "source": [
    "spc = rs.SolutionSpace(sols)"
   ]
  },
  {
   "cell_type": "markdown",
   "id": "1fdc7e23",
   "metadata": {},
   "source": [
    "We next set a seed and then look for an optimal solution using the KN algorithm. A line of text is printed below whenever solutions are removed from the candidate list by the algorithm. "
   ]
  },
  {
   "cell_type": "code",
   "execution_count": 6,
   "id": "4061db4e",
   "metadata": {},
   "outputs": [],
   "source": [
    "random.seed(1)\n",
    "spc.optimise_rs(0.05, 10, 2, sim.simulate_as_is, False)"
   ]
  },
  {
   "cell_type": "markdown",
   "id": "e8eaf074",
   "metadata": {},
   "source": [
    "The details of the optimal solution are given below, followed by the following 20 solutions in decreasing order of the iteration number at which the KN algorithm removed them from the candidate list. "
   ]
  },
  {
   "cell_type": "code",
   "execution_count": 7,
   "id": "7f6873ab",
   "metadata": {},
   "outputs": [
    {
     "data": {
      "text/plain": [
       "{'housing': [50, 50, 50, 25, 25], 'shelter': [25, 25, 25, 25, 25]}"
      ]
     },
     "execution_count": 7,
     "metadata": {},
     "output_type": "execute_result"
    }
   ],
   "source": [
    "np.array(spc.solutions)[spc.active][0].solution"
   ]
  },
  {
   "cell_type": "code",
   "execution_count": 8,
   "id": "81d1f488",
   "metadata": {},
   "outputs": [
    {
     "name": "stdout",
     "output_type": "stream",
     "text": [
      "{'housing': [25, 50, 25, 25, 50], 'shelter': [25, 25, 50, 50, 25]} eliminated after 333\n",
      "{'housing': [50, 50, 25, 25, 25], 'shelter': [25, 25, 25, 50, 50]} eliminated after 174\n",
      "{'housing': [50, 25, 25, 25, 50], 'shelter': [25, 25, 25, 25, 25]} eliminated after 174\n",
      "{'housing': [25, 25, 50, 25, 50], 'shelter': [25, 25, 25, 50, 25]} eliminated after 173\n",
      "{'housing': [50, 25, 25, 25, 50], 'shelter': [25, 25, 50, 50, 25]} eliminated after 172\n",
      "{'housing': [50, 25, 25, 25, 25], 'shelter': [25, 25, 50, 25, 25]} eliminated after 131\n",
      "{'housing': [50, 50, 25, 25, 25], 'shelter': [25, 25, 25, 50, 25]} eliminated after 115\n",
      "{'housing': [50, 25, 50, 25, 25], 'shelter': [25, 25, 25, 50, 25]} eliminated after 109\n",
      "{'housing': [50, 25, 50, 25, 25], 'shelter': [25, 25, 25, 25, 25]} eliminated after 101\n",
      "{'housing': [50, 25, 25, 50, 50], 'shelter': [25, 50, 25, 25, 25]} eliminated after 98\n",
      "{'housing': [25, 25, 50, 50, 25], 'shelter': [25, 25, 25, 25, 25]} eliminated after 92\n",
      "{'housing': [50, 25, 50, 25, 50], 'shelter': [25, 50, 25, 50, 25]} eliminated after 90\n",
      "{'housing': [50, 25, 25, 25, 25], 'shelter': [25, 25, 50, 50, 50]} eliminated after 88\n",
      "{'housing': [50, 25, 25, 50, 25], 'shelter': [25, 50, 25, 25, 25]} eliminated after 86\n",
      "{'housing': [50, 50, 25, 50, 25], 'shelter': [25, 25, 25, 25, 50]} eliminated after 84\n",
      "{'housing': [50, 25, 25, 50, 25], 'shelter': [25, 25, 25, 25, 25]} eliminated after 84\n",
      "{'housing': [50, 25, 25, 25, 50], 'shelter': [25, 25, 50, 25, 25]} eliminated after 80\n",
      "{'housing': [50, 50, 25, 25, 50], 'shelter': [25, 25, 25, 25, 25]} eliminated after 80\n",
      "{'housing': [25, 50, 25, 25, 25], 'shelter': [25, 25, 50, 25, 25]} eliminated after 78\n",
      "{'housing': [50, 50, 50, 25, 25], 'shelter': [25, 25, 25, 50, 25]} eliminated after 77\n",
      "{'housing': [25, 50, 50, 50, 25], 'shelter': [50, 25, 25, 25, 50]} eliminated after 77\n"
     ]
    }
   ],
   "source": [
    "sort_index = np.flip(np.argsort(np.array(spc.eliminate)))\n",
    "n = 0 # count of solutions printed\n",
    "for i in sort_index:\n",
    "    print(str(spc.solutions[i].solution) + ' eliminated after ' + str(spc.eliminate[i]))\n",
    "    n+=1\n",
    "    if n>20:\n",
    "        break"
   ]
  },
  {
   "cell_type": "markdown",
   "id": "c3310c45",
   "metadata": {},
   "source": [
    "Next steps: \n",
    "\n",
    "* To identify good solutions using the analytical model\n",
    "* To explore (potentially using data from the simulated solutions) why certain solutions are performing better than others. "
   ]
  }
 ],
 "metadata": {
  "kernelspec": {
   "display_name": "Python 3 (ipykernel)",
   "language": "python",
   "name": "python3"
  },
  "language_info": {
   "codemirror_mode": {
    "name": "ipython",
    "version": 3
   },
   "file_extension": ".py",
   "mimetype": "text/x-python",
   "name": "python",
   "nbconvert_exporter": "python",
   "pygments_lexer": "ipython3",
   "version": "3.11.5"
  }
 },
 "nbformat": 4,
 "nbformat_minor": 5
}
