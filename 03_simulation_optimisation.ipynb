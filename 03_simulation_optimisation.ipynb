{
 "cells": [
  {
   "cell_type": "markdown",
   "id": "f6376ebf",
   "metadata": {
    "collapsed": false
   },
   "source": [
    "# Simulation Optimsiation using DES model of homeless response system"
   ]
  },
  {
   "cell_type": "code",
   "execution_count": 1,
   "id": "af7ca805",
   "metadata": {
    "collapsed": false
   },
   "outputs": [
    {
     "name": "stdout",
     "output_type": "stream",
     "text": [
      "Current version of this notebook updated 2024-02-16\n"
     ]
    }
   ],
   "source": [
    "import datetime\n",
    "print('Current version of this notebook updated ' + str(datetime.date.today()))"
   ]
  },
  {
   "cell_type": "markdown",
   "id": "a165b34c",
   "metadata": {
    "collapsed": false
   },
   "source": [
    "This notebook sets up a solution space to study with the analytical model and the simulation model - checking that an R+S SimOpt algorithm can find the true optimal solution (which we know based on the analytical model). It also looks at some other solution spaces and only studies them with the analytical model - for these solution spaces, a range of different objective functions are explored. \n",
    "\n",
    "## Ranking & Selection"
   ]
  },
  {
   "cell_type": "markdown",
   "id": "d00cacfd",
   "metadata": {
    "collapsed": false
   },
   "source": [
    "\n",
    "First we employ a Ranking & Selection algorithm based on the Kim & Nelson procedure. Details of this procedure can be found in section 9.3.2 (page 247) of 'Foundation and Methods of Stochastic Simulation' - Edition 2 (2021). The Python code for this procedure is found in the ranking_and_selection.py file in the GitHub repository. Below we import this module, and some others"
   ]
  },
  {
   "cell_type": "code",
   "execution_count": 2,
   "id": "3b8cdc6e",
   "metadata": {
    "collapsed": false
   },
   "outputs": [],
   "source": [
    "# modules from this repository\n",
    "import ranking_and_selection as rs\n",
    "import simulation_model as sim\n",
    "import queueing_model as qm\n",
    "\n",
    "# external packages\n",
    "import numpy as np\n",
    "import random\n",
    "import matplotlib.pyplot as plt\n",
    "import pandas as pd\n",
    "import json"
   ]
  },
  {
   "cell_type": "markdown",
   "id": "49f98950",
   "metadata": {
    "collapsed": false
   },
   "source": [
    "### Testing using Inventory System\n",
    "\n",
    "In order to test our KN procedure, we test it on a simulation model which has already been analysed using the KN algorithm in STOR-606 module - this is an $(s,S)$ inventory system where stock is replenished to a level of $S$ when it reaches $s$. "
   ]
  },
  {
   "cell_type": "code",
   "execution_count": 3,
   "id": "fe557041",
   "metadata": {
    "collapsed": false
   },
   "outputs": [],
   "source": [
    "solutions = [i for i in range(1600)]\n",
    "k=np.array([i for i in range(1600)])\n",
    "\n",
    "def simulate(solution):\n",
    "    # one replication of simulating the cost of the inventory policy\n",
    "    out=rs.InventorySystem(solution)[0]\n",
    "    return out"
   ]
  },
  {
   "cell_type": "code",
   "execution_count": 4,
   "id": "50d49cad",
   "metadata": {
    "collapsed": false
   },
   "outputs": [],
   "source": [
    "random.seed(1)\n",
    "opt_sols = []\n",
    "for i in range(0):\n",
    "    spc = rs.SolutionSpace(solutions)\n",
    "    spc.optimise_rs(0.05, 50, 1, simulate, False, False)\n",
    "    s,S = rs.get_sS_system(k[spc.active][0])\n",
    "    opt_sols.append((s,S))"
   ]
  },
  {
   "cell_type": "code",
   "execution_count": 5,
   "id": "ac5bb229",
   "metadata": {
    "collapsed": false
   },
   "outputs": [
    {
     "name": "stdout",
     "output_type": "stream",
     "text": [
      "(s,S) for the optimal solution found at each iteration of the algorithm\n",
      "[]\n"
     ]
    }
   ],
   "source": [
    "print('(s,S) for the optimal solution found at each iteration of the algorithm')\n",
    "print(opt_sols)"
   ]
  },
  {
   "cell_type": "markdown",
   "id": "1baeb576",
   "metadata": {
    "collapsed": false
   },
   "source": [
    "The above illustrates (if you change the 'range' over which the algorithm runs above from 0 to something) that this KN algorithm can return different solutions when it is run at different times (i.e. with different starting seeds) - this is likely due to the difference between the true best and other good solutions being less than the 'delta' indiffference zone parameter used when running the algorithm above. "
   ]
  },
  {
   "cell_type": "code",
   "execution_count": 6,
   "id": "3d73b045",
   "metadata": {
    "collapsed": false
   },
   "outputs": [],
   "source": [
    "# Opening JSON file\n",
    "with open('data_as_is.json') as json_file:\n",
    "    data_as_is = json.load(json_file)\n",
    "    \n",
    "# Opening JSON file\n",
    "with open('data_as_is_simulation.json') as json_file:\n",
    "    data_as_is_simulation = json.load(json_file)\n",
    "    \n",
    "# Opening JSON file\n",
    "with open('data_as_is_analytical.json') as json_file:\n",
    "    data_as_is_analytical = json.load(json_file)"
   ]
  },
  {
   "cell_type": "markdown",
   "id": "706959ca",
   "metadata": {
    "collapsed": false
   },
   "source": [
    "### Developing a discrete solution space for the homeless response system"
   ]
  },
  {
   "cell_type": "code",
   "execution_count": 7,
   "id": "c1c06a8c",
   "metadata": {
    "collapsed": false
   },
   "outputs": [],
   "source": [
    "# solution space constraints\n",
    "build_rate_options = {'housing' : [12, 24], 'shelter' : [12,24]}\n",
    "annual_budget = 36\n",
    "accommodation_budgets = {'housing' : 120, 'shelter' : 120}\n",
    "costs = {'housing': 1, 'shelter': 1}\n",
    "build_rate_length_years = 6\n",
    "\n",
    "# generate solution space\n",
    "sols = rs.generate_solution_space(build_rate_options, \n",
    "                                  annual_budget, \n",
    "                                  accommodation_budgets, \n",
    "                                  costs, \n",
    "                                  build_rate_length_years)\n",
    "\n",
    "sols = rs.keep_max_budget(sols, costs, annual_budget)"
   ]
  },
  {
   "cell_type": "markdown",
   "id": "0ba31f40",
   "metadata": {
    "collapsed": false
   },
   "source": [
    "Below we initialise a solution space object with the solutions we have generated"
   ]
  },
  {
   "cell_type": "code",
   "execution_count": 8,
   "id": "a20bbd8a",
   "metadata": {
    "collapsed": false
   },
   "outputs": [],
   "source": [
    "spc = rs.SolutionSpace(sols)"
   ]
  },
  {
   "cell_type": "markdown",
   "id": "3f61f178",
   "metadata": {
    "collapsed": false
   },
   "source": [
    "### Analytic treatment of the solution space"
   ]
  },
  {
   "cell_type": "code",
   "execution_count": 9,
   "id": "a3d709d7",
   "metadata": {
    "collapsed": false
   },
   "outputs": [],
   "source": [
    "# model analytically\n",
    "outputs = []\n",
    "for s in range(len(sols)):\n",
    "    # create instance of queue\n",
    "    q = qm.queue(data_as_is['arrival_rates'], \n",
    "                 data_as_is['service_mean'], \n",
    "                 data_as_is['initial_capacity'], \n",
    "                 sols[s], \n",
    "                 data_as_is['initial_demand'], \n",
    "                 data_as_is_analytical['max_in_system'],\n",
    "                 data_as_is['time_btwn_changes_in_build_rate'],\n",
    "                 data_as_is['time_btwn_building'])\n",
    "\n",
    "    q.model_dynamics(data_as_is['analysis_horizon'],\n",
    "                     data_as_is_analytical['delta_t'])\n",
    "    outputs.append(q.num_unsheltered_avg)\n",
    "    # print('done ' + str(s) + ' of ' + str(len(sols)))"
   ]
  },
  {
   "cell_type": "code",
   "execution_count": 10,
   "id": "dc1c86df-2267-4d42-b1df-525212011821",
   "metadata": {
    "collapsed": false
   },
   "outputs": [
    {
     "data": {
      "image/png": "[encoded data removed]",
      "text/plain": [
       "<Figure size 640x480 with 1 Axes>"
      ]
     },
     "metadata": {},
     "output_type": "display_data"
    }
   ],
   "source": [
    "# Creating histogram \n",
    "fig, ax = plt.subplots(1, 1) \n",
    "ax.hist(outputs, 100) \n",
    "  \n",
    "# Set title \n",
    "ax.set_title(\"Solution space with build options of 12 or 24 units\") \n",
    "    \n",
    "# adding labels \n",
    "ax.set_xlabel('Expected time-average of # unsheltered') \n",
    "ax.set_ylabel('Freq') \n",
    "\n",
    "plt.show()"
   ]
  },
  {
   "cell_type": "code",
   "execution_count": 11,
   "id": "4a9fb9ad",
   "metadata": {
    "collapsed": false
   },
   "outputs": [],
   "source": [
    "# Dataframe of analytic results\n",
    "my_list = []\n",
    "for i in range(len(sols)):\n",
    "    my_dict = {}\n",
    "    for index, element in enumerate(sols[i]['housing']):\n",
    "        my_dict[index] = element\n",
    "    my_dict[6] = \" \"\n",
    "    for index, element in enumerate(sols[i]['shelter']):\n",
    "        my_dict[index+7] = element\n",
    "    my_dict[13] = outputs[i]\n",
    "    my_list.append(my_dict)\n",
    "df_analytic = pd.DataFrame.from_dict(my_list)\n",
    "df_analytic.columns = ['h1', 'h2', 'h3', 'h4', 'h5', 'h6', ' ', 'sh1', 'sh2', 'sh3', 'sh4', 'sh5', 'sh6', 'c']"
   ]
  },
  {
   "cell_type": "code",
   "execution_count": 12,
   "id": "f0fe0f04",
   "metadata": {
    "collapsed": false
   },
   "outputs": [],
   "source": [
    "# Looking at the improvements in the objective func given by a change in each dimension separately\n",
    "low_val = 12\n",
    "dims_all = ['h1','h2','h3','h4','h5','h6','sh1','sh2','sh3','sh4','sh5','sh6']\n",
    "list_imprv = [] # data on improvements\n",
    "for dim in dims_all:\n",
    "    for i in df_analytic[df_analytic[dim]==low_val].index.tolist():\n",
    "        value_base = df_analytic.iloc[i]['c']\n",
    "        conditions = dim + '''!=''' + str(low_val)\n",
    "        for dim_compare in [dims_all[j] for j in range(len(dims_all)) if dims_all[j]!=dim]:\n",
    "            conditions = conditions + ''' & ''' + dim_compare + '==' + str(df_analytic.iloc[i][dim_compare])\n",
    "        df_analytic_with_conditions = df_analytic.query(conditions).reset_index(drop=True)\n",
    "        if len(df_analytic_with_conditions) > 0:\n",
    "            value_improve = df_analytic_with_conditions['c'][0]\n",
    "            improvement = value_base - value_improve\n",
    "            improvement = {'dim': dim,\n",
    "                           'imprv': improvement}\n",
    "            list_imprv.append(improvement)\n",
    "        \n",
    "df_imprv = pd.DataFrame.from_dict(list_imprv)"
   ]
  },
  {
   "cell_type": "code",
   "execution_count": 13,
   "id": "f07c2239",
   "metadata": {
    "collapsed": false
   },
   "outputs": [],
   "source": [
    "# This will only work if we don't restrict the solution space to solutions where the budget is maxed out. \n",
    "# df_imprv_summary = df_imprv.groupby('dim').mean().reset_index()\n",
    "# df_imprv_summary"
   ]
  },
  {
   "cell_type": "markdown",
   "id": "136875ee",
   "metadata": {
    "collapsed": false
   },
   "source": [
    "Above we see that building housing early is the most favourable option given this setup - this makes intuitive sense given this set up because there is no difference in cost built in to favour one accommodation type over the other. Extra housing has the ability to begin service time for someone in shelter and also take someone out of the unsheltered queue and into shelter. Extra shelter only has the ability to do the latter. We might in future consider a service time in housing which is dependent on the time spent in shelter - because we might consider time in shelter as 'partial service'. \n",
    "\n",
    "Furthermore - it is also intuitive that building more housing or shelter units the earlier the better is most favourable - since this setup favours improvements to the unsheltered queue equally at all times, and early builds have an effect over a longer period of time. "
   ]
  },
  {
   "cell_type": "code",
   "execution_count": 14,
   "id": "bbd46bfb",
   "metadata": {
    "collapsed": false
   },
   "outputs": [],
   "source": [
    "# Look at the difference between true best and true second-best \n",
    "df_analytic_sorted = df_analytic.sort_values('c').reset_index(drop=True)\n",
    "indiff = df_analytic_sorted.iloc[1, df_analytic_sorted.columns.get_loc('c')] - df_analytic_sorted.iloc[0, df_analytic_sorted.columns.get_loc('c')]"
   ]
  },
  {
   "cell_type": "markdown",
   "id": "9a21726c",
   "metadata": {
    "collapsed": false
   },
   "source": [
    "### Sim Opt treatment of solution space"
   ]
  },
  {
   "cell_type": "code",
   "execution_count": 27,
   "id": "4a338bb3-2623-4650-8bff-70430d44e74a",
   "metadata": {
    "collapsed": false
   },
   "outputs": [],
   "source": [
    "# Uncomment and run this code to run initial simulation reps on solutions in the solutions space\n",
    "\n",
    "# random.seed(12345)\n",
    "# initial_reps = 100\n",
    "# spc = rs.SolutionSpace(sols)\n",
    "# spc.run_initial_reps(initial_reps,\n",
    "#                      sim.simulate_as_is,\n",
    "#                      data_as_is = data_as_is, \n",
    "#                      data_as_is_simulation = data_as_is_simulation)"
   ]
  },
  {
   "cell_type": "code",
   "execution_count": null,
   "id": "a743fe5d-3382-4394-89c9-14066b681f82",
   "metadata": {
    "collapsed": false
   },
   "outputs": [],
   "source": [
    "# Uncomment and run this code to run the SO algorithm k times\n",
    "\n",
    "# optim_sols = []\n",
    "# k=1000\n",
    "# for i in range(k):\n",
    "#     spc.optimise_rs(0.5, \n",
    "#                     initial_reps, \n",
    "#                     indiff, \n",
    "#                     sim.simulate_as_is, \n",
    "#                     False, \n",
    "#                     False, \n",
    "#                     data_as_is = data_as_is, \n",
    "#                     data_as_is_simulation = data_as_is_simulation)\n",
    "#     optim_sols.append(np.array(spc.solutions)[spc.active][0].solution)\n",
    "    # print('done ' + str(i) + str(np.array(spc.solutions)[spc.active][0].solution) + ' at time ' + str(datetime.datetime.now()))"
   ]
  },
  {
   "cell_type": "markdown",
   "id": "1fdc7e23",
   "metadata": {
    "collapsed": false
   },
   "source": [
    "We next set a seed and then look for an optimal solution using the KN algorithm. A line of text is printed below whenever solutions are removed from the candidate list by the algorithm. We use the true difference between best and second-best solutions as the indifference zone parameter, and we use an alpha of 0.05 - leading to a lower bound of 95% confidence in what we find. "
   ]
  },
  {
   "cell_type": "code",
   "execution_count": null,
   "id": "4061db4e",
   "metadata": {
    "collapsed": false
   },
   "outputs": [],
   "source": [
    "random.seed(1)\n",
    "spc.optimise_rs(0.05, \n",
    "                100, \n",
    "                indiff, \n",
    "                sim.simulate_as_is, \n",
    "                True, \n",
    "                False, \n",
    "                data_as_is = data_as_is, \n",
    "                data_as_is_simulation = data_as_is_simulation)"
   ]
  },
  {
   "cell_type": "markdown",
   "id": "e8eaf074",
   "metadata": {
    "collapsed": false
   },
   "source": [
    "The details of the optimal solution are given below, followed by the following 20 solutions in decreasing order of the iteration number at which the KN algorithm removed them from the candidate list. "
   ]
  },
  {
   "cell_type": "code",
   "execution_count": 16,
   "id": "81d1f488",
   "metadata": {
    "collapsed": false
   },
   "outputs": [],
   "source": [
    "# create dataframe of sim opt results\n",
    "my_list = []\n",
    "for i in range(len(sols)):\n",
    "    my_dict = {}\n",
    "    for index, element in enumerate(sols[i]['housing']):\n",
    "        my_dict[index] = element\n",
    "    for index, element in enumerate(sols[i]['shelter']):\n",
    "        my_dict[index+6] = element\n",
    "    my_dict[12] = spc.eliminate[i]\n",
    "    my_dict[13] = np.mean(spc.costs[i])\n",
    "    my_dict[14] = np.var(spc.costs[i])\n",
    "    my_list.append(my_dict)\n",
    "df_sim = pd.DataFrame.from_dict(my_list)\n",
    "df_sim.columns = ['h1', 'h2', 'h3', 'h4', 'h5', 'h6', 'sh1', 'sh2', 'sh3', 'sh4', 'sh5', 'sh6', 'iter_elim', 'sim_mean', 'sim_var']"
   ]
  },
  {
   "cell_type": "markdown",
   "id": "8e86c037",
   "metadata": {
    "collapsed": false
   },
   "source": [
    "### Analysis of analytic and Sim Opt outputs\n",
    "\n",
    "Here we order the solutions based on their analytical objective function value - and compare the results to the results of the KN Sim Opt routine (first results from using alpha = 0.05 and running the algorithm once. 'iter_elim' is the iteration of the algorithm where the solution was eliminated, 0 when this solution was never eliminated - i.e. the optimal. 'c' is the analytical cost (i.e. expectation of the time average of the size of the unsheltered queue). "
   ]
  },
  {
   "cell_type": "code",
   "execution_count": null,
   "id": "8a99ce04",
   "metadata": {
    "collapsed": false
   },
   "outputs": [],
   "source": [
    "df_concat = df_analytic.sort_values(by='c',ascending=True).reset_index(drop=True).merge(df_sim, on = ['h1', 'h2', 'h3', 'h4', 'h5', 'h6', 'sh1', 'sh2', 'sh3', 'sh4', 'sh5', 'sh6'])\n",
    "df_concat.style.apply(lambda x: [\"background: pink\" if v == 24 else \"background: black\" if v==' ' else \"background: white\" for v in x], axis = 1)"
   ]
  },
  {
   "cell_type": "markdown",
   "id": "dca15118",
   "metadata": {
    "collapsed": false
   },
   "source": [
    "Above we see that the Sim Opt algorithm (KN) agrees with the analytic resuls that building housing early is the most favourable option given this setup. "
   ]
  },
  {
   "cell_type": "markdown",
   "id": "f00e88d4",
   "metadata": {
    "collapsed": false
   },
   "source": [
    "### A new solution space with shelter cheaper than housing\n",
    "\n",
    "There are clearly some real-world benefits to building shelter rather than housing which we should to some extent incorporate into the model. Two benefits might include: \n",
    "\n",
    "* shelter is cheaper to build than housing\n",
    "* shelter is quicker to build than housing. \n",
    "\n",
    "Firstly, we address the first bullet here and make shelter 0.5 times the price of housing. We achieve this by allowing double the number of shelter to be built, and changing the cost of the shelter, and keeping the annual budget the same. "
   ]
  },
  {
   "cell_type": "code",
   "execution_count": 20,
   "id": "b6467ee0",
   "metadata": {
    "collapsed": false
   },
   "outputs": [],
   "source": [
    "# solution space constraints\n",
    "build_rate_options = {'housing' : [12, 24], 'shelter' : [24, 48]}\n",
    "annual_budget = 36\n",
    "accommodation_budgets = {'housing' : 84, 'shelter' : 168}\n",
    "costs = {'housing': 1, 'shelter': 0.5}\n",
    "build_rate_length_years = 4\n",
    "\n",
    "# geneate solution space\n",
    "sols_cheap_shelter = rs.generate_solution_space(build_rate_options, annual_budget, accommodation_budgets, costs, build_rate_length_years)\n",
    "sols_cheap_shelter = rs.keep_max_budget(sols_cheap_shelter, costs, annual_budget)"
   ]
  },
  {
   "cell_type": "code",
   "execution_count": 21,
   "id": "c68fb1f6",
   "metadata": {
    "collapsed": false
   },
   "outputs": [],
   "source": [
    "# model analytically\n",
    "outputs_cheap_shelter = []\n",
    "for s in range(len(sols_cheap_shelter)):\n",
    "    q = qm.queue(data_as_is['arrival_rates'], \n",
    "                 data_as_is['service_mean'], \n",
    "                 data_as_is['initial_capacity'], \n",
    "                 sols_cheap_shelter[s], \n",
    "                 data_as_is['initial_demand'], \n",
    "                 data_as_is_analytical['max_in_system'],\n",
    "                 data_as_is['time_btwn_changes_in_build_rate'],\n",
    "                 data_as_is['time_btwn_building'])\n",
    "    q.model_dynamics(build_rate_length_years,\n",
    "                     data_as_is_analytical['delta_t'])\n",
    "    outputs_cheap_shelter.append(q.num_unsheltered_avg)"
   ]
  },
  {
   "cell_type": "code",
   "execution_count": 22,
   "id": "dea92e42",
   "metadata": {
    "collapsed": false
   },
   "outputs": [
    {
     "data": {
      "text/html": [
       "<style type=\"text/css\">\n",
       "#T_f57f7_row0_col0, #T_f57f7_row0_col1, #T_f57f7_row0_col2, #T_f57f7_row0_col3, #T_f57f7_row0_col8, #T_f57f7_row0_col9, #T_f57f7_row1_col0, #T_f57f7_row1_col1, #T_f57f7_row1_col2, #T_f57f7_row1_col3, #T_f57f7_row1_col7, #T_f57f7_row1_col9, #T_f57f7_row2_col0, #T_f57f7_row2_col1, #T_f57f7_row2_col2, #T_f57f7_row2_col3, #T_f57f7_row2_col7, #T_f57f7_row2_col8, #T_f57f7_row2_col9, #T_f57f7_row3_col0, #T_f57f7_row3_col1, #T_f57f7_row3_col2, #T_f57f7_row3_col3, #T_f57f7_row3_col6, #T_f57f7_row3_col9, #T_f57f7_row4_col0, #T_f57f7_row4_col1, #T_f57f7_row4_col2, #T_f57f7_row4_col3, #T_f57f7_row4_col6, #T_f57f7_row4_col8, #T_f57f7_row4_col9, #T_f57f7_row5_col0, #T_f57f7_row5_col1, #T_f57f7_row5_col2, #T_f57f7_row5_col3, #T_f57f7_row5_col6, #T_f57f7_row5_col7, #T_f57f7_row5_col9, #T_f57f7_row6_col0, #T_f57f7_row6_col1, #T_f57f7_row6_col2, #T_f57f7_row6_col3, #T_f57f7_row6_col6, #T_f57f7_row6_col7, #T_f57f7_row6_col8, #T_f57f7_row6_col9, #T_f57f7_row7_col0, #T_f57f7_row7_col1, #T_f57f7_row7_col2, #T_f57f7_row7_col3, #T_f57f7_row7_col5, #T_f57f7_row7_col9, #T_f57f7_row8_col0, #T_f57f7_row8_col1, #T_f57f7_row8_col2, #T_f57f7_row8_col3, #T_f57f7_row8_col5, #T_f57f7_row8_col8, #T_f57f7_row8_col9, #T_f57f7_row9_col0, #T_f57f7_row9_col1, #T_f57f7_row9_col2, #T_f57f7_row9_col3, #T_f57f7_row9_col5, #T_f57f7_row9_col7, #T_f57f7_row9_col9 {\n",
       "  background: white;\n",
       "}\n",
       "#T_f57f7_row0_col4, #T_f57f7_row1_col4, #T_f57f7_row2_col4, #T_f57f7_row3_col4, #T_f57f7_row4_col4, #T_f57f7_row5_col4, #T_f57f7_row6_col4, #T_f57f7_row7_col4, #T_f57f7_row8_col4, #T_f57f7_row9_col4 {\n",
       "  background: black;\n",
       "}\n",
       "#T_f57f7_row0_col5, #T_f57f7_row0_col6, #T_f57f7_row0_col7, #T_f57f7_row1_col5, #T_f57f7_row1_col6, #T_f57f7_row1_col8, #T_f57f7_row2_col5, #T_f57f7_row2_col6, #T_f57f7_row3_col5, #T_f57f7_row3_col7, #T_f57f7_row3_col8, #T_f57f7_row4_col5, #T_f57f7_row4_col7, #T_f57f7_row5_col5, #T_f57f7_row5_col8, #T_f57f7_row6_col5, #T_f57f7_row7_col6, #T_f57f7_row7_col7, #T_f57f7_row7_col8, #T_f57f7_row8_col6, #T_f57f7_row8_col7, #T_f57f7_row9_col6, #T_f57f7_row9_col8 {\n",
       "  background: pink;\n",
       "}\n",
       "</style>\n",
       "<table id=\"T_f57f7\">\n",
       "  <thead>\n",
       "    <tr>\n",
       "      <th class=\"blank level0\" >&nbsp;</th>\n",
       "      <th id=\"T_f57f7_level0_col0\" class=\"col_heading level0 col0\" >h1</th>\n",
       "      <th id=\"T_f57f7_level0_col1\" class=\"col_heading level0 col1\" >h2</th>\n",
       "      <th id=\"T_f57f7_level0_col2\" class=\"col_heading level0 col2\" >h3</th>\n",
       "      <th id=\"T_f57f7_level0_col3\" class=\"col_heading level0 col3\" >h4</th>\n",
       "      <th id=\"T_f57f7_level0_col4\" class=\"col_heading level0 col4\" > </th>\n",
       "      <th id=\"T_f57f7_level0_col5\" class=\"col_heading level0 col5\" >sh1</th>\n",
       "      <th id=\"T_f57f7_level0_col6\" class=\"col_heading level0 col6\" >sh2</th>\n",
       "      <th id=\"T_f57f7_level0_col7\" class=\"col_heading level0 col7\" >sh3</th>\n",
       "      <th id=\"T_f57f7_level0_col8\" class=\"col_heading level0 col8\" >sh4</th>\n",
       "      <th id=\"T_f57f7_level0_col9\" class=\"col_heading level0 col9\" >c</th>\n",
       "    </tr>\n",
       "  </thead>\n",
       "  <tbody>\n",
       "    <tr>\n",
       "      <th id=\"T_f57f7_level0_row0\" class=\"row_heading level0 row0\" >0</th>\n",
       "      <td id=\"T_f57f7_row0_col0\" class=\"data row0 col0\" >12</td>\n",
       "      <td id=\"T_f57f7_row0_col1\" class=\"data row0 col1\" >12</td>\n",
       "      <td id=\"T_f57f7_row0_col2\" class=\"data row0 col2\" >12</td>\n",
       "      <td id=\"T_f57f7_row0_col3\" class=\"data row0 col3\" >24</td>\n",
       "      <td id=\"T_f57f7_row0_col4\" class=\"data row0 col4\" > </td>\n",
       "      <td id=\"T_f57f7_row0_col5\" class=\"data row0 col5\" >48</td>\n",
       "      <td id=\"T_f57f7_row0_col6\" class=\"data row0 col6\" >48</td>\n",
       "      <td id=\"T_f57f7_row0_col7\" class=\"data row0 col7\" >48</td>\n",
       "      <td id=\"T_f57f7_row0_col8\" class=\"data row0 col8\" >24</td>\n",
       "      <td id=\"T_f57f7_row0_col9\" class=\"data row0 col9\" >15.296606</td>\n",
       "    </tr>\n",
       "    <tr>\n",
       "      <th id=\"T_f57f7_level0_row1\" class=\"row_heading level0 row1\" >1</th>\n",
       "      <td id=\"T_f57f7_row1_col0\" class=\"data row1 col0\" >12</td>\n",
       "      <td id=\"T_f57f7_row1_col1\" class=\"data row1 col1\" >12</td>\n",
       "      <td id=\"T_f57f7_row1_col2\" class=\"data row1 col2\" >24</td>\n",
       "      <td id=\"T_f57f7_row1_col3\" class=\"data row1 col3\" >12</td>\n",
       "      <td id=\"T_f57f7_row1_col4\" class=\"data row1 col4\" > </td>\n",
       "      <td id=\"T_f57f7_row1_col5\" class=\"data row1 col5\" >48</td>\n",
       "      <td id=\"T_f57f7_row1_col6\" class=\"data row1 col6\" >48</td>\n",
       "      <td id=\"T_f57f7_row1_col7\" class=\"data row1 col7\" >24</td>\n",
       "      <td id=\"T_f57f7_row1_col8\" class=\"data row1 col8\" >48</td>\n",
       "      <td id=\"T_f57f7_row1_col9\" class=\"data row1 col9\" >15.571613</td>\n",
       "    </tr>\n",
       "    <tr>\n",
       "      <th id=\"T_f57f7_level0_row2\" class=\"row_heading level0 row2\" >2</th>\n",
       "      <td id=\"T_f57f7_row2_col0\" class=\"data row2 col0\" >12</td>\n",
       "      <td id=\"T_f57f7_row2_col1\" class=\"data row2 col1\" >12</td>\n",
       "      <td id=\"T_f57f7_row2_col2\" class=\"data row2 col2\" >24</td>\n",
       "      <td id=\"T_f57f7_row2_col3\" class=\"data row2 col3\" >24</td>\n",
       "      <td id=\"T_f57f7_row2_col4\" class=\"data row2 col4\" > </td>\n",
       "      <td id=\"T_f57f7_row2_col5\" class=\"data row2 col5\" >48</td>\n",
       "      <td id=\"T_f57f7_row2_col6\" class=\"data row2 col6\" >48</td>\n",
       "      <td id=\"T_f57f7_row2_col7\" class=\"data row2 col7\" >24</td>\n",
       "      <td id=\"T_f57f7_row2_col8\" class=\"data row2 col8\" >24</td>\n",
       "      <td id=\"T_f57f7_row2_col9\" class=\"data row2 col9\" >15.599233</td>\n",
       "    </tr>\n",
       "    <tr>\n",
       "      <th id=\"T_f57f7_level0_row3\" class=\"row_heading level0 row3\" >3</th>\n",
       "      <td id=\"T_f57f7_row3_col0\" class=\"data row3 col0\" >12</td>\n",
       "      <td id=\"T_f57f7_row3_col1\" class=\"data row3 col1\" >24</td>\n",
       "      <td id=\"T_f57f7_row3_col2\" class=\"data row3 col2\" >12</td>\n",
       "      <td id=\"T_f57f7_row3_col3\" class=\"data row3 col3\" >12</td>\n",
       "      <td id=\"T_f57f7_row3_col4\" class=\"data row3 col4\" > </td>\n",
       "      <td id=\"T_f57f7_row3_col5\" class=\"data row3 col5\" >48</td>\n",
       "      <td id=\"T_f57f7_row3_col6\" class=\"data row3 col6\" >24</td>\n",
       "      <td id=\"T_f57f7_row3_col7\" class=\"data row3 col7\" >48</td>\n",
       "      <td id=\"T_f57f7_row3_col8\" class=\"data row3 col8\" >48</td>\n",
       "      <td id=\"T_f57f7_row3_col9\" class=\"data row3 col9\" >17.418341</td>\n",
       "    </tr>\n",
       "    <tr>\n",
       "      <th id=\"T_f57f7_level0_row4\" class=\"row_heading level0 row4\" >4</th>\n",
       "      <td id=\"T_f57f7_row4_col0\" class=\"data row4 col0\" >12</td>\n",
       "      <td id=\"T_f57f7_row4_col1\" class=\"data row4 col1\" >24</td>\n",
       "      <td id=\"T_f57f7_row4_col2\" class=\"data row4 col2\" >12</td>\n",
       "      <td id=\"T_f57f7_row4_col3\" class=\"data row4 col3\" >24</td>\n",
       "      <td id=\"T_f57f7_row4_col4\" class=\"data row4 col4\" > </td>\n",
       "      <td id=\"T_f57f7_row4_col5\" class=\"data row4 col5\" >48</td>\n",
       "      <td id=\"T_f57f7_row4_col6\" class=\"data row4 col6\" >24</td>\n",
       "      <td id=\"T_f57f7_row4_col7\" class=\"data row4 col7\" >48</td>\n",
       "      <td id=\"T_f57f7_row4_col8\" class=\"data row4 col8\" >24</td>\n",
       "      <td id=\"T_f57f7_row4_col9\" class=\"data row4 col9\" >17.436595</td>\n",
       "    </tr>\n",
       "    <tr>\n",
       "      <th id=\"T_f57f7_level0_row5\" class=\"row_heading level0 row5\" >5</th>\n",
       "      <td id=\"T_f57f7_row5_col0\" class=\"data row5 col0\" >12</td>\n",
       "      <td id=\"T_f57f7_row5_col1\" class=\"data row5 col1\" >24</td>\n",
       "      <td id=\"T_f57f7_row5_col2\" class=\"data row5 col2\" >24</td>\n",
       "      <td id=\"T_f57f7_row5_col3\" class=\"data row5 col3\" >12</td>\n",
       "      <td id=\"T_f57f7_row5_col4\" class=\"data row5 col4\" > </td>\n",
       "      <td id=\"T_f57f7_row5_col5\" class=\"data row5 col5\" >48</td>\n",
       "      <td id=\"T_f57f7_row5_col6\" class=\"data row5 col6\" >24</td>\n",
       "      <td id=\"T_f57f7_row5_col7\" class=\"data row5 col7\" >24</td>\n",
       "      <td id=\"T_f57f7_row5_col8\" class=\"data row5 col8\" >48</td>\n",
       "      <td id=\"T_f57f7_row5_col9\" class=\"data row5 col9\" >18.097754</td>\n",
       "    </tr>\n",
       "    <tr>\n",
       "      <th id=\"T_f57f7_level0_row6\" class=\"row_heading level0 row6\" >6</th>\n",
       "      <td id=\"T_f57f7_row6_col0\" class=\"data row6 col0\" >12</td>\n",
       "      <td id=\"T_f57f7_row6_col1\" class=\"data row6 col1\" >24</td>\n",
       "      <td id=\"T_f57f7_row6_col2\" class=\"data row6 col2\" >24</td>\n",
       "      <td id=\"T_f57f7_row6_col3\" class=\"data row6 col3\" >24</td>\n",
       "      <td id=\"T_f57f7_row6_col4\" class=\"data row6 col4\" > </td>\n",
       "      <td id=\"T_f57f7_row6_col5\" class=\"data row6 col5\" >48</td>\n",
       "      <td id=\"T_f57f7_row6_col6\" class=\"data row6 col6\" >24</td>\n",
       "      <td id=\"T_f57f7_row6_col7\" class=\"data row6 col7\" >24</td>\n",
       "      <td id=\"T_f57f7_row6_col8\" class=\"data row6 col8\" >24</td>\n",
       "      <td id=\"T_f57f7_row6_col9\" class=\"data row6 col9\" >18.171364</td>\n",
       "    </tr>\n",
       "    <tr>\n",
       "      <th id=\"T_f57f7_level0_row7\" class=\"row_heading level0 row7\" >7</th>\n",
       "      <td id=\"T_f57f7_row7_col0\" class=\"data row7 col0\" >24</td>\n",
       "      <td id=\"T_f57f7_row7_col1\" class=\"data row7 col1\" >12</td>\n",
       "      <td id=\"T_f57f7_row7_col2\" class=\"data row7 col2\" >12</td>\n",
       "      <td id=\"T_f57f7_row7_col3\" class=\"data row7 col3\" >12</td>\n",
       "      <td id=\"T_f57f7_row7_col4\" class=\"data row7 col4\" > </td>\n",
       "      <td id=\"T_f57f7_row7_col5\" class=\"data row7 col5\" >24</td>\n",
       "      <td id=\"T_f57f7_row7_col6\" class=\"data row7 col6\" >48</td>\n",
       "      <td id=\"T_f57f7_row7_col7\" class=\"data row7 col7\" >48</td>\n",
       "      <td id=\"T_f57f7_row7_col8\" class=\"data row7 col8\" >48</td>\n",
       "      <td id=\"T_f57f7_row7_col9\" class=\"data row7 col9\" >19.532380</td>\n",
       "    </tr>\n",
       "    <tr>\n",
       "      <th id=\"T_f57f7_level0_row8\" class=\"row_heading level0 row8\" >8</th>\n",
       "      <td id=\"T_f57f7_row8_col0\" class=\"data row8 col0\" >24</td>\n",
       "      <td id=\"T_f57f7_row8_col1\" class=\"data row8 col1\" >12</td>\n",
       "      <td id=\"T_f57f7_row8_col2\" class=\"data row8 col2\" >12</td>\n",
       "      <td id=\"T_f57f7_row8_col3\" class=\"data row8 col3\" >24</td>\n",
       "      <td id=\"T_f57f7_row8_col4\" class=\"data row8 col4\" > </td>\n",
       "      <td id=\"T_f57f7_row8_col5\" class=\"data row8 col5\" >24</td>\n",
       "      <td id=\"T_f57f7_row8_col6\" class=\"data row8 col6\" >48</td>\n",
       "      <td id=\"T_f57f7_row8_col7\" class=\"data row8 col7\" >48</td>\n",
       "      <td id=\"T_f57f7_row8_col8\" class=\"data row8 col8\" >24</td>\n",
       "      <td id=\"T_f57f7_row8_col9\" class=\"data row8 col9\" >19.544187</td>\n",
       "    </tr>\n",
       "    <tr>\n",
       "      <th id=\"T_f57f7_level0_row9\" class=\"row_heading level0 row9\" >9</th>\n",
       "      <td id=\"T_f57f7_row9_col0\" class=\"data row9 col0\" >24</td>\n",
       "      <td id=\"T_f57f7_row9_col1\" class=\"data row9 col1\" >12</td>\n",
       "      <td id=\"T_f57f7_row9_col2\" class=\"data row9 col2\" >24</td>\n",
       "      <td id=\"T_f57f7_row9_col3\" class=\"data row9 col3\" >12</td>\n",
       "      <td id=\"T_f57f7_row9_col4\" class=\"data row9 col4\" > </td>\n",
       "      <td id=\"T_f57f7_row9_col5\" class=\"data row9 col5\" >24</td>\n",
       "      <td id=\"T_f57f7_row9_col6\" class=\"data row9 col6\" >48</td>\n",
       "      <td id=\"T_f57f7_row9_col7\" class=\"data row9 col7\" >24</td>\n",
       "      <td id=\"T_f57f7_row9_col8\" class=\"data row9 col8\" >48</td>\n",
       "      <td id=\"T_f57f7_row9_col9\" class=\"data row9 col9\" >20.069642</td>\n",
       "    </tr>\n",
       "  </tbody>\n",
       "</table>\n"
      ],
      "text/plain": [
       "<pandas.io.formats.style.Styler at 0x7fb308acbb50>"
      ]
     },
     "execution_count": 22,
     "metadata": {},
     "output_type": "execute_result"
    }
   ],
   "source": [
    "# Dataframe of analytic results\n",
    "my_list = []\n",
    "for i in range(len(sols_cheap_shelter)):\n",
    "    my_dict = {}\n",
    "    for index, element in enumerate(sols_cheap_shelter[i]['housing']):\n",
    "        my_dict[index] = element\n",
    "    my_dict[build_rate_length_years] = \" \"\n",
    "    for index, element in enumerate(sols_cheap_shelter[i]['shelter']):\n",
    "        my_dict[index+build_rate_length_years + 1] = element\n",
    "    my_dict[build_rate_length_years*2 + 1] = outputs_cheap_shelter[i]\n",
    "    my_list.append(my_dict)\n",
    "df_analytic = pd.DataFrame.from_dict(my_list)\n",
    "df_analytic.columns = ['h1', 'h2', 'h3', 'h4', ' ', 'sh1', 'sh2', 'sh3', 'sh4', 'c']\n",
    "\n",
    "df_analytic = df_analytic.sort_values(by='c',ascending=True).reset_index(drop=True)\n",
    "df_analytic.head(n=10).style.apply(lambda x: [\"background: pink\" if v == 48 else \"background: black\" if v==' ' else \"background: white\" for v in x], axis = 1)"
   ]
  },
  {
   "cell_type": "markdown",
   "id": "bb9f0eb0",
   "metadata": {
    "collapsed": false
   },
   "source": [
    "### A new solution space with shelter cheaper than housing and allowing zero shelter or zero housing to be built. "
   ]
  },
  {
   "cell_type": "code",
   "execution_count": 23,
   "id": "438958c9",
   "metadata": {
    "collapsed": false
   },
   "outputs": [],
   "source": [
    "# solution space constraints\n",
    "build_rate_options = {'housing' : [0, 9, 18], 'shelter' : [0, 18, 36]}\n",
    "annual_budget = 18\n",
    "accommodation_budgets = {'housing' : 54, 'shelter' : 108}\n",
    "costs = {'housing': 1, 'shelter': 0.5}\n",
    "build_rate_length_years = 4\n",
    "\n",
    "# geneate solution space\n",
    "sols_cheap_shelter_inc_zero = rs.generate_solution_space(build_rate_options, annual_budget, accommodation_budgets, costs, build_rate_length_years)\n",
    "sols_cheap_shelter_inc_zero = rs.keep_max_budget(sols_cheap_shelter_inc_zero, costs, annual_budget)"
   ]
  },
  {
   "cell_type": "code",
   "execution_count": 24,
   "id": "c743890f",
   "metadata": {
    "collapsed": false
   },
   "outputs": [],
   "source": [
    "# model analytically\n",
    "outputs_cheap_shelter_inc_zero = []\n",
    "for s in range(len(sols_cheap_shelter_inc_zero)):\n",
    "    q = qm.queue(data_as_is['arrival_rates'], \n",
    "                 data_as_is['service_mean'], \n",
    "                 data_as_is['initial_capacity'], \n",
    "                 sols_cheap_shelter_inc_zero[s], \n",
    "                 data_as_is['initial_demand'], \n",
    "                 data_as_is_analytical['max_in_system'],\n",
    "                 data_as_is['time_btwn_changes_in_build_rate'],\n",
    "                 data_as_is['time_btwn_building'])\n",
    "    q.model_dynamics(build_rate_length_years,\n",
    "                     data_as_is_analytical['delta_t'])\n",
    "    outputs_cheap_shelter_inc_zero.append(q.num_unsheltered_avg)"
   ]
  },
  {
   "cell_type": "code",
   "execution_count": 25,
   "id": "85d07c61",
   "metadata": {
    "collapsed": false
   },
   "outputs": [
    {
     "data": {
      "text/html": [
       "<style type=\"text/css\">\n",
       "#T_561fb_row0_col0, #T_561fb_row0_col1, #T_561fb_row0_col2, #T_561fb_row0_col3, #T_561fb_row0_col8, #T_561fb_row0_col9, #T_561fb_row1_col0, #T_561fb_row1_col1, #T_561fb_row1_col2, #T_561fb_row1_col3, #T_561fb_row1_col7, #T_561fb_row1_col8, #T_561fb_row1_col9, #T_561fb_row2_col0, #T_561fb_row2_col1, #T_561fb_row2_col2, #T_561fb_row2_col3, #T_561fb_row2_col7, #T_561fb_row2_col9, #T_561fb_row3_col0, #T_561fb_row3_col1, #T_561fb_row3_col2, #T_561fb_row3_col3, #T_561fb_row3_col7, #T_561fb_row3_col8, #T_561fb_row3_col9, #T_561fb_row4_col0, #T_561fb_row4_col1, #T_561fb_row4_col2, #T_561fb_row4_col3, #T_561fb_row4_col7, #T_561fb_row4_col8, #T_561fb_row4_col9, #T_561fb_row5_col0, #T_561fb_row5_col1, #T_561fb_row5_col2, #T_561fb_row5_col3, #T_561fb_row5_col7, #T_561fb_row5_col8, #T_561fb_row5_col9, #T_561fb_row6_col0, #T_561fb_row6_col1, #T_561fb_row6_col2, #T_561fb_row6_col3, #T_561fb_row6_col6, #T_561fb_row6_col8, #T_561fb_row6_col9, #T_561fb_row7_col0, #T_561fb_row7_col1, #T_561fb_row7_col2, #T_561fb_row7_col3, #T_561fb_row7_col6, #T_561fb_row7_col9, #T_561fb_row8_col0, #T_561fb_row8_col1, #T_561fb_row8_col2, #T_561fb_row8_col3, #T_561fb_row8_col6, #T_561fb_row8_col8, #T_561fb_row8_col9, #T_561fb_row9_col0, #T_561fb_row9_col1, #T_561fb_row9_col2, #T_561fb_row9_col3, #T_561fb_row9_col6, #T_561fb_row9_col8, #T_561fb_row9_col9 {\n",
       "  background: white;\n",
       "}\n",
       "#T_561fb_row0_col4, #T_561fb_row1_col4, #T_561fb_row2_col4, #T_561fb_row3_col4, #T_561fb_row4_col4, #T_561fb_row5_col4, #T_561fb_row6_col4, #T_561fb_row7_col4, #T_561fb_row8_col4, #T_561fb_row9_col4 {\n",
       "  background: black;\n",
       "}\n",
       "#T_561fb_row0_col5, #T_561fb_row0_col6, #T_561fb_row0_col7, #T_561fb_row1_col5, #T_561fb_row1_col6, #T_561fb_row2_col5, #T_561fb_row2_col6, #T_561fb_row2_col8, #T_561fb_row3_col5, #T_561fb_row3_col6, #T_561fb_row4_col5, #T_561fb_row4_col6, #T_561fb_row5_col5, #T_561fb_row5_col6, #T_561fb_row6_col5, #T_561fb_row6_col7, #T_561fb_row7_col5, #T_561fb_row7_col7, #T_561fb_row7_col8, #T_561fb_row8_col5, #T_561fb_row8_col7, #T_561fb_row9_col5, #T_561fb_row9_col7 {\n",
       "  background: pink;\n",
       "}\n",
       "</style>\n",
       "<table id=\"T_561fb\">\n",
       "  <thead>\n",
       "    <tr>\n",
       "      <th class=\"blank level0\" >&nbsp;</th>\n",
       "      <th id=\"T_561fb_level0_col0\" class=\"col_heading level0 col0\" >h1</th>\n",
       "      <th id=\"T_561fb_level0_col1\" class=\"col_heading level0 col1\" >h2</th>\n",
       "      <th id=\"T_561fb_level0_col2\" class=\"col_heading level0 col2\" >h3</th>\n",
       "      <th id=\"T_561fb_level0_col3\" class=\"col_heading level0 col3\" >h4</th>\n",
       "      <th id=\"T_561fb_level0_col4\" class=\"col_heading level0 col4\" > </th>\n",
       "      <th id=\"T_561fb_level0_col5\" class=\"col_heading level0 col5\" >sh1</th>\n",
       "      <th id=\"T_561fb_level0_col6\" class=\"col_heading level0 col6\" >sh2</th>\n",
       "      <th id=\"T_561fb_level0_col7\" class=\"col_heading level0 col7\" >sh3</th>\n",
       "      <th id=\"T_561fb_level0_col8\" class=\"col_heading level0 col8\" >sh4</th>\n",
       "      <th id=\"T_561fb_level0_col9\" class=\"col_heading level0 col9\" >c</th>\n",
       "    </tr>\n",
       "  </thead>\n",
       "  <tbody>\n",
       "    <tr>\n",
       "      <th id=\"T_561fb_level0_row0\" class=\"row_heading level0 row0\" >0</th>\n",
       "      <td id=\"T_561fb_row0_col0\" class=\"data row0 col0\" >0</td>\n",
       "      <td id=\"T_561fb_row0_col1\" class=\"data row0 col1\" >0</td>\n",
       "      <td id=\"T_561fb_row0_col2\" class=\"data row0 col2\" >0</td>\n",
       "      <td id=\"T_561fb_row0_col3\" class=\"data row0 col3\" >18</td>\n",
       "      <td id=\"T_561fb_row0_col4\" class=\"data row0 col4\" > </td>\n",
       "      <td id=\"T_561fb_row0_col5\" class=\"data row0 col5\" >36</td>\n",
       "      <td id=\"T_561fb_row0_col6\" class=\"data row0 col6\" >36</td>\n",
       "      <td id=\"T_561fb_row0_col7\" class=\"data row0 col7\" >36</td>\n",
       "      <td id=\"T_561fb_row0_col8\" class=\"data row0 col8\" >0</td>\n",
       "      <td id=\"T_561fb_row0_col9\" class=\"data row0 col9\" >59.591898</td>\n",
       "    </tr>\n",
       "    <tr>\n",
       "      <th id=\"T_561fb_level0_row1\" class=\"row_heading level0 row1\" >1</th>\n",
       "      <td id=\"T_561fb_row1_col0\" class=\"data row1 col0\" >0</td>\n",
       "      <td id=\"T_561fb_row1_col1\" class=\"data row1 col1\" >0</td>\n",
       "      <td id=\"T_561fb_row1_col2\" class=\"data row1 col2\" >9</td>\n",
       "      <td id=\"T_561fb_row1_col3\" class=\"data row1 col3\" >9</td>\n",
       "      <td id=\"T_561fb_row1_col4\" class=\"data row1 col4\" > </td>\n",
       "      <td id=\"T_561fb_row1_col5\" class=\"data row1 col5\" >36</td>\n",
       "      <td id=\"T_561fb_row1_col6\" class=\"data row1 col6\" >36</td>\n",
       "      <td id=\"T_561fb_row1_col7\" class=\"data row1 col7\" >18</td>\n",
       "      <td id=\"T_561fb_row1_col8\" class=\"data row1 col8\" >18</td>\n",
       "      <td id=\"T_561fb_row1_col9\" class=\"data row1 col9\" >63.096220</td>\n",
       "    </tr>\n",
       "    <tr>\n",
       "      <th id=\"T_561fb_level0_row2\" class=\"row_heading level0 row2\" >2</th>\n",
       "      <td id=\"T_561fb_row2_col0\" class=\"data row2 col0\" >0</td>\n",
       "      <td id=\"T_561fb_row2_col1\" class=\"data row2 col1\" >0</td>\n",
       "      <td id=\"T_561fb_row2_col2\" class=\"data row2 col2\" >18</td>\n",
       "      <td id=\"T_561fb_row2_col3\" class=\"data row2 col3\" >0</td>\n",
       "      <td id=\"T_561fb_row2_col4\" class=\"data row2 col4\" > </td>\n",
       "      <td id=\"T_561fb_row2_col5\" class=\"data row2 col5\" >36</td>\n",
       "      <td id=\"T_561fb_row2_col6\" class=\"data row2 col6\" >36</td>\n",
       "      <td id=\"T_561fb_row2_col7\" class=\"data row2 col7\" >0</td>\n",
       "      <td id=\"T_561fb_row2_col8\" class=\"data row2 col8\" >36</td>\n",
       "      <td id=\"T_561fb_row2_col9\" class=\"data row2 col9\" >63.241260</td>\n",
       "    </tr>\n",
       "    <tr>\n",
       "      <th id=\"T_561fb_level0_row3\" class=\"row_heading level0 row3\" >3</th>\n",
       "      <td id=\"T_561fb_row3_col0\" class=\"data row3 col0\" >0</td>\n",
       "      <td id=\"T_561fb_row3_col1\" class=\"data row3 col1\" >0</td>\n",
       "      <td id=\"T_561fb_row3_col2\" class=\"data row3 col2\" >9</td>\n",
       "      <td id=\"T_561fb_row3_col3\" class=\"data row3 col3\" >18</td>\n",
       "      <td id=\"T_561fb_row3_col4\" class=\"data row3 col4\" > </td>\n",
       "      <td id=\"T_561fb_row3_col5\" class=\"data row3 col5\" >36</td>\n",
       "      <td id=\"T_561fb_row3_col6\" class=\"data row3 col6\" >36</td>\n",
       "      <td id=\"T_561fb_row3_col7\" class=\"data row3 col7\" >18</td>\n",
       "      <td id=\"T_561fb_row3_col8\" class=\"data row3 col8\" >0</td>\n",
       "      <td id=\"T_561fb_row3_col9\" class=\"data row3 col9\" >63.681442</td>\n",
       "    </tr>\n",
       "    <tr>\n",
       "      <th id=\"T_561fb_level0_row4\" class=\"row_heading level0 row4\" >4</th>\n",
       "      <td id=\"T_561fb_row4_col0\" class=\"data row4 col0\" >0</td>\n",
       "      <td id=\"T_561fb_row4_col1\" class=\"data row4 col1\" >0</td>\n",
       "      <td id=\"T_561fb_row4_col2\" class=\"data row4 col2\" >18</td>\n",
       "      <td id=\"T_561fb_row4_col3\" class=\"data row4 col3\" >9</td>\n",
       "      <td id=\"T_561fb_row4_col4\" class=\"data row4 col4\" > </td>\n",
       "      <td id=\"T_561fb_row4_col5\" class=\"data row4 col5\" >36</td>\n",
       "      <td id=\"T_561fb_row4_col6\" class=\"data row4 col6\" >36</td>\n",
       "      <td id=\"T_561fb_row4_col7\" class=\"data row4 col7\" >0</td>\n",
       "      <td id=\"T_561fb_row4_col8\" class=\"data row4 col8\" >18</td>\n",
       "      <td id=\"T_561fb_row4_col9\" class=\"data row4 col9\" >64.560241</td>\n",
       "    </tr>\n",
       "    <tr>\n",
       "      <th id=\"T_561fb_level0_row5\" class=\"row_heading level0 row5\" >5</th>\n",
       "      <td id=\"T_561fb_row5_col0\" class=\"data row5 col0\" >0</td>\n",
       "      <td id=\"T_561fb_row5_col1\" class=\"data row5 col1\" >0</td>\n",
       "      <td id=\"T_561fb_row5_col2\" class=\"data row5 col2\" >18</td>\n",
       "      <td id=\"T_561fb_row5_col3\" class=\"data row5 col3\" >18</td>\n",
       "      <td id=\"T_561fb_row5_col4\" class=\"data row5 col4\" > </td>\n",
       "      <td id=\"T_561fb_row5_col5\" class=\"data row5 col5\" >36</td>\n",
       "      <td id=\"T_561fb_row5_col6\" class=\"data row5 col6\" >36</td>\n",
       "      <td id=\"T_561fb_row5_col7\" class=\"data row5 col7\" >0</td>\n",
       "      <td id=\"T_561fb_row5_col8\" class=\"data row5 col8\" >0</td>\n",
       "      <td id=\"T_561fb_row5_col9\" class=\"data row5 col9\" >65.145462</td>\n",
       "    </tr>\n",
       "    <tr>\n",
       "      <th id=\"T_561fb_level0_row6\" class=\"row_heading level0 row6\" >6</th>\n",
       "      <td id=\"T_561fb_row6_col0\" class=\"data row6 col0\" >0</td>\n",
       "      <td id=\"T_561fb_row6_col1\" class=\"data row6 col1\" >9</td>\n",
       "      <td id=\"T_561fb_row6_col2\" class=\"data row6 col2\" >0</td>\n",
       "      <td id=\"T_561fb_row6_col3\" class=\"data row6 col3\" >9</td>\n",
       "      <td id=\"T_561fb_row6_col4\" class=\"data row6 col4\" > </td>\n",
       "      <td id=\"T_561fb_row6_col5\" class=\"data row6 col5\" >36</td>\n",
       "      <td id=\"T_561fb_row6_col6\" class=\"data row6 col6\" >18</td>\n",
       "      <td id=\"T_561fb_row6_col7\" class=\"data row6 col7\" >36</td>\n",
       "      <td id=\"T_561fb_row6_col8\" class=\"data row6 col8\" >18</td>\n",
       "      <td id=\"T_561fb_row6_col9\" class=\"data row6 col9\" >65.506892</td>\n",
       "    </tr>\n",
       "    <tr>\n",
       "      <th id=\"T_561fb_level0_row7\" class=\"row_heading level0 row7\" >7</th>\n",
       "      <td id=\"T_561fb_row7_col0\" class=\"data row7 col0\" >0</td>\n",
       "      <td id=\"T_561fb_row7_col1\" class=\"data row7 col1\" >18</td>\n",
       "      <td id=\"T_561fb_row7_col2\" class=\"data row7 col2\" >0</td>\n",
       "      <td id=\"T_561fb_row7_col3\" class=\"data row7 col3\" >0</td>\n",
       "      <td id=\"T_561fb_row7_col4\" class=\"data row7 col4\" > </td>\n",
       "      <td id=\"T_561fb_row7_col5\" class=\"data row7 col5\" >36</td>\n",
       "      <td id=\"T_561fb_row7_col6\" class=\"data row7 col6\" >0</td>\n",
       "      <td id=\"T_561fb_row7_col7\" class=\"data row7 col7\" >36</td>\n",
       "      <td id=\"T_561fb_row7_col8\" class=\"data row7 col8\" >36</td>\n",
       "      <td id=\"T_561fb_row7_col9\" class=\"data row7 col9\" >65.813002</td>\n",
       "    </tr>\n",
       "    <tr>\n",
       "      <th id=\"T_561fb_level0_row8\" class=\"row_heading level0 row8\" >8</th>\n",
       "      <td id=\"T_561fb_row8_col0\" class=\"data row8 col0\" >0</td>\n",
       "      <td id=\"T_561fb_row8_col1\" class=\"data row8 col1\" >9</td>\n",
       "      <td id=\"T_561fb_row8_col2\" class=\"data row8 col2\" >0</td>\n",
       "      <td id=\"T_561fb_row8_col3\" class=\"data row8 col3\" >18</td>\n",
       "      <td id=\"T_561fb_row8_col4\" class=\"data row8 col4\" > </td>\n",
       "      <td id=\"T_561fb_row8_col5\" class=\"data row8 col5\" >36</td>\n",
       "      <td id=\"T_561fb_row8_col6\" class=\"data row8 col6\" >18</td>\n",
       "      <td id=\"T_561fb_row8_col7\" class=\"data row8 col7\" >36</td>\n",
       "      <td id=\"T_561fb_row8_col8\" class=\"data row8 col8\" >0</td>\n",
       "      <td id=\"T_561fb_row8_col9\" class=\"data row8 col9\" >66.092114</td>\n",
       "    </tr>\n",
       "    <tr>\n",
       "      <th id=\"T_561fb_level0_row9\" class=\"row_heading level0 row9\" >9</th>\n",
       "      <td id=\"T_561fb_row9_col0\" class=\"data row9 col0\" >0</td>\n",
       "      <td id=\"T_561fb_row9_col1\" class=\"data row9 col1\" >18</td>\n",
       "      <td id=\"T_561fb_row9_col2\" class=\"data row9 col2\" >0</td>\n",
       "      <td id=\"T_561fb_row9_col3\" class=\"data row9 col3\" >9</td>\n",
       "      <td id=\"T_561fb_row9_col4\" class=\"data row9 col4\" > </td>\n",
       "      <td id=\"T_561fb_row9_col5\" class=\"data row9 col5\" >36</td>\n",
       "      <td id=\"T_561fb_row9_col6\" class=\"data row9 col6\" >0</td>\n",
       "      <td id=\"T_561fb_row9_col7\" class=\"data row9 col7\" >36</td>\n",
       "      <td id=\"T_561fb_row9_col8\" class=\"data row9 col8\" >18</td>\n",
       "      <td id=\"T_561fb_row9_col9\" class=\"data row9 col9\" >67.131982</td>\n",
       "    </tr>\n",
       "  </tbody>\n",
       "</table>\n"
      ],
      "text/plain": [
       "<pandas.io.formats.style.Styler at 0x7fb310fe0750>"
      ]
     },
     "execution_count": 25,
     "metadata": {},
     "output_type": "execute_result"
    }
   ],
   "source": [
    "# Dataframe of analytic results\n",
    "my_list = []\n",
    "for i in range(len(sols_cheap_shelter_inc_zero)):\n",
    "    my_dict = {}\n",
    "    for index, element in enumerate(sols_cheap_shelter_inc_zero[i]['housing']):\n",
    "        my_dict[index] = element\n",
    "    my_dict[build_rate_length_years] = \" \"\n",
    "    for index, element in enumerate(sols_cheap_shelter_inc_zero[i]['shelter']):\n",
    "        my_dict[index+build_rate_length_years+1] = element\n",
    "    my_dict[build_rate_length_years*2 +1] = outputs_cheap_shelter_inc_zero[i]\n",
    "    my_list.append(my_dict)\n",
    "df_analytic = pd.DataFrame.from_dict(my_list)\n",
    "df_analytic.columns = ['h1', 'h2', 'h3', 'h4', ' ', 'sh1', 'sh2', 'sh3', 'sh4', 'c']\n",
    "\n",
    "df_analytic = df_analytic.sort_values(by='c',ascending=True).reset_index(drop=True)\n",
    "df_analytic.head(n=10).style.apply(lambda x: [\"background: pink\" if v == 36 else \"background: black\" if v==' ' else \"background: white\" for v in x], axis = 1)"
   ]
  },
  {
   "cell_type": "markdown",
   "id": "29ebd5a1",
   "metadata": {
    "collapsed": false
   },
   "source": [
    "This indicates that given the new current set up - with cheaper shelter - shelter is always preferred over housing and even given the option of building a mix of shelter and housing, we would always opt for building no housing and all the shelter we can afford in this set up. "
   ]
  },
  {
   "cell_type": "markdown",
   "id": "43770103",
   "metadata": {
    "collapsed": false
   },
   "source": [
    "### Exploring a range of different 'housing proportions'"
   ]
  },
  {
   "cell_type": "markdown",
   "id": "d7055590",
   "metadata": {
    "collapsed": false
   },
   "source": [
    "In the previous example we looked at three different options each year: \n",
    "\n",
    "* 100\\% housing\n",
    "* 100\\% shelter\n",
    "* 1/3 housing, 2/3 shelter. \n",
    "\n",
    "The analytical results indicate (given current set up) that 100\\% housing is preferred. We now want to look at a wider range of proportions for housing. \n",
    "\n",
    "We below develop a relatively small solution space, but covering a wider range of housing proportions. "
   ]
  },
  {
   "cell_type": "code",
   "execution_count": 26,
   "id": "d9bcaa38",
   "metadata": {
    "collapsed": false
   },
   "outputs": [],
   "source": [
    "# solution space constraints\n",
    "build_rate_options = {'housing' : [12, 24], 'shelter' : [12,24]}\n",
    "annual_budget = 36\n",
    "accommodation_budgets = {'housing' : 72, 'shelter' : 72}\n",
    "costs = {'housing': 1, 'shelter': 0.5}\n",
    "build_rate_length_years = 4\n",
    "\n",
    "# geneate solution space\n",
    "num_build_points = round(data_as_is['time_btwn_changes_in_build_rate']/data_as_is['time_btwn_building'])\n",
    "house_builds = [i for i in range(int(annual_budget/num_build_points)+1)] # every two months\n",
    "sols_range = []\n",
    "\n",
    "for n in house_builds: \n",
    "    new_sol = {'housing':[0 for i in range(build_rate_length_years)], 'shelter':[0 for i in range(build_rate_length_years)]}\n",
    "    for i in range(build_rate_length_years):\n",
    "        new_sol['housing'][i] = int(n*num_build_points)\n",
    "        new_sol['shelter'][i] = int((annual_budget - (n*num_build_points))*(1/costs['shelter']))\n",
    "    sols_range.append(new_sol)"
   ]
  },
  {
   "cell_type": "code",
   "execution_count": 27,
   "id": "ba339f82",
   "metadata": {
    "collapsed": false
   },
   "outputs": [
    {
     "data": {
      "text/plain": [
       "[{'housing': [0, 0, 0, 0], 'shelter': [72, 72, 72, 72]},\n",
       " {'housing': [6, 6, 6, 6], 'shelter': [60, 60, 60, 60]},\n",
       " {'housing': [12, 12, 12, 12], 'shelter': [48, 48, 48, 48]},\n",
       " {'housing': [18, 18, 18, 18], 'shelter': [36, 36, 36, 36]},\n",
       " {'housing': [24, 24, 24, 24], 'shelter': [24, 24, 24, 24]},\n",
       " {'housing': [30, 30, 30, 30], 'shelter': [12, 12, 12, 12]},\n",
       " {'housing': [36, 36, 36, 36], 'shelter': [0, 0, 0, 0]}]"
      ]
     },
     "execution_count": 27,
     "metadata": {},
     "output_type": "execute_result"
    }
   ],
   "source": [
    "sols_range"
   ]
  },
  {
   "cell_type": "code",
   "execution_count": 28,
   "id": "79457255",
   "metadata": {
    "collapsed": false
   },
   "outputs": [],
   "source": [
    "# model analytically\n",
    "outputs_range_unsh = []\n",
    "outputs_range_sh = []\n",
    "for s in range(len(sols_range)):\n",
    "    q = qm.queue([i+20 for i in data_as_is['arrival_rates']], # increase demand so Q doesn't clear\n",
    "                 data_as_is['service_mean'], \n",
    "                 data_as_is['initial_capacity'], \n",
    "                 sols_range[s], \n",
    "                 data_as_is['initial_demand'] + 60, # increase demand so Q doesn't clear\n",
    "                 data_as_is_analytical['max_in_system'],\n",
    "                 data_as_is['time_btwn_changes_in_build_rate'],\n",
    "                 data_as_is['time_btwn_building'])\n",
    "    q.model_dynamics(build_rate_length_years,\n",
    "                     data_as_is_analytical['delta_t'])\n",
    "    outputs_range_unsh.append(q.num_unsheltered_avg)\n",
    "    outputs_range_sh.append(q.num_sheltered_avg)"
   ]
  },
  {
   "cell_type": "markdown",
   "id": "62f63cbb",
   "metadata": {
    "collapsed": false
   },
   "source": [
    "#### Cost function: linear with # unsheltered"
   ]
  },
  {
   "cell_type": "code",
   "execution_count": 29,
   "id": "68e2267a",
   "metadata": {
    "collapsed": false
   },
   "outputs": [
    {
     "ename": "NameError",
     "evalue": "name 'outputs_range' is not defined",
     "output_type": "error",
     "traceback": [
      "\u001b[0;31m---------------------------------------------------------------------------\u001b[0m",
      "\u001b[0;31mNameError\u001b[0m                                 Traceback (most recent call last)",
      "Cell \u001b[0;32mIn[29], line 8\u001b[0m\n\u001b[1;32m      6\u001b[0m \u001b[38;5;66;03m# plot\u001b[39;00m\n\u001b[1;32m      7\u001b[0m x\u001b[38;5;241m=\u001b[39m[sols_range[i][\u001b[38;5;124m'\u001b[39m\u001b[38;5;124mhousing\u001b[39m\u001b[38;5;124m'\u001b[39m][\u001b[38;5;241m0\u001b[39m]\u001b[38;5;241m/\u001b[39m(sols_range[i][\u001b[38;5;124m'\u001b[39m\u001b[38;5;124mhousing\u001b[39m\u001b[38;5;124m'\u001b[39m][\u001b[38;5;241m0\u001b[39m] \u001b[38;5;241m+\u001b[39m sols_range[i][\u001b[38;5;124m'\u001b[39m\u001b[38;5;124mshelter\u001b[39m\u001b[38;5;124m'\u001b[39m][\u001b[38;5;241m0\u001b[39m]) \u001b[38;5;28;01mfor\u001b[39;00m i \u001b[38;5;129;01min\u001b[39;00m \u001b[38;5;28mrange\u001b[39m(\u001b[38;5;28mlen\u001b[39m(sols_range))]\n\u001b[0;32m----> 8\u001b[0m ax\u001b[38;5;241m.\u001b[39mplot(x, outputs_range)\n\u001b[1;32m     10\u001b[0m \u001b[38;5;66;03m# axes\u001b[39;00m\n\u001b[1;32m     11\u001b[0m plt\u001b[38;5;241m.\u001b[39mylim([\u001b[38;5;241m0\u001b[39m, \u001b[38;5;241m140\u001b[39m])\n",
      "\u001b[0;31mNameError\u001b[0m: name 'outputs_range' is not defined"
     ]
    },
    {
     "data": {
      "image/png": "[encoded data removed]",
      "text/plain": [
       "<Figure size 640x480 with 1 Axes>"
      ]
     },
     "metadata": {},
     "output_type": "display_data"
    }
   ],
   "source": [
    "# Plot analytical results\n",
    "# setup\n",
    "fig = plt.figure()\n",
    "ax = plt.axes()\n",
    "\n",
    "# plot\n",
    "x=[sols_range[i]['housing'][0]/(sols_range[i]['housing'][0] + sols_range[i]['shelter'][0]) for i in range(len(sols_range))]\n",
    "ax.plot(x, outputs_range)\n",
    "\n",
    "# axes\n",
    "plt.ylim([0, 140])\n",
    "\n",
    "# Set title \n",
    "ax.set_title(\"True cost of solution for different housing proportions\") \n",
    "    \n",
    "# adding labels \n",
    "ax.set_xlabel('Proportion of new accommodation which is housing') \n",
    "ax.set_ylabel('True cost (unsheltered Q)') \n",
    "\n",
    "plt.show()"
   ]
  },
  {
   "cell_type": "markdown",
   "id": "28085eb3",
   "metadata": {
    "collapsed": false
   },
   "source": [
    "#### Cost function: quadratic with # unsheltered and # sheltered"
   ]
  },
  {
   "cell_type": "code",
   "execution_count": null,
   "id": "76bd9c21",
   "metadata": {
    "collapsed": false
   },
   "outputs": [],
   "source": [
    "def cost_function(sh,unsh):\n",
    "    cost = 0.5*(sh**2)+(unsh**2)\n",
    "    return cost\n",
    "\n",
    "costs = []\n",
    "for i in range(len(sols_range)):\n",
    "    costs.append(cost_function(outputs_range_sh[i],outputs_range_unsh[i]))"
   ]
  },
  {
   "cell_type": "code",
   "execution_count": null,
   "id": "921f0195",
   "metadata": {
    "collapsed": false
   },
   "outputs": [],
   "source": [
    "# setup\n",
    "fig = plt.figure()\n",
    "ax = plt.axes()\n",
    "\n",
    "# plot\n",
    "ax.plot(x, costs)\n",
    "\n",
    "# axes\n",
    "#plt.ylim([0, 140])\n",
    "\n",
    "# Set title \n",
    "ax.set_title(\"True cost of solution for different housing proportions\") \n",
    "    \n",
    "# adding labels \n",
    "ax.set_xlabel('Proportion of new accommodation which is housing') \n",
    "ax.set_ylabel('True cost') \n",
    "\n",
    "plt.show()"
   ]
  },
  {
   "cell_type": "markdown",
   "id": "cbe70773",
   "metadata": {
    "collapsed": false
   },
   "source": [
    "#### Checking whether the KN algorithm does eventually fail (as it may do due stochasticity)\n",
    "\n",
    "We now go back to the original solution space which we modelled (i.e. housing and shelter cost the same). We reset the seed and repeatedly optimise with the same indifference-zone parameter (i.e. the true difference between best and second best), but now with alpha = 0.5 - we should see that up to 50% of the optimal solutions found are not the true best. "
   ]
  },
  {
   "cell_type": "code",
   "execution_count": null,
   "id": "92d193c6",
   "metadata": {
    "collapsed": false
   },
   "outputs": [],
   "source": [
    "random.seed(1)\n",
    "spc.optimise_rs(0.05, \n",
    "                100, \n",
    "                indiff, \n",
    "                sim.simulate_as_is, \n",
    "                True, \n",
    "                False, \n",
    "                data_as_is = data_as_is, \n",
    "                data_as_is_simulation = data_as_is_simulation)\n",
    "\n",
    "\n",
    "\n"
   ]
  }
 ],
 "metadata": {
  "kernelspec": {
   "argv": [
    "/home/burges26/GitHub/homeless_services/.venv/bin/python3",
    "-m",
    "ipykernel_launcher",
    "-f",
    "{connection_file}"
   ],
   "display_name": ".venv",
   "env": null,
   "interrupt_mode": "signal",
   "language": "python",
   "metadata": {
    "debugger": true
   },
   "name": ".venv"
  },
  "language_info": {
   "codemirror_mode": {
    "name": "ipython",
    "version": 3
   },
   "file_extension": ".py",
   "mimetype": "text/x-python",
   "name": "python",
   "nbconvert_exporter": "python",
   "pygments_lexer": "ipython3",
   "version": "3.10.12"
  },
  "name": "03_simulation_optimisation.ipynb"
 },
 "nbformat": 4,
 "nbformat_minor": 5
}
