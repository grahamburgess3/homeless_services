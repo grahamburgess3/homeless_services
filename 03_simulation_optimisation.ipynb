{
 "cells": [
  {
   "cell_type": "markdown",
   "id": "f6376ebf",
   "metadata": {},
   "source": [
    "# Simulation Optimsiation using DES model of homeless response system"
   ]
  },
  {
   "cell_type": "code",
   "execution_count": 1,
   "id": "af7ca805",
   "metadata": {},
   "outputs": [
    {
     "name": "stdout",
     "output_type": "stream",
     "text": [
      "Current version of this notebook updated 2023-11-08\n"
     ]
    }
   ],
   "source": [
    "import datetime\n",
    "print('Current version of this notebook updated ' + str(datetime.date.today()))"
   ]
  },
  {
   "cell_type": "markdown",
   "id": "a165b34c",
   "metadata": {},
   "source": [
    "## Ranking & Selection"
   ]
  },
  {
   "cell_type": "markdown",
   "id": "d00cacfd",
   "metadata": {},
   "source": [
    "First we employ a Ranking & Selection algorithm based on the Kim & Nelson procedure. Details of this procedure can be found in section 9.3.2 (page 247) of 'Foundation and Methods of Stochastic Simulation' - Edition 2 (2021). The Python code for this procedure is found in the ranking_and_selection.py file in the GitHub repository. Below we import this module, and some others"
   ]
  },
  {
   "cell_type": "code",
   "execution_count": 2,
   "id": "3b8cdc6e",
   "metadata": {},
   "outputs": [],
   "source": [
    "# modules from this repository\n",
    "import ranking_and_selection as rs\n",
    "import simulation_model as sim\n",
    "import queueing_model as qm\n",
    "\n",
    "# external packages\n",
    "import numpy as np\n",
    "import random\n",
    "import matplotlib.pyplot as plt\n",
    "import pandas as pd\n",
    "import json"
   ]
  },
  {
   "cell_type": "markdown",
   "id": "49f98950",
   "metadata": {},
   "source": [
    "### Testing using Inventory System\n",
    "\n",
    "In order to test our KN procedure, we test it on a simulation model which has already been analysed using the KN algorithm in STOR-606 module - this is an $(s,S)$ inventory system where stock is replenished to a level of $S$ when it reaches $s$. "
   ]
  },
  {
   "cell_type": "code",
   "execution_count": 3,
   "id": "fe557041",
   "metadata": {},
   "outputs": [],
   "source": [
    "solutions = [i for i in range(1600)]\n",
    "k=np.array([i for i in range(1600)])\n",
    "\n",
    "def simulate(solution):\n",
    "    # one replication of simulating the cost of the inventory policy\n",
    "    out=rs.InventorySystem(solution)[0]\n",
    "    return out"
   ]
  },
  {
   "cell_type": "code",
   "execution_count": 4,
   "id": "50d49cad",
   "metadata": {},
   "outputs": [],
   "source": [
    "random.seed(1)\n",
    "opt_sols = []\n",
    "for i in range(0):\n",
    "    spc = rs.SolutionSpace(solutions)\n",
    "    spc.optimise_rs(0.05, 50, 1, simulate, False, False)\n",
    "    s,S = rs.get_sS_system(k[spc.active][0])\n",
    "    opt_sols.append((s,S))"
   ]
  },
  {
   "cell_type": "code",
   "execution_count": 5,
   "id": "ac5bb229",
   "metadata": {},
   "outputs": [
    {
     "name": "stdout",
     "output_type": "stream",
     "text": [
      "(s,S) for the optimal solution found at each iteration of the algorithm\n",
      "[]\n"
     ]
    }
   ],
   "source": [
    "print('(s,S) for the optimal solution found at each iteration of the algorithm')\n",
    "print(opt_sols)"
   ]
  },
  {
   "cell_type": "markdown",
   "id": "1baeb576",
   "metadata": {},
   "source": [
    "The above illustrates that this KN algorithm can return different solutions when it is run at different times (i.e. with different starting seeds) - this is likely due to the difference between the true best and other good solutions being less than the 'delta' indiffference zone parameter used when running the algorithm above. "
   ]
  },
  {
   "cell_type": "code",
   "execution_count": 6,
   "id": "3d73b045",
   "metadata": {},
   "outputs": [],
   "source": [
    "# Opening JSON file\n",
    "with open('data_as_is.json') as json_file:\n",
    "    data_as_is = json.load(json_file)\n",
    "    \n",
    "# Opening JSON file\n",
    "with open('data_as_is_simulation.json') as json_file:\n",
    "    data_as_is_simulation = json.load(json_file)\n",
    "    \n",
    "# Opening JSON file\n",
    "with open('data_as_is_analytical.json') as json_file:\n",
    "    data_as_is_analytical = json.load(json_file)"
   ]
  },
  {
   "cell_type": "markdown",
   "id": "706959ca",
   "metadata": {},
   "source": [
    "### Developing a discrete solution space for the homeless response system"
   ]
  },
  {
   "cell_type": "code",
   "execution_count": 7,
   "id": "c1c06a8c",
   "metadata": {},
   "outputs": [],
   "source": [
    "# solution space constraints\n",
    "build_rate_options = {'housing' : [12, 24], 'shelter' : [12,24]}\n",
    "annual_budget = 36\n",
    "accommodation_budgets = {'housing' : 120, 'shelter' : 120}\n",
    "costs = {'housing': 1, 'shelter': 1}\n",
    "build_rate_length_years = 6\n",
    "\n",
    "# generate solution space\n",
    "sols = rs.generate_solution_space(build_rate_options, \n",
    "                                  annual_budget, \n",
    "                                  accommodation_budgets, \n",
    "                                  costs, \n",
    "                                  build_rate_length_years)\n",
    "\n",
    "sols = rs.keep_max_budget(sols, costs, annual_budget)"
   ]
  },
  {
   "cell_type": "markdown",
   "id": "0ba31f40",
   "metadata": {},
   "source": [
    "Below we initialise a solution space object with the solutions we have generated"
   ]
  },
  {
   "cell_type": "code",
   "execution_count": 8,
   "id": "a20bbd8a",
   "metadata": {},
   "outputs": [],
   "source": [
    "spc = rs.SolutionSpace(sols)"
   ]
  },
  {
   "cell_type": "markdown",
   "id": "3f61f178",
   "metadata": {},
   "source": [
    "### Analytic treatment of the solution space"
   ]
  },
  {
   "cell_type": "code",
   "execution_count": 9,
   "id": "a3d709d7",
   "metadata": {},
   "outputs": [
    {
     "name": "stdout",
     "output_type": "stream",
     "text": [
      "done 0 at time 2023-11-07 18:46:07.133482\n",
      "done 1 at time 2023-11-07 18:46:12.389463\n",
      "done 2 at time 2023-11-07 18:46:17.618471\n",
      "done 3 at time 2023-11-07 18:46:22.842074\n",
      "done 4 at time 2023-11-07 18:46:28.211226\n",
      "done 5 at time 2023-11-07 18:46:33.433697\n",
      "done 6 at time 2023-11-07 18:46:38.592188\n",
      "done 7 at time 2023-11-07 18:46:43.827334\n",
      "done 8 at time 2023-11-07 18:46:48.935644\n",
      "done 9 at time 2023-11-07 18:46:54.116429\n",
      "done 10 at time 2023-11-07 18:46:59.293571\n",
      "done 11 at time 2023-11-07 18:47:04.614901\n",
      "done 12 at time 2023-11-07 18:47:09.848530\n",
      "done 13 at time 2023-11-07 18:47:15.165161\n",
      "done 14 at time 2023-11-07 18:47:20.450826\n",
      "done 15 at time 2023-11-07 18:47:25.629659\n",
      "done 16 at time 2023-11-07 18:47:30.930203\n",
      "done 17 at time 2023-11-07 18:47:35.968698\n",
      "done 18 at time 2023-11-07 18:47:41.236278\n",
      "done 19 at time 2023-11-07 18:47:46.418790\n",
      "done 20 at time 2023-11-07 18:47:51.641424\n",
      "done 21 at time 2023-11-07 18:47:56.746655\n",
      "done 22 at time 2023-11-07 18:48:02.033447\n",
      "done 23 at time 2023-11-07 18:48:07.213341\n",
      "done 24 at time 2023-11-07 18:48:12.403320\n",
      "done 25 at time 2023-11-07 18:48:17.690341\n",
      "done 26 at time 2023-11-07 18:48:23.058289\n",
      "done 27 at time 2023-11-07 18:48:28.288050\n",
      "done 28 at time 2023-11-07 18:48:33.605352\n",
      "done 29 at time 2023-11-07 18:48:38.822288\n",
      "done 30 at time 2023-11-07 18:48:44.017959\n",
      "done 31 at time 2023-11-07 18:48:49.215382\n",
      "done 32 at time 2023-11-07 18:48:54.502830\n",
      "done 33 at time 2023-11-07 18:49:00.012489\n",
      "done 34 at time 2023-11-07 18:49:05.318227\n",
      "done 35 at time 2023-11-07 18:49:10.455171\n",
      "done 36 at time 2023-11-07 18:49:15.703408\n",
      "done 37 at time 2023-11-07 18:49:20.805252\n",
      "done 38 at time 2023-11-07 18:49:25.956711\n",
      "done 39 at time 2023-11-07 18:49:31.292563\n",
      "done 40 at time 2023-11-07 18:49:36.512810\n",
      "done 41 at time 2023-11-07 18:49:41.811398\n",
      "done 42 at time 2023-11-07 18:49:47.005033\n",
      "done 43 at time 2023-11-07 18:49:52.440338\n",
      "done 44 at time 2023-11-07 18:49:57.620236\n",
      "done 45 at time 2023-11-07 18:50:02.934129\n",
      "done 46 at time 2023-11-07 18:50:08.202782\n",
      "done 47 at time 2023-11-07 18:50:13.498062\n",
      "done 48 at time 2023-11-07 18:50:18.799567\n",
      "done 49 at time 2023-11-07 18:50:24.028192\n"
     ]
    }
   ],
   "source": [
    "# model analytically\n",
    "outputs = []\n",
    "for s in range(len(sols)):\n",
    "    # create instance of queue\n",
    "    q = qm.queue(data_as_is['arrival_rates'], \n",
    "                 data_as_is['service_mean'], \n",
    "                 data_as_is['initial_capacity'], \n",
    "                 sols[s], \n",
    "                 data_as_is['initial_demand'], \n",
    "                 data_as_is_analytical['max_in_system'],\n",
    "                 data_as_is['time_btwn_changes_in_build_rate'],\n",
    "                 data_as_is['time_btwn_building'])\n",
    "\n",
    "    q.model_dynamics(data_as_is['analysis_horizon'],\n",
    "                     data_as_is_analytical['delta_t'])\n",
    "    outputs.append(q.num_unsheltered_avg)"
   ]
  },
  {
   "cell_type": "code",
   "execution_count": 10,
   "id": "cf0baf7b",
   "metadata": {},
   "outputs": [
    {
     "data": {
      "image/png": "[encoded data removed]",
      "text/plain": [
       "<Figure size 640x480 with 1 Axes>"
      ]
     },
     "metadata": {},
     "output_type": "display_data"
    }
   ],
   "source": [
    "# Creating histogram \n",
    "fig, ax = plt.subplots(1, 1) \n",
    "ax.hist(outputs, 100) \n",
    "  \n",
    "# Set title \n",
    "ax.set_title(\"Solution space with build options of 12 or 24 units\") \n",
    "    \n",
    "# adding labels \n",
    "ax.set_xlabel('Expected time-average of # unsheltered') \n",
    "ax.set_ylabel('Freq') \n",
    "\n",
    "plt.show()"
   ]
  },
  {
   "cell_type": "code",
   "execution_count": 11,
   "id": "4a9fb9ad",
   "metadata": {},
   "outputs": [],
   "source": [
    "# Dataframe of analytic results\n",
    "my_list = []\n",
    "for i in range(len(sols)):\n",
    "    my_dict = {}\n",
    "    for index, element in enumerate(sols[i]['housing']):\n",
    "        my_dict[index] = element\n",
    "    my_dict[6] = \" \"\n",
    "    for index, element in enumerate(sols[i]['shelter']):\n",
    "        my_dict[index+7] = element\n",
    "    my_dict[13] = outputs[i]\n",
    "    my_list.append(my_dict)\n",
    "df_analytic = pd.DataFrame.from_dict(my_list)\n",
    "df_analytic.columns = ['h1', 'h2', 'h3', 'h4', 'h5', 'h6', ' ', 'sh1', 'sh2', 'sh3', 'sh4', 'sh5', 'sh6', 'c']"
   ]
  },
  {
   "cell_type": "code",
   "execution_count": 17,
   "id": "f0fe0f04",
   "metadata": {},
   "outputs": [],
   "source": [
    "# Looking at the improvements in the objective func given by a change in each dimension separately\n",
    "low_val = 12\n",
    "dims_all = ['h1','h2','h3','h4','h5','h6','sh1','sh2','sh3','sh4','sh5','sh6']\n",
    "list_imprv = [] # data on improvements\n",
    "for dim in dims_all:\n",
    "    for i in df_analytic[df_analytic[dim]==low_val].index.tolist():\n",
    "        value_base = df_analytic.iloc[i]['c']\n",
    "        conditions = dim + '''!=''' + str(low_val)\n",
    "        for dim_compare in [dims_all[j] for j in range(len(dims_all)) if dims_all[j]!=dim]:\n",
    "            conditions = conditions + ''' & ''' + dim_compare + '==' + str(df_analytic.iloc[i][dim_compare])\n",
    "        df_analytic_with_conditions = df_analytic.query(conditions).reset_index(drop=True)\n",
    "        if len(df_analytic_with_conditions) > 0:\n",
    "            value_improve = df_analytic_with_conditions['c'][0]\n",
    "            improvement = value_base - value_improve\n",
    "            improvement = {'dim': dim,\n",
    "                           'imprv': improvement}\n",
    "            list_imprv.append(improvement)\n",
    "        \n",
    "df_imprv = pd.DataFrame.from_dict(list_imprv)"
   ]
  },
  {
   "cell_type": "code",
   "execution_count": 18,
   "id": "f07c2239",
   "metadata": {},
   "outputs": [],
   "source": [
    "# This will only work if we don't restrict the solution space to solutions where the budget is maxed out. \n",
    "#df_imprv_summary = df_imprv.groupby('dim').mean().reset_index()\n",
    "#df_imprv_summary"
   ]
  },
  {
   "cell_type": "markdown",
   "id": "136875ee",
   "metadata": {},
   "source": [
    "Above we see that building housing early is the most favourable option given this setup - this makes intuitive sense given this set up because there is no difference in cost built in to favour one accommodation type over the other. Extra housing has the ability to begin service time for someone in shelter and also take someone out of the unsheltered queue and into shelter. Extra shelter only has the ability to do the latter. We might in future consider a service time in housing which is dependent on the time spent in shelter - because we might consider time in shelter as 'partial service'. \n",
    "\n",
    "Furthermore - it is also intuitive that building more housing or shelter units the earlier the better is most favourable - since this setup favours improvements to the unsheltered queue equally at all times, and early builds have an effect over a longer period of time. "
   ]
  },
  {
   "cell_type": "code",
   "execution_count": 19,
   "id": "bbd46bfb",
   "metadata": {},
   "outputs": [],
   "source": [
    "# Look at the difference between true best and true second-best \n",
    "df_analytic_sorted = df_analytic.sort_values('c').reset_index(drop=True)\n",
    "indiff = df_analytic_sorted.iloc[1, df_analytic_sorted.columns.get_loc('c')] - df_analytic_sorted.iloc[0, df_analytic_sorted.columns.get_loc('c')]"
   ]
  },
  {
   "cell_type": "markdown",
   "id": "9a21726c",
   "metadata": {},
   "source": [
    "### Sim Opt treatment of solution space"
   ]
  },
  {
   "cell_type": "markdown",
   "id": "1fdc7e23",
   "metadata": {},
   "source": [
    "We next set a seed and then look for an optimal solution using the KN algorithm. A line of text is printed below whenever solutions are removed from the candidate list by the algorithm. We use the true difference between best and second-best solutions as the indifference zone parameter, and we use an alpha of 0.05 - leading to a lower bound of 95% confidence in what we find. "
   ]
  },
  {
   "cell_type": "code",
   "execution_count": 21,
   "id": "4061db4e",
   "metadata": {},
   "outputs": [
    {
     "name": "stdout",
     "output_type": "stream",
     "text": [
      "starting routine at time  2023-11-07 18:57:05.510561\n",
      "done init reps at time  2023-11-07 19:03:32.898256\n",
      "start iteration 207 with 49 active solutions out of initial 50 at time 2023-11-07 19:10:25.743019\n",
      "start iteration 222 with 48 active solutions out of initial 50 at time 2023-11-07 19:11:23.556462\n",
      "start iteration 230 with 47 active solutions out of initial 50 at time 2023-11-07 19:11:53.344428\n",
      "start iteration 234 with 46 active solutions out of initial 50 at time 2023-11-07 19:12:08.145380\n",
      "start iteration 237 with 45 active solutions out of initial 50 at time 2023-11-07 19:12:18.999047\n",
      "start iteration 238 with 44 active solutions out of initial 50 at time 2023-11-07 19:12:22.540994\n",
      "start iteration 256 with 43 active solutions out of initial 50 at time 2023-11-07 19:13:24.270762\n",
      "start iteration 259 with 42 active solutions out of initial 50 at time 2023-11-07 19:13:34.334170\n",
      "start iteration 265 with 41 active solutions out of initial 50 at time 2023-11-07 19:13:53.933817\n",
      "start iteration 286 with 40 active solutions out of initial 50 at time 2023-11-07 19:15:02.369950\n",
      "start iteration 287 with 39 active solutions out of initial 50 at time 2023-11-07 19:15:05.547855\n",
      "start iteration 301 with 38 active solutions out of initial 50 at time 2023-11-07 19:15:48.216643\n",
      "start iteration 324 with 37 active solutions out of initial 50 at time 2023-11-07 19:16:55.987500\n",
      "start iteration 325 with 36 active solutions out of initial 50 at time 2023-11-07 19:16:59.016163\n",
      "start iteration 346 with 35 active solutions out of initial 50 at time 2023-11-07 19:17:58.257430\n",
      "start iteration 353 with 34 active solutions out of initial 50 at time 2023-11-07 19:18:17.340488\n",
      "start iteration 372 with 33 active solutions out of initial 50 at time 2023-11-07 19:19:08.495401\n",
      "start iteration 396 with 32 active solutions out of initial 50 at time 2023-11-07 19:20:10.667369\n",
      "start iteration 398 with 31 active solutions out of initial 50 at time 2023-11-07 19:20:15.609733\n",
      "start iteration 401 with 30 active solutions out of initial 50 at time 2023-11-07 19:20:23.198532\n",
      "start iteration 429 with 29 active solutions out of initial 50 at time 2023-11-07 19:21:29.645861\n",
      "start iteration 431 with 27 active solutions out of initial 50 at time 2023-11-07 19:21:34.278605\n",
      "start iteration 437 with 26 active solutions out of initial 50 at time 2023-11-07 19:21:47.107175\n",
      "start iteration 444 with 25 active solutions out of initial 50 at time 2023-11-07 19:22:01.890363\n",
      "start iteration 453 with 24 active solutions out of initial 50 at time 2023-11-07 19:22:19.928563\n",
      "start iteration 463 with 23 active solutions out of initial 50 at time 2023-11-07 19:22:39.015016\n",
      "start iteration 467 with 22 active solutions out of initial 50 at time 2023-11-07 19:22:46.515322\n",
      "start iteration 494 with 21 active solutions out of initial 50 at time 2023-11-07 19:23:34.904989\n",
      "start iteration 524 with 20 active solutions out of initial 50 at time 2023-11-07 19:24:25.653902\n",
      "start iteration 537 with 19 active solutions out of initial 50 at time 2023-11-07 19:24:46.937658\n",
      "start iteration 554 with 18 active solutions out of initial 50 at time 2023-11-07 19:25:13.312285\n",
      "start iteration 584 with 17 active solutions out of initial 50 at time 2023-11-07 19:25:56.849639\n",
      "start iteration 592 with 16 active solutions out of initial 50 at time 2023-11-07 19:26:08.071828\n",
      "start iteration 601 with 15 active solutions out of initial 50 at time 2023-11-07 19:26:19.823082\n",
      "start iteration 645 with 14 active solutions out of initial 50 at time 2023-11-07 19:27:13.581366\n",
      "start iteration 731 with 13 active solutions out of initial 50 at time 2023-11-07 19:28:52.752804\n",
      "start iteration 800 with 12 active solutions out of initial 50 at time 2023-11-07 19:30:06.090500\n",
      "start iteration 908 with 11 active solutions out of initial 50 at time 2023-11-07 19:31:52.941501\n",
      "start iteration 941 with 10 active solutions out of initial 50 at time 2023-11-07 19:32:22.491518\n",
      "start iteration 1003 with 9 active solutions out of initial 50 at time 2023-11-07 19:33:13.771084\n",
      "start iteration 1032 with 8 active solutions out of initial 50 at time 2023-11-07 19:33:35.112567\n",
      "start iteration 1210 with 7 active solutions out of initial 50 at time 2023-11-07 19:35:32.823183\n",
      "start iteration 1218 with 6 active solutions out of initial 50 at time 2023-11-07 19:35:37.328564\n",
      "start iteration 1364 with 5 active solutions out of initial 50 at time 2023-11-07 19:36:49.324540\n",
      "start iteration 1643 with 4 active solutions out of initial 50 at time 2023-11-07 19:38:44.120046\n",
      "start iteration 2915 with 3 active solutions out of initial 50 at time 2023-11-07 19:45:44.987116\n",
      "start iteration 3350 with 2 active solutions out of initial 50 at time 2023-11-07 19:47:32.504492\n"
     ]
    }
   ],
   "source": [
    "random.seed(1)\n",
    "spc.optimise_rs(0.05, \n",
    "                100, \n",
    "                indiff, \n",
    "                sim.simulate_as_is, \n",
    "                True, \n",
    "                False, \n",
    "                data_as_is = data_as_is, \n",
    "                data_as_is_simulation = data_as_is_simulation)"
   ]
  },
  {
   "cell_type": "markdown",
   "id": "e8eaf074",
   "metadata": {},
   "source": [
    "The details of the optimal solution are given below, followed by the following 20 solutions in decreasing order of the iteration number at which the KN algorithm removed them from the candidate list. "
   ]
  },
  {
   "cell_type": "code",
   "execution_count": 22,
   "id": "81d1f488",
   "metadata": {},
   "outputs": [],
   "source": [
    "# create dataframe of sim opt results\n",
    "my_list = []\n",
    "for i in range(len(sols)):\n",
    "    my_dict = {}\n",
    "    for index, element in enumerate(sols[i]['housing']):\n",
    "        my_dict[index] = element\n",
    "    for index, element in enumerate(sols[i]['shelter']):\n",
    "        my_dict[index+6] = element\n",
    "    my_dict[12] = spc.eliminate[i]\n",
    "    my_dict[13] = np.mean(spc.costs[i])\n",
    "    my_dict[14] = np.var(spc.costs[i])\n",
    "    my_list.append(my_dict)\n",
    "df_sim = pd.DataFrame.from_dict(my_list)\n",
    "df_sim.columns = ['h1', 'h2', 'h3', 'h4', 'h5', 'h6', 'sh1', 'sh2', 'sh3', 'sh4', 'sh5', 'sh6', 'iter_elim', 'sim_mean', 'sim_var']"
   ]
  },
  {
   "cell_type": "markdown",
   "id": "7acda78d",
   "metadata": {},
   "source": [
    "We now reset the seed and repeatedly optimise with the same indifference-zone parameter, but now with alpha = 0.25 - we should see that at least 25% of the optimal solutions found are not the true best. "
   ]
  },
  {
   "cell_type": "code",
   "execution_count": 22,
   "id": "b2ac06f1",
   "metadata": {},
   "outputs": [
    {
     "name": "stdout",
     "output_type": "stream",
     "text": [
      "done 0{'housing': [24, 24, 24, 24, 12, 12], 'shelter': [12, 12, 12, 12, 24, 24]} at time 2023-11-07 20:34:07.561040\n",
      "done 1{'housing': [24, 24, 24, 24, 12, 12], 'shelter': [12, 12, 12, 12, 24, 24]} at time 2023-11-07 21:17:49.065458\n",
      "done 2{'housing': [24, 24, 24, 24, 12, 12], 'shelter': [12, 12, 12, 12, 24, 24]} at time 2023-11-07 21:55:30.861003\n",
      "done 3{'housing': [24, 24, 24, 24, 12, 12], 'shelter': [12, 12, 12, 12, 24, 24]} at time 2023-11-07 22:39:16.841792\n",
      "done 4{'housing': [24, 24, 24, 24, 12, 12], 'shelter': [12, 12, 12, 12, 24, 24]} at time 2023-11-07 23:13:58.716171\n",
      "done 5{'housing': [24, 24, 24, 24, 12, 12], 'shelter': [12, 12, 12, 12, 24, 24]} at time 2023-11-07 23:48:59.421368\n",
      "done 6{'housing': [24, 24, 24, 24, 12, 12], 'shelter': [12, 12, 12, 12, 24, 24]} at time 2023-11-08 00:22:20.604175\n",
      "done 7{'housing': [24, 24, 24, 24, 12, 12], 'shelter': [12, 12, 12, 12, 24, 24]} at time 2023-11-08 00:55:17.685635\n",
      "done 8{'housing': [24, 24, 24, 24, 12, 12], 'shelter': [12, 12, 12, 12, 24, 24]} at time 2023-11-08 01:33:51.510022\n",
      "done 9{'housing': [24, 24, 24, 24, 12, 12], 'shelter': [12, 12, 12, 12, 24, 24]} at time 2023-11-08 02:12:32.161604\n",
      "done 10{'housing': [24, 24, 24, 24, 12, 12], 'shelter': [12, 12, 12, 12, 24, 24]} at time 2023-11-08 02:49:33.426619\n",
      "done 11{'housing': [24, 24, 24, 24, 12, 12], 'shelter': [12, 12, 12, 12, 24, 24]} at time 2023-11-08 03:26:25.619722\n",
      "done 12{'housing': [24, 24, 24, 24, 12, 12], 'shelter': [12, 12, 12, 12, 24, 24]} at time 2023-11-08 04:05:59.488706\n",
      "done 13{'housing': [24, 24, 24, 24, 12, 12], 'shelter': [12, 12, 12, 12, 24, 24]} at time 2023-11-08 04:46:29.672879\n",
      "done 14{'housing': [24, 24, 24, 24, 12, 12], 'shelter': [12, 12, 12, 12, 24, 24]} at time 2023-11-08 05:21:18.977895\n",
      "done 15{'housing': [24, 24, 24, 24, 12, 12], 'shelter': [12, 12, 12, 12, 24, 24]} at time 2023-11-08 05:54:14.386600\n",
      "done 16{'housing': [24, 24, 24, 24, 12, 12], 'shelter': [12, 12, 12, 12, 24, 24]} at time 2023-11-08 06:42:21.582087\n",
      "done 17{'housing': [24, 24, 24, 24, 12, 12], 'shelter': [12, 12, 12, 12, 24, 24]} at time 2023-11-08 07:17:34.233370\n",
      "done 18{'housing': [24, 24, 24, 24, 12, 12], 'shelter': [12, 12, 12, 12, 24, 24]} at time 2023-11-08 07:52:36.595369\n",
      "done 19{'housing': [24, 24, 24, 24, 12, 12], 'shelter': [12, 12, 12, 12, 24, 24]} at time 2023-11-08 08:28:10.433461\n",
      "done 20{'housing': [24, 24, 24, 24, 12, 12], 'shelter': [12, 12, 12, 12, 24, 24]} at time 2023-11-08 09:07:48.588891\n",
      "done 21{'housing': [24, 24, 24, 24, 12, 12], 'shelter': [12, 12, 12, 12, 24, 24]} at time 2023-11-08 09:46:40.677201\n",
      "done 22{'housing': [24, 24, 24, 24, 12, 12], 'shelter': [12, 12, 12, 12, 24, 24]} at time 2023-11-08 10:21:31.110855\n",
      "done 23{'housing': [24, 24, 24, 24, 12, 12], 'shelter': [12, 12, 12, 12, 24, 24]} at time 2023-11-08 10:56:34.262445\n",
      "done 24{'housing': [24, 24, 24, 24, 12, 12], 'shelter': [12, 12, 12, 12, 24, 24]} at time 2023-11-08 11:30:09.549361\n"
     ]
    },
    {
     "ename": "KeyboardInterrupt",
     "evalue": "",
     "output_type": "error",
     "traceback": [
      "\u001b[0;31m---------------------------------------------------------------------------\u001b[0m",
      "\u001b[0;31mKeyboardInterrupt\u001b[0m                         Traceback (most recent call last)",
      "File \u001b[0;32m~/GitHub/homeless_services/simulation_model.py:257\u001b[0m, in \u001b[0;36mprocess_find_accommodation\u001b[0;34m(env, c, accommodation_stock, service_mean, warm_up_time)\u001b[0m\n\u001b[1;32m    256\u001b[0m accommodation_stock\u001b[38;5;241m.\u001b[39mupdate_stats(env\u001b[38;5;241m.\u001b[39mnow\u001b[38;5;241m-\u001b[39mwarm_up_time, accomm_type, \u001b[38;5;241m1\u001b[39m)\n\u001b[0;32m--> 257\u001b[0m shelter \u001b[38;5;241m=\u001b[39m \u001b[38;5;28;01myield\u001b[39;00m accommodation_stock\u001b[38;5;241m.\u001b[39mstore\u001b[38;5;241m.\u001b[39mget(\u001b[38;5;28mfilter\u001b[39m \u001b[38;5;241m=\u001b[39m \u001b[38;5;28;01mlambda\u001b[39;00m accomm: accomm\u001b[38;5;241m.\u001b[39mtype \u001b[38;5;241m==\u001b[39m accomm_type)\n\u001b[1;32m    258\u001b[0m accommodation_stock\u001b[38;5;241m.\u001b[39mupdate_stats(env\u001b[38;5;241m.\u001b[39mnow\u001b[38;5;241m-\u001b[39mwarm_up_time, accomm_type, \u001b[38;5;241m-\u001b[39m\u001b[38;5;241m1\u001b[39m)\n",
      "File \u001b[0;32m~/anaconda3/envs/homeless_services-env/lib/python3.11/site-packages/simpy/resources/store.py:63\u001b[0m, in \u001b[0;36mFilterStoreGet.__init__\u001b[0;34m(self, resource, filter)\u001b[0m\n\u001b[1;32m     62\u001b[0m \u001b[38;5;250m\u001b[39m\u001b[38;5;124;03m\"\"\"The filter function to filter items in the store.\"\"\"\u001b[39;00m\n\u001b[0;32m---> 63\u001b[0m \u001b[38;5;28msuper\u001b[39m()\u001b[38;5;241m.\u001b[39m\u001b[38;5;21m__init__\u001b[39m(resource)\n",
      "File \u001b[0;32m~/anaconda3/envs/homeless_services-env/lib/python3.11/site-packages/simpy/resources/base.py:101\u001b[0m, in \u001b[0;36mGet.__init__\u001b[0;34m(self, resource)\u001b[0m\n\u001b[1;32m    100\u001b[0m \u001b[38;5;28mself\u001b[39m\u001b[38;5;241m.\u001b[39mcallbacks\u001b[38;5;241m.\u001b[39mappend(resource\u001b[38;5;241m.\u001b[39m_trigger_put)\n\u001b[0;32m--> 101\u001b[0m resource\u001b[38;5;241m.\u001b[39m_trigger_get(\u001b[38;5;28;01mNone\u001b[39;00m)\n",
      "File \u001b[0;32m~/anaconda3/envs/homeless_services-env/lib/python3.11/site-packages/simpy/resources/base.py:268\u001b[0m, in \u001b[0;36mBaseResource._trigger_get\u001b[0;34m(self, put_event)\u001b[0m\n\u001b[1;32m    267\u001b[0m get_event \u001b[38;5;241m=\u001b[39m \u001b[38;5;28mself\u001b[39m\u001b[38;5;241m.\u001b[39mget_queue[idx]\n\u001b[0;32m--> 268\u001b[0m proceed \u001b[38;5;241m=\u001b[39m \u001b[38;5;28mself\u001b[39m\u001b[38;5;241m.\u001b[39m_do_get(get_event)\n\u001b[1;32m    269\u001b[0m \u001b[38;5;28;01mif\u001b[39;00m \u001b[38;5;129;01mnot\u001b[39;00m get_event\u001b[38;5;241m.\u001b[39mtriggered:\n",
      "File \u001b[0;32m~/anaconda3/envs/homeless_services-env/lib/python3.11/site-packages/simpy/resources/store.py:199\u001b[0m, in \u001b[0;36mFilterStore._do_get\u001b[0;34m(self, event)\u001b[0m\n\u001b[1;32m    198\u001b[0m \u001b[38;5;28;01mfor\u001b[39;00m item \u001b[38;5;129;01min\u001b[39;00m \u001b[38;5;28mself\u001b[39m\u001b[38;5;241m.\u001b[39mitems:\n\u001b[0;32m--> 199\u001b[0m     \u001b[38;5;28;01mif\u001b[39;00m event\u001b[38;5;241m.\u001b[39mfilter(item):\n\u001b[1;32m    200\u001b[0m         \u001b[38;5;28mself\u001b[39m\u001b[38;5;241m.\u001b[39mitems\u001b[38;5;241m.\u001b[39mremove(item)\n",
      "\u001b[0;31mKeyboardInterrupt\u001b[0m: ",
      "\nThe above exception was the direct cause of the following exception:\n",
      "\u001b[0;31mKeyboardInterrupt\u001b[0m                         Traceback (most recent call last)",
      "Cell \u001b[0;32mIn[22], line 10\u001b[0m\n\u001b[1;32m      8\u001b[0m optim_sols \u001b[38;5;241m=\u001b[39m []\n\u001b[1;32m      9\u001b[0m \u001b[38;5;28;01mfor\u001b[39;00m i \u001b[38;5;129;01min\u001b[39;00m \u001b[38;5;28mrange\u001b[39m(\u001b[38;5;241m500\u001b[39m):\n\u001b[0;32m---> 10\u001b[0m     spc\u001b[38;5;241m.\u001b[39moptimise_rs(\u001b[38;5;241m0.5\u001b[39m, \n\u001b[1;32m     11\u001b[0m                     initial_reps, \n\u001b[1;32m     12\u001b[0m                     indiff, \n\u001b[1;32m     13\u001b[0m                     sim\u001b[38;5;241m.\u001b[39msimulate_as_is, \n\u001b[1;32m     14\u001b[0m                     \u001b[38;5;28;01mFalse\u001b[39;00m, \n\u001b[1;32m     15\u001b[0m                     \u001b[38;5;28;01mFalse\u001b[39;00m, \n\u001b[1;32m     16\u001b[0m                     data_as_is \u001b[38;5;241m=\u001b[39m data_as_is, \n\u001b[1;32m     17\u001b[0m                     data_as_is_simulation \u001b[38;5;241m=\u001b[39m data_as_is_simulation)\n\u001b[1;32m     18\u001b[0m     optim_sols\u001b[38;5;241m.\u001b[39mappend(np\u001b[38;5;241m.\u001b[39marray(spc\u001b[38;5;241m.\u001b[39msolutions)[spc\u001b[38;5;241m.\u001b[39mactive][\u001b[38;5;241m0\u001b[39m]\u001b[38;5;241m.\u001b[39msolution)\n\u001b[1;32m     19\u001b[0m     \u001b[38;5;28mprint\u001b[39m(\u001b[38;5;124m'\u001b[39m\u001b[38;5;124mdone \u001b[39m\u001b[38;5;124m'\u001b[39m \u001b[38;5;241m+\u001b[39m \u001b[38;5;28mstr\u001b[39m(i) \u001b[38;5;241m+\u001b[39m \u001b[38;5;28mstr\u001b[39m(np\u001b[38;5;241m.\u001b[39marray(spc\u001b[38;5;241m.\u001b[39msolutions)[spc\u001b[38;5;241m.\u001b[39mactive][\u001b[38;5;241m0\u001b[39m]\u001b[38;5;241m.\u001b[39msolution) \u001b[38;5;241m+\u001b[39m \u001b[38;5;124m'\u001b[39m\u001b[38;5;124m at time \u001b[39m\u001b[38;5;124m'\u001b[39m \u001b[38;5;241m+\u001b[39m \u001b[38;5;28mstr\u001b[39m(datetime\u001b[38;5;241m.\u001b[39mdatetime\u001b[38;5;241m.\u001b[39mnow()))\n",
      "File \u001b[0;32m~/GitHub/homeless_services/ranking_and_selection.py:139\u001b[0m, in \u001b[0;36mSolutionSpace.optimise_rs\u001b[0;34m(self, alpha, n0, delta, sim, initial_reps_needed, print_progress, **kwargs)\u001b[0m\n\u001b[1;32m    137\u001b[0m \u001b[38;5;66;03m# collect new data\u001b[39;00m\n\u001b[1;32m    138\u001b[0m \u001b[38;5;28;01mfor\u001b[39;00m i \u001b[38;5;129;01min\u001b[39;00m sol_index[\u001b[38;5;28mself\u001b[39m\u001b[38;5;241m.\u001b[39mactive]:\n\u001b[0;32m--> 139\u001b[0m     cost \u001b[38;5;241m=\u001b[39m sim(\u001b[38;5;28mself\u001b[39m\u001b[38;5;241m.\u001b[39msolutions[i]\u001b[38;5;241m.\u001b[39msolution, \u001b[38;5;241m*\u001b[39m\u001b[38;5;241m*\u001b[39mkwargs)\n\u001b[1;32m    140\u001b[0m     \u001b[38;5;28mself\u001b[39m\u001b[38;5;241m.\u001b[39mcosts[i]\u001b[38;5;241m.\u001b[39mappend(cost)\n\u001b[1;32m    141\u001b[0m     costs_sum[i] \u001b[38;5;241m+\u001b[39m\u001b[38;5;241m=\u001b[39m cost\n",
      "File \u001b[0;32m~/GitHub/homeless_services/simulation_model.py:466\u001b[0m, in \u001b[0;36msimulate_as_is\u001b[0;34m(build_rates, data_as_is, data_as_is_simulation)\u001b[0m\n\u001b[1;32m    463\u001b[0m \u001b[38;5;250m\u001b[39m\u001b[38;5;124;03m\"\"\" One replication with as-is variables apart from build rates\"\"\"\u001b[39;00m\n\u001b[1;32m    464\u001b[0m number_reps \u001b[38;5;241m=\u001b[39m \u001b[38;5;241m1\u001b[39m\n\u001b[0;32m--> 466\u001b[0m output \u001b[38;5;241m=\u001b[39m simulate(data_as_is[\u001b[38;5;124m'\u001b[39m\u001b[38;5;124manalysis_horizon\u001b[39m\u001b[38;5;124m'\u001b[39m] \u001b[38;5;241m+\u001b[39m data_as_is_simulation[\u001b[38;5;124m'\u001b[39m\u001b[38;5;124minitial_build_time\u001b[39m\u001b[38;5;124m'\u001b[39m],\n\u001b[1;32m    467\u001b[0m                   number_reps, \n\u001b[1;32m    468\u001b[0m                   data_as_is[\u001b[38;5;124m'\u001b[39m\u001b[38;5;124mtime_btwn_building\u001b[39m\u001b[38;5;124m'\u001b[39m], \n\u001b[1;32m    469\u001b[0m                   data_as_is[\u001b[38;5;124m'\u001b[39m\u001b[38;5;124mtime_btwn_changes_in_build_rate\u001b[39m\u001b[38;5;124m'\u001b[39m], \n\u001b[1;32m    470\u001b[0m                   data_as_is[\u001b[38;5;124m'\u001b[39m\u001b[38;5;124minitial_capacity\u001b[39m\u001b[38;5;124m'\u001b[39m], \n\u001b[1;32m    471\u001b[0m                   data_as_is[\u001b[38;5;124m'\u001b[39m\u001b[38;5;124mservice_mean\u001b[39m\u001b[38;5;124m'\u001b[39m], \n\u001b[1;32m    472\u001b[0m                   data_as_is[\u001b[38;5;124m'\u001b[39m\u001b[38;5;124marrival_rates\u001b[39m\u001b[38;5;124m'\u001b[39m], \n\u001b[1;32m    473\u001b[0m                   build_rates, \n\u001b[1;32m    474\u001b[0m                   data_as_is[\u001b[38;5;124m'\u001b[39m\u001b[38;5;124minitial_demand\u001b[39m\u001b[38;5;124m'\u001b[39m], \n\u001b[1;32m    475\u001b[0m                   data_as_is_simulation[\u001b[38;5;124m'\u001b[39m\u001b[38;5;124minitial_build_time\u001b[39m\u001b[38;5;124m'\u001b[39m],\n\u001b[1;32m    476\u001b[0m                   data_as_is_simulation[\u001b[38;5;124m'\u001b[39m\u001b[38;5;124mreentry_rate\u001b[39m\u001b[38;5;124m'\u001b[39m])\n\u001b[1;32m    478\u001b[0m output \u001b[38;5;241m=\u001b[39m output[\u001b[38;5;124m'\u001b[39m\u001b[38;5;124munsheltered_q_avg\u001b[39m\u001b[38;5;124m'\u001b[39m][\u001b[38;5;241m0\u001b[39m]\n\u001b[1;32m    480\u001b[0m \u001b[38;5;28;01mreturn\u001b[39;00m output\n",
      "File \u001b[0;32m~/GitHub/homeless_services/simulation_model.py:451\u001b[0m, in \u001b[0;36msimulate\u001b[0;34m(end_of_simulation, number_reps, accomm_build_time, time_btwn_build_rate_changes, capacity_initial, service_mean, arrival_rates, build_rates, initial_demand, warm_up_time, prob_re_entry)\u001b[0m\n\u001b[1;32m    449\u001b[0m env\u001b[38;5;241m.\u001b[39mprocess(gen_arrivals(env, accommodation_stock, service_mean, arrival_rates, initial_demand, warm_up_time))\n\u001b[1;32m    450\u001b[0m env\u001b[38;5;241m.\u001b[39mprocess(gen_development_sched(env, accommodation_stock, accomm_build_time, time_btwn_build_rate_changes, build_rates, warm_up_time))\n\u001b[0;32m--> 451\u001b[0m env\u001b[38;5;241m.\u001b[39mrun(until\u001b[38;5;241m=\u001b[39mend_of_simulation)\n\u001b[1;32m    452\u001b[0m results[\u001b[38;5;124m'\u001b[39m\u001b[38;5;124munsheltered_q_over_time\u001b[39m\u001b[38;5;124m'\u001b[39m]\u001b[38;5;241m.\u001b[39mappend(np\u001b[38;5;241m.\u001b[39marray(pd\u001b[38;5;241m.\u001b[39mconcat([pd\u001b[38;5;241m.\u001b[39mSeries([initial_demand \u001b[38;5;241m-\u001b[39m capacity_initial[\u001b[38;5;124m'\u001b[39m\u001b[38;5;124mshelter\u001b[39m\u001b[38;5;124m'\u001b[39m]\u001b[38;5;241m-\u001b[39mcapacity_initial[\u001b[38;5;124m'\u001b[39m\u001b[38;5;124mhousing\u001b[39m\u001b[38;5;124m'\u001b[39m]]), pd\u001b[38;5;241m.\u001b[39mSeries(accommodation_stock\u001b[38;5;241m.\u001b[39mdata_queue_shelter[\u001b[38;5;241m1\u001b[39m:])])))\n\u001b[1;32m    453\u001b[0m \u001b[38;5;28;01mfor\u001b[39;00m accomm_type \u001b[38;5;129;01min\u001b[39;00m [\u001b[38;5;124m'\u001b[39m\u001b[38;5;124mhousing\u001b[39m\u001b[38;5;124m'\u001b[39m, \u001b[38;5;124m'\u001b[39m\u001b[38;5;124mshelter\u001b[39m\u001b[38;5;124m'\u001b[39m]:\n",
      "File \u001b[0;32m~/anaconda3/envs/homeless_services-env/lib/python3.11/site-packages/simpy/core.py:254\u001b[0m, in \u001b[0;36mEnvironment.run\u001b[0;34m(self, until)\u001b[0m\n\u001b[1;32m    252\u001b[0m \u001b[38;5;28;01mtry\u001b[39;00m:\n\u001b[1;32m    253\u001b[0m     \u001b[38;5;28;01mwhile\u001b[39;00m \u001b[38;5;28;01mTrue\u001b[39;00m:\n\u001b[0;32m--> 254\u001b[0m         \u001b[38;5;28mself\u001b[39m\u001b[38;5;241m.\u001b[39mstep()\n\u001b[1;32m    255\u001b[0m \u001b[38;5;28;01mexcept\u001b[39;00m StopSimulation \u001b[38;5;28;01mas\u001b[39;00m exc:\n\u001b[1;32m    256\u001b[0m     \u001b[38;5;28;01mreturn\u001b[39;00m exc\u001b[38;5;241m.\u001b[39margs[\u001b[38;5;241m0\u001b[39m]  \u001b[38;5;66;03m# == until.value\u001b[39;00m\n",
      "File \u001b[0;32m~/anaconda3/envs/homeless_services-env/lib/python3.11/site-packages/simpy/core.py:206\u001b[0m, in \u001b[0;36mEnvironment.step\u001b[0;34m(self)\u001b[0m\n\u001b[1;32m    204\u001b[0m exc \u001b[38;5;241m=\u001b[39m \u001b[38;5;28mtype\u001b[39m(event\u001b[38;5;241m.\u001b[39m_value)(\u001b[38;5;241m*\u001b[39mevent\u001b[38;5;241m.\u001b[39m_value\u001b[38;5;241m.\u001b[39margs)\n\u001b[1;32m    205\u001b[0m exc\u001b[38;5;241m.\u001b[39m__cause__ \u001b[38;5;241m=\u001b[39m event\u001b[38;5;241m.\u001b[39m_value\n\u001b[0;32m--> 206\u001b[0m \u001b[38;5;28;01mraise\u001b[39;00m exc\n",
      "\u001b[0;31mKeyboardInterrupt\u001b[0m: "
     ]
    }
   ],
   "source": [
    "random.seed(5)\n",
    "initial_reps = 5\n",
    "spc = rs.SolutionSpace(sols)\n",
    "spc.run_initial_reps(initial_reps,\n",
    "                     sim.simulate_as_is,\n",
    "                     data_as_is = data_as_is, \n",
    "                     data_as_is_simulation = data_as_is_simulation)\n",
    "optim_sols = []\n",
    "for i in range(500):\n",
    "    spc.optimise_rs(0.5, \n",
    "                    initial_reps, \n",
    "                    indiff, \n",
    "                    sim.simulate_as_is, \n",
    "                    False, \n",
    "                    False, \n",
    "                    data_as_is = data_as_is, \n",
    "                    data_as_is_simulation = data_as_is_simulation)\n",
    "    optim_sols.append(np.array(spc.solutions)[spc.active][0].solution)\n",
    "    print('done ' + str(i) + str(np.array(spc.solutions)[spc.active][0].solution) + ' at time ' + str(datetime.datetime.now()))"
   ]
  },
  {
   "cell_type": "markdown",
   "id": "8e86c037",
   "metadata": {},
   "source": [
    "### Analysis of analytic and Sim Opt outputs\n",
    "\n",
    "Here we order the solutions based on their analytical objective function value - and compare the results to the results of the KN Sim Opt routine (first results from using alpha = 0.05 and running the algorithm once. 'iter_elim' is the iteration of the algorithm where the solution was eliminated, 0 when this solution was never eliminated - i.e. the optimal. 'c' is the analytical cost (i.e. expectation of the time average of the size of the unsheltered queue). "
   ]
  },
  {
   "cell_type": "code",
   "execution_count": 23,
   "id": "8a99ce04",
   "metadata": {},
   "outputs": [
    {
     "ename": "NameError",
     "evalue": "name 'df_sim' is not defined",
     "output_type": "error",
     "traceback": [
      "\u001b[0;31m---------------------------------------------------------------------------\u001b[0m",
      "\u001b[0;31mNameError\u001b[0m                                 Traceback (most recent call last)",
      "Cell \u001b[0;32mIn[23], line 1\u001b[0m\n\u001b[0;32m----> 1\u001b[0m df_concat \u001b[38;5;241m=\u001b[39m df_analytic\u001b[38;5;241m.\u001b[39msort_values(by\u001b[38;5;241m=\u001b[39m\u001b[38;5;124m'\u001b[39m\u001b[38;5;124mc\u001b[39m\u001b[38;5;124m'\u001b[39m,ascending\u001b[38;5;241m=\u001b[39m\u001b[38;5;28;01mTrue\u001b[39;00m)\u001b[38;5;241m.\u001b[39mreset_index(drop\u001b[38;5;241m=\u001b[39m\u001b[38;5;28;01mTrue\u001b[39;00m)\u001b[38;5;241m.\u001b[39mmerge(df_sim, on \u001b[38;5;241m=\u001b[39m [\u001b[38;5;124m'\u001b[39m\u001b[38;5;124mh1\u001b[39m\u001b[38;5;124m'\u001b[39m, \u001b[38;5;124m'\u001b[39m\u001b[38;5;124mh2\u001b[39m\u001b[38;5;124m'\u001b[39m, \u001b[38;5;124m'\u001b[39m\u001b[38;5;124mh3\u001b[39m\u001b[38;5;124m'\u001b[39m, \u001b[38;5;124m'\u001b[39m\u001b[38;5;124mh4\u001b[39m\u001b[38;5;124m'\u001b[39m, \u001b[38;5;124m'\u001b[39m\u001b[38;5;124mh5\u001b[39m\u001b[38;5;124m'\u001b[39m, \u001b[38;5;124m'\u001b[39m\u001b[38;5;124msh1\u001b[39m\u001b[38;5;124m'\u001b[39m, \u001b[38;5;124m'\u001b[39m\u001b[38;5;124msh2\u001b[39m\u001b[38;5;124m'\u001b[39m, \u001b[38;5;124m'\u001b[39m\u001b[38;5;124msh3\u001b[39m\u001b[38;5;124m'\u001b[39m, \u001b[38;5;124m'\u001b[39m\u001b[38;5;124msh4\u001b[39m\u001b[38;5;124m'\u001b[39m, \u001b[38;5;124m'\u001b[39m\u001b[38;5;124msh5\u001b[39m\u001b[38;5;124m'\u001b[39m])\n\u001b[1;32m      2\u001b[0m df_concat\u001b[38;5;241m.\u001b[39mstyle\u001b[38;5;241m.\u001b[39mapply(\u001b[38;5;28;01mlambda\u001b[39;00m x: [\u001b[38;5;124m\"\u001b[39m\u001b[38;5;124mbackground: pink\u001b[39m\u001b[38;5;124m\"\u001b[39m \u001b[38;5;28;01mif\u001b[39;00m v \u001b[38;5;241m==\u001b[39m \u001b[38;5;241m24\u001b[39m \u001b[38;5;28;01melse\u001b[39;00m \u001b[38;5;124m\"\u001b[39m\u001b[38;5;124mbackground: black\u001b[39m\u001b[38;5;124m\"\u001b[39m \u001b[38;5;28;01mif\u001b[39;00m v\u001b[38;5;241m==\u001b[39m\u001b[38;5;124m'\u001b[39m\u001b[38;5;124m \u001b[39m\u001b[38;5;124m'\u001b[39m \u001b[38;5;28;01melse\u001b[39;00m \u001b[38;5;124m\"\u001b[39m\u001b[38;5;124mbackground: white\u001b[39m\u001b[38;5;124m\"\u001b[39m \u001b[38;5;28;01mfor\u001b[39;00m v \u001b[38;5;129;01min\u001b[39;00m x], axis \u001b[38;5;241m=\u001b[39m \u001b[38;5;241m1\u001b[39m)\n",
      "\u001b[0;31mNameError\u001b[0m: name 'df_sim' is not defined"
     ]
    }
   ],
   "source": [
    "df_concat = df_analytic.sort_values(by='c',ascending=True).reset_index(drop=True).merge(df_sim, on = ['h1', 'h2', 'h3', 'h4', 'h5', 'sh1', 'sh2', 'sh3', 'sh4', 'sh5'])\n",
    "df_concat.style.apply(lambda x: [\"background: pink\" if v == 24 else \"background: black\" if v==' ' else \"background: white\" for v in x], axis = 1)"
   ]
  },
  {
   "cell_type": "markdown",
   "id": "dca15118",
   "metadata": {},
   "source": [
    "Above we see that the Sim Opt algorithm (KN) agrees with the analytic resuls that building housing early is the most favourable option given this setup. "
   ]
  },
  {
   "cell_type": "markdown",
   "id": "f00e88d4",
   "metadata": {},
   "source": [
    "### A new solution space with shelter cheaper than housing\n",
    "\n",
    "There are clearly some real-world benefits to building shelter rather than housing which we should to some extent incorporate into the model. Two benefits might include: \n",
    "\n",
    "* shelter is cheaper to build than housing\n",
    "* shelter is quicker to build than housing. \n",
    "\n",
    "Firstly, we address the first bullet here and make shelter 0.5 times the price of housing. We achieve this by allowing double the number of shelter to be built, and changing the cost of the shelter, and keeping the annual budget the same. "
   ]
  },
  {
   "cell_type": "code",
   "execution_count": 16,
   "id": "b6467ee0",
   "metadata": {},
   "outputs": [],
   "source": [
    "# solution space constraints\n",
    "build_rate_options = {'housing' : [12, 24], 'shelter' : [24, 48]}\n",
    "annual_budget = 36\n",
    "accommodation_budgets = {'housing' : 84, 'shelter' : 168}\n",
    "costs = {'housing': 1, 'shelter': 0.5}\n",
    "build_rate_length_years = 4\n",
    "\n",
    "# geneate solution space\n",
    "sols_cheap_shelter = rs.generate_solution_space(build_rate_options, annual_budget, accommodation_budgets, costs, build_rate_length_years)\n",
    "sols_cheap_shelter = rs.keep_max_budget(sols_cheap_shelter, costs, annual_budget)"
   ]
  },
  {
   "cell_type": "code",
   "execution_count": 17,
   "id": "c68fb1f6",
   "metadata": {},
   "outputs": [],
   "source": [
    "# model analytically\n",
    "outputs_cheap_shelter = []\n",
    "for s in range(len(sols_cheap_shelter)):\n",
    "    q = qm.queue(data_as_is['arrival_rates'], \n",
    "                 data_as_is['service_mean'], \n",
    "                 data_as_is['initial_capacity'], \n",
    "                 sols_cheap_shelter[s], \n",
    "                 data_as_is['initial_demand'], \n",
    "                 data_as_is_analytical['max_in_system'],\n",
    "                 data_as_is['time_btwn_changes_in_build_rate'],\n",
    "                 data_as_is['time_btwn_building'])\n",
    "    q.model_dynamics(build_rate_length_years,\n",
    "                     data_as_is_analytical['delta_t'])\n",
    "    outputs_cheap_shelter.append(q.num_unsheltered_avg)"
   ]
  },
  {
   "cell_type": "code",
   "execution_count": 19,
   "id": "dea92e42",
   "metadata": {},
   "outputs": [
    {
     "data": {
      "text/html": [
       "<style type=\"text/css\">\n",
       "#T_755bb_row0_col0, #T_755bb_row0_col1, #T_755bb_row0_col2, #T_755bb_row0_col3, #T_755bb_row0_col8, #T_755bb_row0_col9, #T_755bb_row1_col0, #T_755bb_row1_col1, #T_755bb_row1_col2, #T_755bb_row1_col3, #T_755bb_row1_col7, #T_755bb_row1_col9, #T_755bb_row2_col0, #T_755bb_row2_col1, #T_755bb_row2_col2, #T_755bb_row2_col3, #T_755bb_row2_col7, #T_755bb_row2_col8, #T_755bb_row2_col9, #T_755bb_row3_col0, #T_755bb_row3_col1, #T_755bb_row3_col2, #T_755bb_row3_col3, #T_755bb_row3_col6, #T_755bb_row3_col9, #T_755bb_row4_col0, #T_755bb_row4_col1, #T_755bb_row4_col2, #T_755bb_row4_col3, #T_755bb_row4_col6, #T_755bb_row4_col8, #T_755bb_row4_col9, #T_755bb_row5_col0, #T_755bb_row5_col1, #T_755bb_row5_col2, #T_755bb_row5_col3, #T_755bb_row5_col6, #T_755bb_row5_col7, #T_755bb_row5_col9, #T_755bb_row6_col0, #T_755bb_row6_col1, #T_755bb_row6_col2, #T_755bb_row6_col3, #T_755bb_row6_col6, #T_755bb_row6_col7, #T_755bb_row6_col8, #T_755bb_row6_col9, #T_755bb_row7_col0, #T_755bb_row7_col1, #T_755bb_row7_col2, #T_755bb_row7_col3, #T_755bb_row7_col5, #T_755bb_row7_col9, #T_755bb_row8_col0, #T_755bb_row8_col1, #T_755bb_row8_col2, #T_755bb_row8_col3, #T_755bb_row8_col5, #T_755bb_row8_col8, #T_755bb_row8_col9, #T_755bb_row9_col0, #T_755bb_row9_col1, #T_755bb_row9_col2, #T_755bb_row9_col3, #T_755bb_row9_col5, #T_755bb_row9_col7, #T_755bb_row9_col9 {\n",
       "  background: white;\n",
       "}\n",
       "#T_755bb_row0_col4, #T_755bb_row1_col4, #T_755bb_row2_col4, #T_755bb_row3_col4, #T_755bb_row4_col4, #T_755bb_row5_col4, #T_755bb_row6_col4, #T_755bb_row7_col4, #T_755bb_row8_col4, #T_755bb_row9_col4 {\n",
       "  background: black;\n",
       "}\n",
       "#T_755bb_row0_col5, #T_755bb_row0_col6, #T_755bb_row0_col7, #T_755bb_row1_col5, #T_755bb_row1_col6, #T_755bb_row1_col8, #T_755bb_row2_col5, #T_755bb_row2_col6, #T_755bb_row3_col5, #T_755bb_row3_col7, #T_755bb_row3_col8, #T_755bb_row4_col5, #T_755bb_row4_col7, #T_755bb_row5_col5, #T_755bb_row5_col8, #T_755bb_row6_col5, #T_755bb_row7_col6, #T_755bb_row7_col7, #T_755bb_row7_col8, #T_755bb_row8_col6, #T_755bb_row8_col7, #T_755bb_row9_col6, #T_755bb_row9_col8 {\n",
       "  background: pink;\n",
       "}\n",
       "</style>\n",
       "<table id=\"T_755bb\">\n",
       "  <thead>\n",
       "    <tr>\n",
       "      <th class=\"blank level0\" >&nbsp;</th>\n",
       "      <th id=\"T_755bb_level0_col0\" class=\"col_heading level0 col0\" >h1</th>\n",
       "      <th id=\"T_755bb_level0_col1\" class=\"col_heading level0 col1\" >h2</th>\n",
       "      <th id=\"T_755bb_level0_col2\" class=\"col_heading level0 col2\" >h3</th>\n",
       "      <th id=\"T_755bb_level0_col3\" class=\"col_heading level0 col3\" >h4</th>\n",
       "      <th id=\"T_755bb_level0_col4\" class=\"col_heading level0 col4\" > </th>\n",
       "      <th id=\"T_755bb_level0_col5\" class=\"col_heading level0 col5\" >sh1</th>\n",
       "      <th id=\"T_755bb_level0_col6\" class=\"col_heading level0 col6\" >sh2</th>\n",
       "      <th id=\"T_755bb_level0_col7\" class=\"col_heading level0 col7\" >sh3</th>\n",
       "      <th id=\"T_755bb_level0_col8\" class=\"col_heading level0 col8\" >sh4</th>\n",
       "      <th id=\"T_755bb_level0_col9\" class=\"col_heading level0 col9\" >c</th>\n",
       "    </tr>\n",
       "  </thead>\n",
       "  <tbody>\n",
       "    <tr>\n",
       "      <th id=\"T_755bb_level0_row0\" class=\"row_heading level0 row0\" >0</th>\n",
       "      <td id=\"T_755bb_row0_col0\" class=\"data row0 col0\" >12</td>\n",
       "      <td id=\"T_755bb_row0_col1\" class=\"data row0 col1\" >12</td>\n",
       "      <td id=\"T_755bb_row0_col2\" class=\"data row0 col2\" >12</td>\n",
       "      <td id=\"T_755bb_row0_col3\" class=\"data row0 col3\" >24</td>\n",
       "      <td id=\"T_755bb_row0_col4\" class=\"data row0 col4\" > </td>\n",
       "      <td id=\"T_755bb_row0_col5\" class=\"data row0 col5\" >48</td>\n",
       "      <td id=\"T_755bb_row0_col6\" class=\"data row0 col6\" >48</td>\n",
       "      <td id=\"T_755bb_row0_col7\" class=\"data row0 col7\" >48</td>\n",
       "      <td id=\"T_755bb_row0_col8\" class=\"data row0 col8\" >24</td>\n",
       "      <td id=\"T_755bb_row0_col9\" class=\"data row0 col9\" >15.296606</td>\n",
       "    </tr>\n",
       "    <tr>\n",
       "      <th id=\"T_755bb_level0_row1\" class=\"row_heading level0 row1\" >1</th>\n",
       "      <td id=\"T_755bb_row1_col0\" class=\"data row1 col0\" >12</td>\n",
       "      <td id=\"T_755bb_row1_col1\" class=\"data row1 col1\" >12</td>\n",
       "      <td id=\"T_755bb_row1_col2\" class=\"data row1 col2\" >24</td>\n",
       "      <td id=\"T_755bb_row1_col3\" class=\"data row1 col3\" >12</td>\n",
       "      <td id=\"T_755bb_row1_col4\" class=\"data row1 col4\" > </td>\n",
       "      <td id=\"T_755bb_row1_col5\" class=\"data row1 col5\" >48</td>\n",
       "      <td id=\"T_755bb_row1_col6\" class=\"data row1 col6\" >48</td>\n",
       "      <td id=\"T_755bb_row1_col7\" class=\"data row1 col7\" >24</td>\n",
       "      <td id=\"T_755bb_row1_col8\" class=\"data row1 col8\" >48</td>\n",
       "      <td id=\"T_755bb_row1_col9\" class=\"data row1 col9\" >15.571613</td>\n",
       "    </tr>\n",
       "    <tr>\n",
       "      <th id=\"T_755bb_level0_row2\" class=\"row_heading level0 row2\" >2</th>\n",
       "      <td id=\"T_755bb_row2_col0\" class=\"data row2 col0\" >12</td>\n",
       "      <td id=\"T_755bb_row2_col1\" class=\"data row2 col1\" >12</td>\n",
       "      <td id=\"T_755bb_row2_col2\" class=\"data row2 col2\" >24</td>\n",
       "      <td id=\"T_755bb_row2_col3\" class=\"data row2 col3\" >24</td>\n",
       "      <td id=\"T_755bb_row2_col4\" class=\"data row2 col4\" > </td>\n",
       "      <td id=\"T_755bb_row2_col5\" class=\"data row2 col5\" >48</td>\n",
       "      <td id=\"T_755bb_row2_col6\" class=\"data row2 col6\" >48</td>\n",
       "      <td id=\"T_755bb_row2_col7\" class=\"data row2 col7\" >24</td>\n",
       "      <td id=\"T_755bb_row2_col8\" class=\"data row2 col8\" >24</td>\n",
       "      <td id=\"T_755bb_row2_col9\" class=\"data row2 col9\" >15.599233</td>\n",
       "    </tr>\n",
       "    <tr>\n",
       "      <th id=\"T_755bb_level0_row3\" class=\"row_heading level0 row3\" >3</th>\n",
       "      <td id=\"T_755bb_row3_col0\" class=\"data row3 col0\" >12</td>\n",
       "      <td id=\"T_755bb_row3_col1\" class=\"data row3 col1\" >24</td>\n",
       "      <td id=\"T_755bb_row3_col2\" class=\"data row3 col2\" >12</td>\n",
       "      <td id=\"T_755bb_row3_col3\" class=\"data row3 col3\" >12</td>\n",
       "      <td id=\"T_755bb_row3_col4\" class=\"data row3 col4\" > </td>\n",
       "      <td id=\"T_755bb_row3_col5\" class=\"data row3 col5\" >48</td>\n",
       "      <td id=\"T_755bb_row3_col6\" class=\"data row3 col6\" >24</td>\n",
       "      <td id=\"T_755bb_row3_col7\" class=\"data row3 col7\" >48</td>\n",
       "      <td id=\"T_755bb_row3_col8\" class=\"data row3 col8\" >48</td>\n",
       "      <td id=\"T_755bb_row3_col9\" class=\"data row3 col9\" >17.418341</td>\n",
       "    </tr>\n",
       "    <tr>\n",
       "      <th id=\"T_755bb_level0_row4\" class=\"row_heading level0 row4\" >4</th>\n",
       "      <td id=\"T_755bb_row4_col0\" class=\"data row4 col0\" >12</td>\n",
       "      <td id=\"T_755bb_row4_col1\" class=\"data row4 col1\" >24</td>\n",
       "      <td id=\"T_755bb_row4_col2\" class=\"data row4 col2\" >12</td>\n",
       "      <td id=\"T_755bb_row4_col3\" class=\"data row4 col3\" >24</td>\n",
       "      <td id=\"T_755bb_row4_col4\" class=\"data row4 col4\" > </td>\n",
       "      <td id=\"T_755bb_row4_col5\" class=\"data row4 col5\" >48</td>\n",
       "      <td id=\"T_755bb_row4_col6\" class=\"data row4 col6\" >24</td>\n",
       "      <td id=\"T_755bb_row4_col7\" class=\"data row4 col7\" >48</td>\n",
       "      <td id=\"T_755bb_row4_col8\" class=\"data row4 col8\" >24</td>\n",
       "      <td id=\"T_755bb_row4_col9\" class=\"data row4 col9\" >17.436595</td>\n",
       "    </tr>\n",
       "    <tr>\n",
       "      <th id=\"T_755bb_level0_row5\" class=\"row_heading level0 row5\" >5</th>\n",
       "      <td id=\"T_755bb_row5_col0\" class=\"data row5 col0\" >12</td>\n",
       "      <td id=\"T_755bb_row5_col1\" class=\"data row5 col1\" >24</td>\n",
       "      <td id=\"T_755bb_row5_col2\" class=\"data row5 col2\" >24</td>\n",
       "      <td id=\"T_755bb_row5_col3\" class=\"data row5 col3\" >12</td>\n",
       "      <td id=\"T_755bb_row5_col4\" class=\"data row5 col4\" > </td>\n",
       "      <td id=\"T_755bb_row5_col5\" class=\"data row5 col5\" >48</td>\n",
       "      <td id=\"T_755bb_row5_col6\" class=\"data row5 col6\" >24</td>\n",
       "      <td id=\"T_755bb_row5_col7\" class=\"data row5 col7\" >24</td>\n",
       "      <td id=\"T_755bb_row5_col8\" class=\"data row5 col8\" >48</td>\n",
       "      <td id=\"T_755bb_row5_col9\" class=\"data row5 col9\" >18.097754</td>\n",
       "    </tr>\n",
       "    <tr>\n",
       "      <th id=\"T_755bb_level0_row6\" class=\"row_heading level0 row6\" >6</th>\n",
       "      <td id=\"T_755bb_row6_col0\" class=\"data row6 col0\" >12</td>\n",
       "      <td id=\"T_755bb_row6_col1\" class=\"data row6 col1\" >24</td>\n",
       "      <td id=\"T_755bb_row6_col2\" class=\"data row6 col2\" >24</td>\n",
       "      <td id=\"T_755bb_row6_col3\" class=\"data row6 col3\" >24</td>\n",
       "      <td id=\"T_755bb_row6_col4\" class=\"data row6 col4\" > </td>\n",
       "      <td id=\"T_755bb_row6_col5\" class=\"data row6 col5\" >48</td>\n",
       "      <td id=\"T_755bb_row6_col6\" class=\"data row6 col6\" >24</td>\n",
       "      <td id=\"T_755bb_row6_col7\" class=\"data row6 col7\" >24</td>\n",
       "      <td id=\"T_755bb_row6_col8\" class=\"data row6 col8\" >24</td>\n",
       "      <td id=\"T_755bb_row6_col9\" class=\"data row6 col9\" >18.171364</td>\n",
       "    </tr>\n",
       "    <tr>\n",
       "      <th id=\"T_755bb_level0_row7\" class=\"row_heading level0 row7\" >7</th>\n",
       "      <td id=\"T_755bb_row7_col0\" class=\"data row7 col0\" >24</td>\n",
       "      <td id=\"T_755bb_row7_col1\" class=\"data row7 col1\" >12</td>\n",
       "      <td id=\"T_755bb_row7_col2\" class=\"data row7 col2\" >12</td>\n",
       "      <td id=\"T_755bb_row7_col3\" class=\"data row7 col3\" >12</td>\n",
       "      <td id=\"T_755bb_row7_col4\" class=\"data row7 col4\" > </td>\n",
       "      <td id=\"T_755bb_row7_col5\" class=\"data row7 col5\" >24</td>\n",
       "      <td id=\"T_755bb_row7_col6\" class=\"data row7 col6\" >48</td>\n",
       "      <td id=\"T_755bb_row7_col7\" class=\"data row7 col7\" >48</td>\n",
       "      <td id=\"T_755bb_row7_col8\" class=\"data row7 col8\" >48</td>\n",
       "      <td id=\"T_755bb_row7_col9\" class=\"data row7 col9\" >19.532380</td>\n",
       "    </tr>\n",
       "    <tr>\n",
       "      <th id=\"T_755bb_level0_row8\" class=\"row_heading level0 row8\" >8</th>\n",
       "      <td id=\"T_755bb_row8_col0\" class=\"data row8 col0\" >24</td>\n",
       "      <td id=\"T_755bb_row8_col1\" class=\"data row8 col1\" >12</td>\n",
       "      <td id=\"T_755bb_row8_col2\" class=\"data row8 col2\" >12</td>\n",
       "      <td id=\"T_755bb_row8_col3\" class=\"data row8 col3\" >24</td>\n",
       "      <td id=\"T_755bb_row8_col4\" class=\"data row8 col4\" > </td>\n",
       "      <td id=\"T_755bb_row8_col5\" class=\"data row8 col5\" >24</td>\n",
       "      <td id=\"T_755bb_row8_col6\" class=\"data row8 col6\" >48</td>\n",
       "      <td id=\"T_755bb_row8_col7\" class=\"data row8 col7\" >48</td>\n",
       "      <td id=\"T_755bb_row8_col8\" class=\"data row8 col8\" >24</td>\n",
       "      <td id=\"T_755bb_row8_col9\" class=\"data row8 col9\" >19.544187</td>\n",
       "    </tr>\n",
       "    <tr>\n",
       "      <th id=\"T_755bb_level0_row9\" class=\"row_heading level0 row9\" >9</th>\n",
       "      <td id=\"T_755bb_row9_col0\" class=\"data row9 col0\" >24</td>\n",
       "      <td id=\"T_755bb_row9_col1\" class=\"data row9 col1\" >12</td>\n",
       "      <td id=\"T_755bb_row9_col2\" class=\"data row9 col2\" >24</td>\n",
       "      <td id=\"T_755bb_row9_col3\" class=\"data row9 col3\" >12</td>\n",
       "      <td id=\"T_755bb_row9_col4\" class=\"data row9 col4\" > </td>\n",
       "      <td id=\"T_755bb_row9_col5\" class=\"data row9 col5\" >24</td>\n",
       "      <td id=\"T_755bb_row9_col6\" class=\"data row9 col6\" >48</td>\n",
       "      <td id=\"T_755bb_row9_col7\" class=\"data row9 col7\" >24</td>\n",
       "      <td id=\"T_755bb_row9_col8\" class=\"data row9 col8\" >48</td>\n",
       "      <td id=\"T_755bb_row9_col9\" class=\"data row9 col9\" >20.069642</td>\n",
       "    </tr>\n",
       "  </tbody>\n",
       "</table>\n"
      ],
      "text/plain": [
       "<pandas.io.formats.style.Styler at 0x7fd61863e790>"
      ]
     },
     "execution_count": 19,
     "metadata": {},
     "output_type": "execute_result"
    }
   ],
   "source": [
    "# Dataframe of analytic results\n",
    "my_list = []\n",
    "for i in range(len(sols_cheap_shelter)):\n",
    "    my_dict = {}\n",
    "    for index, element in enumerate(sols_cheap_shelter[i]['housing']):\n",
    "        my_dict[index] = element\n",
    "    my_dict[build_rate_length_years] = \" \"\n",
    "    for index, element in enumerate(sols_cheap_shelter[i]['shelter']):\n",
    "        my_dict[index+build_rate_length_years + 1] = element\n",
    "    my_dict[build_rate_length_years*2 + 1] = outputs_cheap_shelter[i]\n",
    "    my_list.append(my_dict)\n",
    "df_analytic = pd.DataFrame.from_dict(my_list)\n",
    "df_analytic.columns = ['h1', 'h2', 'h3', 'h4', ' ', 'sh1', 'sh2', 'sh3', 'sh4', 'c']\n",
    "\n",
    "df_analytic = df_analytic.sort_values(by='c',ascending=True).reset_index(drop=True)\n",
    "df_analytic.head(n=10).style.apply(lambda x: [\"background: pink\" if v == 48 else \"background: black\" if v==' ' else \"background: white\" for v in x], axis = 1)"
   ]
  },
  {
   "cell_type": "markdown",
   "id": "bb9f0eb0",
   "metadata": {},
   "source": [
    "### A new solution space with shelter cheaper than housing and allowing zero shelter or zero housing to be built. "
   ]
  },
  {
   "cell_type": "code",
   "execution_count": 20,
   "id": "438958c9",
   "metadata": {},
   "outputs": [],
   "source": [
    "# solution space constraints\n",
    "build_rate_options = {'housing' : [0, 9, 18], 'shelter' : [0, 18, 36]}\n",
    "annual_budget = 18\n",
    "accommodation_budgets = {'housing' : 54, 'shelter' : 108}\n",
    "costs = {'housing': 1, 'shelter': 0.5}\n",
    "build_rate_length_years = 4\n",
    "\n",
    "# geneate solution space\n",
    "sols_cheap_shelter_inc_zero = rs.generate_solution_space(build_rate_options, annual_budget, accommodation_budgets, costs, build_rate_length_years)\n",
    "sols_cheap_shelter_inc_zero = rs.keep_max_budget(sols_cheap_shelter_inc_zero, costs, annual_budget)"
   ]
  },
  {
   "cell_type": "code",
   "execution_count": 21,
   "id": "c743890f",
   "metadata": {},
   "outputs": [],
   "source": [
    "# model analytically\n",
    "outputs_cheap_shelter_inc_zero = []\n",
    "for s in range(len(sols_cheap_shelter_inc_zero)):\n",
    "    q = qm.queue(data_as_is['arrival_rates'], \n",
    "                 data_as_is['service_mean'], \n",
    "                 data_as_is['initial_capacity'], \n",
    "                 sols_cheap_shelter_inc_zero[s], \n",
    "                 data_as_is['initial_demand'], \n",
    "                 data_as_is_analytical['max_in_system'],\n",
    "                 data_as_is['time_btwn_changes_in_build_rate'],\n",
    "                 data_as_is['time_btwn_building'])\n",
    "    q.model_dynamics(build_rate_length_years,\n",
    "                     data_as_is_analytical['delta_t'])\n",
    "    outputs_cheap_shelter_inc_zero.append(q.num_unsheltered_avg)"
   ]
  },
  {
   "cell_type": "code",
   "execution_count": 22,
   "id": "85d07c61",
   "metadata": {},
   "outputs": [
    {
     "data": {
      "text/html": [
       "<style type=\"text/css\">\n",
       "#T_84f53_row0_col0, #T_84f53_row0_col1, #T_84f53_row0_col2, #T_84f53_row0_col3, #T_84f53_row0_col8, #T_84f53_row0_col9, #T_84f53_row1_col0, #T_84f53_row1_col1, #T_84f53_row1_col2, #T_84f53_row1_col3, #T_84f53_row1_col7, #T_84f53_row1_col8, #T_84f53_row1_col9, #T_84f53_row2_col0, #T_84f53_row2_col1, #T_84f53_row2_col2, #T_84f53_row2_col3, #T_84f53_row2_col7, #T_84f53_row2_col9, #T_84f53_row3_col0, #T_84f53_row3_col1, #T_84f53_row3_col2, #T_84f53_row3_col3, #T_84f53_row3_col7, #T_84f53_row3_col8, #T_84f53_row3_col9, #T_84f53_row4_col0, #T_84f53_row4_col1, #T_84f53_row4_col2, #T_84f53_row4_col3, #T_84f53_row4_col7, #T_84f53_row4_col8, #T_84f53_row4_col9, #T_84f53_row5_col0, #T_84f53_row5_col1, #T_84f53_row5_col2, #T_84f53_row5_col3, #T_84f53_row5_col7, #T_84f53_row5_col8, #T_84f53_row5_col9, #T_84f53_row6_col0, #T_84f53_row6_col1, #T_84f53_row6_col2, #T_84f53_row6_col3, #T_84f53_row6_col6, #T_84f53_row6_col8, #T_84f53_row6_col9, #T_84f53_row7_col0, #T_84f53_row7_col1, #T_84f53_row7_col2, #T_84f53_row7_col3, #T_84f53_row7_col6, #T_84f53_row7_col9, #T_84f53_row8_col0, #T_84f53_row8_col1, #T_84f53_row8_col2, #T_84f53_row8_col3, #T_84f53_row8_col6, #T_84f53_row8_col8, #T_84f53_row8_col9, #T_84f53_row9_col0, #T_84f53_row9_col1, #T_84f53_row9_col2, #T_84f53_row9_col3, #T_84f53_row9_col6, #T_84f53_row9_col8, #T_84f53_row9_col9 {\n",
       "  background: white;\n",
       "}\n",
       "#T_84f53_row0_col4, #T_84f53_row1_col4, #T_84f53_row2_col4, #T_84f53_row3_col4, #T_84f53_row4_col4, #T_84f53_row5_col4, #T_84f53_row6_col4, #T_84f53_row7_col4, #T_84f53_row8_col4, #T_84f53_row9_col4 {\n",
       "  background: black;\n",
       "}\n",
       "#T_84f53_row0_col5, #T_84f53_row0_col6, #T_84f53_row0_col7, #T_84f53_row1_col5, #T_84f53_row1_col6, #T_84f53_row2_col5, #T_84f53_row2_col6, #T_84f53_row2_col8, #T_84f53_row3_col5, #T_84f53_row3_col6, #T_84f53_row4_col5, #T_84f53_row4_col6, #T_84f53_row5_col5, #T_84f53_row5_col6, #T_84f53_row6_col5, #T_84f53_row6_col7, #T_84f53_row7_col5, #T_84f53_row7_col7, #T_84f53_row7_col8, #T_84f53_row8_col5, #T_84f53_row8_col7, #T_84f53_row9_col5, #T_84f53_row9_col7 {\n",
       "  background: pink;\n",
       "}\n",
       "</style>\n",
       "<table id=\"T_84f53\">\n",
       "  <thead>\n",
       "    <tr>\n",
       "      <th class=\"blank level0\" >&nbsp;</th>\n",
       "      <th id=\"T_84f53_level0_col0\" class=\"col_heading level0 col0\" >h1</th>\n",
       "      <th id=\"T_84f53_level0_col1\" class=\"col_heading level0 col1\" >h2</th>\n",
       "      <th id=\"T_84f53_level0_col2\" class=\"col_heading level0 col2\" >h3</th>\n",
       "      <th id=\"T_84f53_level0_col3\" class=\"col_heading level0 col3\" >h4</th>\n",
       "      <th id=\"T_84f53_level0_col4\" class=\"col_heading level0 col4\" > </th>\n",
       "      <th id=\"T_84f53_level0_col5\" class=\"col_heading level0 col5\" >sh1</th>\n",
       "      <th id=\"T_84f53_level0_col6\" class=\"col_heading level0 col6\" >sh2</th>\n",
       "      <th id=\"T_84f53_level0_col7\" class=\"col_heading level0 col7\" >sh3</th>\n",
       "      <th id=\"T_84f53_level0_col8\" class=\"col_heading level0 col8\" >sh4</th>\n",
       "      <th id=\"T_84f53_level0_col9\" class=\"col_heading level0 col9\" >c</th>\n",
       "    </tr>\n",
       "  </thead>\n",
       "  <tbody>\n",
       "    <tr>\n",
       "      <th id=\"T_84f53_level0_row0\" class=\"row_heading level0 row0\" >0</th>\n",
       "      <td id=\"T_84f53_row0_col0\" class=\"data row0 col0\" >0</td>\n",
       "      <td id=\"T_84f53_row0_col1\" class=\"data row0 col1\" >0</td>\n",
       "      <td id=\"T_84f53_row0_col2\" class=\"data row0 col2\" >0</td>\n",
       "      <td id=\"T_84f53_row0_col3\" class=\"data row0 col3\" >18</td>\n",
       "      <td id=\"T_84f53_row0_col4\" class=\"data row0 col4\" > </td>\n",
       "      <td id=\"T_84f53_row0_col5\" class=\"data row0 col5\" >36</td>\n",
       "      <td id=\"T_84f53_row0_col6\" class=\"data row0 col6\" >36</td>\n",
       "      <td id=\"T_84f53_row0_col7\" class=\"data row0 col7\" >36</td>\n",
       "      <td id=\"T_84f53_row0_col8\" class=\"data row0 col8\" >0</td>\n",
       "      <td id=\"T_84f53_row0_col9\" class=\"data row0 col9\" >59.591898</td>\n",
       "    </tr>\n",
       "    <tr>\n",
       "      <th id=\"T_84f53_level0_row1\" class=\"row_heading level0 row1\" >1</th>\n",
       "      <td id=\"T_84f53_row1_col0\" class=\"data row1 col0\" >0</td>\n",
       "      <td id=\"T_84f53_row1_col1\" class=\"data row1 col1\" >0</td>\n",
       "      <td id=\"T_84f53_row1_col2\" class=\"data row1 col2\" >9</td>\n",
       "      <td id=\"T_84f53_row1_col3\" class=\"data row1 col3\" >9</td>\n",
       "      <td id=\"T_84f53_row1_col4\" class=\"data row1 col4\" > </td>\n",
       "      <td id=\"T_84f53_row1_col5\" class=\"data row1 col5\" >36</td>\n",
       "      <td id=\"T_84f53_row1_col6\" class=\"data row1 col6\" >36</td>\n",
       "      <td id=\"T_84f53_row1_col7\" class=\"data row1 col7\" >18</td>\n",
       "      <td id=\"T_84f53_row1_col8\" class=\"data row1 col8\" >18</td>\n",
       "      <td id=\"T_84f53_row1_col9\" class=\"data row1 col9\" >63.096220</td>\n",
       "    </tr>\n",
       "    <tr>\n",
       "      <th id=\"T_84f53_level0_row2\" class=\"row_heading level0 row2\" >2</th>\n",
       "      <td id=\"T_84f53_row2_col0\" class=\"data row2 col0\" >0</td>\n",
       "      <td id=\"T_84f53_row2_col1\" class=\"data row2 col1\" >0</td>\n",
       "      <td id=\"T_84f53_row2_col2\" class=\"data row2 col2\" >18</td>\n",
       "      <td id=\"T_84f53_row2_col3\" class=\"data row2 col3\" >0</td>\n",
       "      <td id=\"T_84f53_row2_col4\" class=\"data row2 col4\" > </td>\n",
       "      <td id=\"T_84f53_row2_col5\" class=\"data row2 col5\" >36</td>\n",
       "      <td id=\"T_84f53_row2_col6\" class=\"data row2 col6\" >36</td>\n",
       "      <td id=\"T_84f53_row2_col7\" class=\"data row2 col7\" >0</td>\n",
       "      <td id=\"T_84f53_row2_col8\" class=\"data row2 col8\" >36</td>\n",
       "      <td id=\"T_84f53_row2_col9\" class=\"data row2 col9\" >63.241260</td>\n",
       "    </tr>\n",
       "    <tr>\n",
       "      <th id=\"T_84f53_level0_row3\" class=\"row_heading level0 row3\" >3</th>\n",
       "      <td id=\"T_84f53_row3_col0\" class=\"data row3 col0\" >0</td>\n",
       "      <td id=\"T_84f53_row3_col1\" class=\"data row3 col1\" >0</td>\n",
       "      <td id=\"T_84f53_row3_col2\" class=\"data row3 col2\" >9</td>\n",
       "      <td id=\"T_84f53_row3_col3\" class=\"data row3 col3\" >18</td>\n",
       "      <td id=\"T_84f53_row3_col4\" class=\"data row3 col4\" > </td>\n",
       "      <td id=\"T_84f53_row3_col5\" class=\"data row3 col5\" >36</td>\n",
       "      <td id=\"T_84f53_row3_col6\" class=\"data row3 col6\" >36</td>\n",
       "      <td id=\"T_84f53_row3_col7\" class=\"data row3 col7\" >18</td>\n",
       "      <td id=\"T_84f53_row3_col8\" class=\"data row3 col8\" >0</td>\n",
       "      <td id=\"T_84f53_row3_col9\" class=\"data row3 col9\" >63.681442</td>\n",
       "    </tr>\n",
       "    <tr>\n",
       "      <th id=\"T_84f53_level0_row4\" class=\"row_heading level0 row4\" >4</th>\n",
       "      <td id=\"T_84f53_row4_col0\" class=\"data row4 col0\" >0</td>\n",
       "      <td id=\"T_84f53_row4_col1\" class=\"data row4 col1\" >0</td>\n",
       "      <td id=\"T_84f53_row4_col2\" class=\"data row4 col2\" >18</td>\n",
       "      <td id=\"T_84f53_row4_col3\" class=\"data row4 col3\" >9</td>\n",
       "      <td id=\"T_84f53_row4_col4\" class=\"data row4 col4\" > </td>\n",
       "      <td id=\"T_84f53_row4_col5\" class=\"data row4 col5\" >36</td>\n",
       "      <td id=\"T_84f53_row4_col6\" class=\"data row4 col6\" >36</td>\n",
       "      <td id=\"T_84f53_row4_col7\" class=\"data row4 col7\" >0</td>\n",
       "      <td id=\"T_84f53_row4_col8\" class=\"data row4 col8\" >18</td>\n",
       "      <td id=\"T_84f53_row4_col9\" class=\"data row4 col9\" >64.560241</td>\n",
       "    </tr>\n",
       "    <tr>\n",
       "      <th id=\"T_84f53_level0_row5\" class=\"row_heading level0 row5\" >5</th>\n",
       "      <td id=\"T_84f53_row5_col0\" class=\"data row5 col0\" >0</td>\n",
       "      <td id=\"T_84f53_row5_col1\" class=\"data row5 col1\" >0</td>\n",
       "      <td id=\"T_84f53_row5_col2\" class=\"data row5 col2\" >18</td>\n",
       "      <td id=\"T_84f53_row5_col3\" class=\"data row5 col3\" >18</td>\n",
       "      <td id=\"T_84f53_row5_col4\" class=\"data row5 col4\" > </td>\n",
       "      <td id=\"T_84f53_row5_col5\" class=\"data row5 col5\" >36</td>\n",
       "      <td id=\"T_84f53_row5_col6\" class=\"data row5 col6\" >36</td>\n",
       "      <td id=\"T_84f53_row5_col7\" class=\"data row5 col7\" >0</td>\n",
       "      <td id=\"T_84f53_row5_col8\" class=\"data row5 col8\" >0</td>\n",
       "      <td id=\"T_84f53_row5_col9\" class=\"data row5 col9\" >65.145462</td>\n",
       "    </tr>\n",
       "    <tr>\n",
       "      <th id=\"T_84f53_level0_row6\" class=\"row_heading level0 row6\" >6</th>\n",
       "      <td id=\"T_84f53_row6_col0\" class=\"data row6 col0\" >0</td>\n",
       "      <td id=\"T_84f53_row6_col1\" class=\"data row6 col1\" >9</td>\n",
       "      <td id=\"T_84f53_row6_col2\" class=\"data row6 col2\" >0</td>\n",
       "      <td id=\"T_84f53_row6_col3\" class=\"data row6 col3\" >9</td>\n",
       "      <td id=\"T_84f53_row6_col4\" class=\"data row6 col4\" > </td>\n",
       "      <td id=\"T_84f53_row6_col5\" class=\"data row6 col5\" >36</td>\n",
       "      <td id=\"T_84f53_row6_col6\" class=\"data row6 col6\" >18</td>\n",
       "      <td id=\"T_84f53_row6_col7\" class=\"data row6 col7\" >36</td>\n",
       "      <td id=\"T_84f53_row6_col8\" class=\"data row6 col8\" >18</td>\n",
       "      <td id=\"T_84f53_row6_col9\" class=\"data row6 col9\" >65.506892</td>\n",
       "    </tr>\n",
       "    <tr>\n",
       "      <th id=\"T_84f53_level0_row7\" class=\"row_heading level0 row7\" >7</th>\n",
       "      <td id=\"T_84f53_row7_col0\" class=\"data row7 col0\" >0</td>\n",
       "      <td id=\"T_84f53_row7_col1\" class=\"data row7 col1\" >18</td>\n",
       "      <td id=\"T_84f53_row7_col2\" class=\"data row7 col2\" >0</td>\n",
       "      <td id=\"T_84f53_row7_col3\" class=\"data row7 col3\" >0</td>\n",
       "      <td id=\"T_84f53_row7_col4\" class=\"data row7 col4\" > </td>\n",
       "      <td id=\"T_84f53_row7_col5\" class=\"data row7 col5\" >36</td>\n",
       "      <td id=\"T_84f53_row7_col6\" class=\"data row7 col6\" >0</td>\n",
       "      <td id=\"T_84f53_row7_col7\" class=\"data row7 col7\" >36</td>\n",
       "      <td id=\"T_84f53_row7_col8\" class=\"data row7 col8\" >36</td>\n",
       "      <td id=\"T_84f53_row7_col9\" class=\"data row7 col9\" >65.813002</td>\n",
       "    </tr>\n",
       "    <tr>\n",
       "      <th id=\"T_84f53_level0_row8\" class=\"row_heading level0 row8\" >8</th>\n",
       "      <td id=\"T_84f53_row8_col0\" class=\"data row8 col0\" >0</td>\n",
       "      <td id=\"T_84f53_row8_col1\" class=\"data row8 col1\" >9</td>\n",
       "      <td id=\"T_84f53_row8_col2\" class=\"data row8 col2\" >0</td>\n",
       "      <td id=\"T_84f53_row8_col3\" class=\"data row8 col3\" >18</td>\n",
       "      <td id=\"T_84f53_row8_col4\" class=\"data row8 col4\" > </td>\n",
       "      <td id=\"T_84f53_row8_col5\" class=\"data row8 col5\" >36</td>\n",
       "      <td id=\"T_84f53_row8_col6\" class=\"data row8 col6\" >18</td>\n",
       "      <td id=\"T_84f53_row8_col7\" class=\"data row8 col7\" >36</td>\n",
       "      <td id=\"T_84f53_row8_col8\" class=\"data row8 col8\" >0</td>\n",
       "      <td id=\"T_84f53_row8_col9\" class=\"data row8 col9\" >66.092114</td>\n",
       "    </tr>\n",
       "    <tr>\n",
       "      <th id=\"T_84f53_level0_row9\" class=\"row_heading level0 row9\" >9</th>\n",
       "      <td id=\"T_84f53_row9_col0\" class=\"data row9 col0\" >0</td>\n",
       "      <td id=\"T_84f53_row9_col1\" class=\"data row9 col1\" >18</td>\n",
       "      <td id=\"T_84f53_row9_col2\" class=\"data row9 col2\" >0</td>\n",
       "      <td id=\"T_84f53_row9_col3\" class=\"data row9 col3\" >9</td>\n",
       "      <td id=\"T_84f53_row9_col4\" class=\"data row9 col4\" > </td>\n",
       "      <td id=\"T_84f53_row9_col5\" class=\"data row9 col5\" >36</td>\n",
       "      <td id=\"T_84f53_row9_col6\" class=\"data row9 col6\" >0</td>\n",
       "      <td id=\"T_84f53_row9_col7\" class=\"data row9 col7\" >36</td>\n",
       "      <td id=\"T_84f53_row9_col8\" class=\"data row9 col8\" >18</td>\n",
       "      <td id=\"T_84f53_row9_col9\" class=\"data row9 col9\" >67.131982</td>\n",
       "    </tr>\n",
       "  </tbody>\n",
       "</table>\n"
      ],
      "text/plain": [
       "<pandas.io.formats.style.Styler at 0x7fd616769790>"
      ]
     },
     "execution_count": 22,
     "metadata": {},
     "output_type": "execute_result"
    }
   ],
   "source": [
    "# Dataframe of analytic results\n",
    "my_list = []\n",
    "for i in range(len(sols_cheap_shelter_inc_zero)):\n",
    "    my_dict = {}\n",
    "    for index, element in enumerate(sols_cheap_shelter_inc_zero[i]['housing']):\n",
    "        my_dict[index] = element\n",
    "    my_dict[build_rate_length_years] = \" \"\n",
    "    for index, element in enumerate(sols_cheap_shelter_inc_zero[i]['shelter']):\n",
    "        my_dict[index+build_rate_length_years+1] = element\n",
    "    my_dict[build_rate_length_years*2 +1] = outputs_cheap_shelter_inc_zero[i]\n",
    "    my_list.append(my_dict)\n",
    "df_analytic = pd.DataFrame.from_dict(my_list)\n",
    "df_analytic.columns = ['h1', 'h2', 'h3', 'h4', ' ', 'sh1', 'sh2', 'sh3', 'sh4', 'c']\n",
    "\n",
    "df_analytic = df_analytic.sort_values(by='c',ascending=True).reset_index(drop=True)\n",
    "df_analytic.head(n=10).style.apply(lambda x: [\"background: pink\" if v == 36 else \"background: black\" if v==' ' else \"background: white\" for v in x], axis = 1)"
   ]
  },
  {
   "cell_type": "markdown",
   "id": "29ebd5a1",
   "metadata": {},
   "source": [
    "This indicates that given the new current set up - with cheaper shelter - shelter is always preferred over housing and even given the option of building a mix of shelter and housing, we would always opt for building no housing and all the shelter we can afford in this set up. "
   ]
  },
  {
   "cell_type": "markdown",
   "id": "43770103",
   "metadata": {},
   "source": [
    "### Exploring a range of different 'housing proportions'"
   ]
  },
  {
   "cell_type": "markdown",
   "id": "d7055590",
   "metadata": {},
   "source": [
    "In the previous example we looked at three different options each year: \n",
    "\n",
    "* 100\\% housing\n",
    "* 100\\% shelter\n",
    "* 1/3 housing, 2/3 shelter. \n",
    "\n",
    "The analytical results indicate (given current set up) that 100\\% housing is preferred. We now want to look at a wider range of proportions for housing. \n",
    "\n",
    "We below develop a relatively small solution space, but covering a wider range of housing proportions. "
   ]
  },
  {
   "cell_type": "code",
   "execution_count": 28,
   "id": "d9bcaa38",
   "metadata": {},
   "outputs": [],
   "source": [
    "# solution space constraints\n",
    "build_rate_options = {'housing' : [12, 24], 'shelter' : [12,24]}\n",
    "annual_budget = 36\n",
    "accommodation_budgets = {'housing' : 72, 'shelter' : 72}\n",
    "costs = {'housing': 1, 'shelter': 0.5}\n",
    "build_rate_length_years = 4\n",
    "\n",
    "# geneate solution space\n",
    "num_build_points = round(data_as_is['time_btwn_changes_in_build_rate']/data_as_is['time_btwn_building'])\n",
    "house_builds = [i for i in range(int(annual_budget/num_build_points)+1)] # every two months\n",
    "sols_range = []\n",
    "\n",
    "for n in house_builds: \n",
    "    new_sol = {'housing':[0 for i in range(build_rate_length_years)], 'shelter':[0 for i in range(build_rate_length_years)]}\n",
    "    for i in range(build_rate_length_years):\n",
    "        new_sol['housing'][i] = int(n*num_build_points)\n",
    "        new_sol['shelter'][i] = int((annual_budget - (n*num_build_points))*(1/costs['shelter']))\n",
    "    sols_range.append(new_sol)"
   ]
  },
  {
   "cell_type": "code",
   "execution_count": 29,
   "id": "ba339f82",
   "metadata": {},
   "outputs": [
    {
     "data": {
      "text/plain": [
       "[{'housing': [0, 0, 0, 0], 'shelter': [72, 72, 72, 72]},\n",
       " {'housing': [6, 6, 6, 6], 'shelter': [60, 60, 60, 60]},\n",
       " {'housing': [12, 12, 12, 12], 'shelter': [48, 48, 48, 48]},\n",
       " {'housing': [18, 18, 18, 18], 'shelter': [36, 36, 36, 36]},\n",
       " {'housing': [24, 24, 24, 24], 'shelter': [24, 24, 24, 24]},\n",
       " {'housing': [30, 30, 30, 30], 'shelter': [12, 12, 12, 12]},\n",
       " {'housing': [36, 36, 36, 36], 'shelter': [0, 0, 0, 0]}]"
      ]
     },
     "execution_count": 29,
     "metadata": {},
     "output_type": "execute_result"
    }
   ],
   "source": [
    "sols_range"
   ]
  },
  {
   "cell_type": "code",
   "execution_count": 32,
   "id": "79457255",
   "metadata": {},
   "outputs": [],
   "source": [
    "# model analytically\n",
    "outputs_range_unsh = []\n",
    "outputs_range_sh = []\n",
    "for s in range(len(sols_range)):\n",
    "    q = qm.queue([i+20 for i in data_as_is['arrival_rates']], # increase demand so Q doesn't clear\n",
    "                 data_as_is['service_mean'], \n",
    "                 data_as_is['initial_capacity'], \n",
    "                 sols_range[s], \n",
    "                 data_as_is['initial_demand'] + 60, # increase demand so Q doesn't clear\n",
    "                 data_as_is_analytical['max_in_system'],\n",
    "                 data_as_is['time_btwn_changes_in_build_rate'],\n",
    "                 data_as_is['time_btwn_building'])\n",
    "    q.model_dynamics(build_rate_length_years,\n",
    "                     data_as_is_analytical['delta_t'])\n",
    "    outputs_range_unsh.append(q.num_unsheltered_avg)\n",
    "    outputs_range_sh.append(q.num_sheltered_avg)"
   ]
  },
  {
   "cell_type": "markdown",
   "id": "62f63cbb",
   "metadata": {},
   "source": [
    "#### Cost function: linear with # unsheltered"
   ]
  },
  {
   "cell_type": "code",
   "execution_count": 37,
   "id": "68e2267a",
   "metadata": {},
   "outputs": [
    {
     "data": {
      "image/png": "[encoded data removed]",
      "text/plain": [
       "<Figure size 640x480 with 1 Axes>"
      ]
     },
     "metadata": {},
     "output_type": "display_data"
    }
   ],
   "source": [
    "# Plot analytical results\n",
    "# setup\n",
    "fig = plt.figure()\n",
    "ax = plt.axes()\n",
    "\n",
    "# plot\n",
    "x=[sols_range[i]['housing'][0]/(sols_range[i]['housing'][0] + sols_range[i]['shelter'][0]) for i in range(len(sols_range))]\n",
    "ax.plot(x, outputs_range)\n",
    "\n",
    "# axes\n",
    "plt.ylim([0, 140])\n",
    "\n",
    "# Set title \n",
    "ax.set_title(\"True cost of solution for different housing proportions\") \n",
    "    \n",
    "# adding labels \n",
    "ax.set_xlabel('Proportion of new accommodation which is housing') \n",
    "ax.set_ylabel('True cost (unsheltered Q)') \n",
    "\n",
    "plt.show()"
   ]
  },
  {
   "cell_type": "markdown",
   "id": "28085eb3",
   "metadata": {},
   "source": [
    "#### Cost function: quadratic with # unsheltered and # sheltered"
   ]
  },
  {
   "cell_type": "code",
   "execution_count": 38,
   "id": "76bd9c21",
   "metadata": {},
   "outputs": [],
   "source": [
    "def cost_function(sh,unsh):\n",
    "    cost = 0.5*(sh**2)+(unsh**2)\n",
    "    return cost\n",
    "\n",
    "costs = []\n",
    "for i in range(len(sols_range)):\n",
    "    costs.append(cost_function(outputs_range_sh[i],outputs_range_unsh[i]))"
   ]
  },
  {
   "cell_type": "code",
   "execution_count": 39,
   "id": "921f0195",
   "metadata": {},
   "outputs": [
    {
     "data": {
      "image/png": "[encoded data removed]",
      "text/plain": [
       "<Figure size 640x480 with 1 Axes>"
      ]
     },
     "metadata": {},
     "output_type": "display_data"
    }
   ],
   "source": [
    "# setup\n",
    "fig = plt.figure()\n",
    "ax = plt.axes()\n",
    "\n",
    "# plot\n",
    "ax.plot(x, costs)\n",
    "\n",
    "# axes\n",
    "#plt.ylim([0, 140])\n",
    "\n",
    "# Set title \n",
    "ax.set_title(\"True cost of solution for different housing proportions\") \n",
    "    \n",
    "# adding labels \n",
    "ax.set_xlabel('Proportion of new accommodation which is housing') \n",
    "ax.set_ylabel('True cost') \n",
    "\n",
    "plt.show()"
   ]
  },
  {
   "cell_type": "markdown",
   "id": "aa18323d",
   "metadata": {},
   "source": [
    "#### Exploring the effect of changing both the cost of shelter and the service time at housing"
   ]
  },
  {
   "cell_type": "code",
   "execution_count": 1,
   "id": "ac97fd65",
   "metadata": {},
   "outputs": [],
   "source": [
    "import ranking_and_selection as rs\n",
    "import queueing_model as qm\n",
    "import json\n",
    "import datetime"
   ]
  },
  {
   "cell_type": "code",
   "execution_count": 11,
   "id": "1cedbe9c",
   "metadata": {},
   "outputs": [],
   "source": [
    "# Opening JSON file\n",
    "with open('data_as_is.json') as json_file:\n",
    "    data_as_is = json.load(json_file)\n",
    "    \n",
    "# Opening JSON file\n",
    "with open('data_as_is_simulation.json') as json_file:\n",
    "    data_as_is_simulation = json.load(json_file)\n",
    "    \n",
    "# Opening JSON file\n",
    "with open('data_as_is_analytical.json') as json_file:\n",
    "    data_as_is_analytical = json.load(json_file)"
   ]
  },
  {
   "cell_type": "code",
   "execution_count": 3,
   "id": "84d3af22",
   "metadata": {},
   "outputs": [],
   "source": [
    "def obj_function(sh,unsh):\n",
    "    obj_value = unsh\n",
    "    return obj_value"
   ]
  },
  {
   "cell_type": "code",
   "execution_count": 4,
   "id": "c05d847f",
   "metadata": {},
   "outputs": [
    {
     "name": "stdout",
     "output_type": "stream",
     "text": [
      "start at time 2023-11-09 12:33:48.573800\n",
      "done (0, 0) at time 2023-11-09 12:34:36.654820\n",
      "done (0, 1) at time 2023-11-09 12:35:24.943817\n",
      "done (0, 2) at time 2023-11-09 12:36:12.684685\n",
      "done (0, 3) at time 2023-11-09 12:36:59.911444\n",
      "done (0, 4) at time 2023-11-09 12:37:47.296784\n",
      "done (0, 5) at time 2023-11-09 12:38:34.382399\n",
      "done (0, 6) at time 2023-11-09 12:39:21.462161\n",
      "done (0, 7) at time 2023-11-09 12:40:08.219160\n",
      "done (0, 8) at time 2023-11-09 12:40:55.291496\n",
      "done (0, 9) at time 2023-11-09 12:41:42.221995\n",
      "done (0, 10) at time 2023-11-09 12:42:29.559150\n",
      "done (0, 11) at time 2023-11-09 12:43:16.577020\n",
      "done (1, 0) at time 2023-11-09 12:44:03.460068\n",
      "done (1, 1) at time 2023-11-09 12:44:50.291897\n",
      "done (1, 2) at time 2023-11-09 12:45:37.761200\n",
      "done (1, 3) at time 2023-11-09 12:46:25.175864\n",
      "done (1, 4) at time 2023-11-09 12:47:12.299725\n",
      "done (1, 5) at time 2023-11-09 12:47:59.235753\n",
      "done (1, 6) at time 2023-11-09 12:48:46.187144\n",
      "done (1, 7) at time 2023-11-09 12:49:33.109794\n",
      "done (1, 8) at time 2023-11-09 12:50:20.164591\n",
      "done (1, 9) at time 2023-11-09 12:51:07.485440\n",
      "done (1, 10) at time 2023-11-09 12:51:54.494518\n",
      "done (1, 11) at time 2023-11-09 12:52:41.715142\n",
      "done (2, 0) at time 2023-11-09 12:53:29.349230\n",
      "done (2, 1) at time 2023-11-09 12:54:16.739642\n",
      "done (2, 2) at time 2023-11-09 12:55:03.896650\n",
      "done (2, 3) at time 2023-11-09 12:55:51.069574\n",
      "done (2, 4) at time 2023-11-09 12:56:38.133883\n",
      "done (2, 5) at time 2023-11-09 12:57:25.812395\n",
      "done (2, 6) at time 2023-11-09 12:58:13.239816\n",
      "done (2, 7) at time 2023-11-09 12:59:00.395990\n",
      "done (2, 8) at time 2023-11-09 12:59:47.277049\n",
      "done (2, 9) at time 2023-11-09 13:00:34.435327\n",
      "done (2, 10) at time 2023-11-09 13:01:21.477304\n",
      "done (2, 11) at time 2023-11-09 13:02:08.784229\n",
      "done (3, 0) at time 2023-11-09 13:02:55.986900\n",
      "done (3, 1) at time 2023-11-09 13:03:42.867774\n",
      "done (3, 2) at time 2023-11-09 13:04:29.764157\n",
      "done (3, 3) at time 2023-11-09 13:05:16.707722\n",
      "done (3, 4) at time 2023-11-09 13:06:03.906011\n",
      "done (3, 5) at time 2023-11-09 13:06:50.962814\n",
      "done (3, 6) at time 2023-11-09 13:07:38.340381\n",
      "done (3, 7) at time 2023-11-09 13:08:25.706309\n",
      "done (3, 8) at time 2023-11-09 13:09:13.321992\n",
      "done (3, 9) at time 2023-11-09 13:10:00.393444\n",
      "done (3, 10) at time 2023-11-09 13:10:47.745123\n",
      "done (3, 11) at time 2023-11-09 13:11:35.056774\n",
      "done (4, 0) at time 2023-11-09 13:12:22.691423\n",
      "done (4, 1) at time 2023-11-09 13:13:10.081222\n",
      "done (4, 2) at time 2023-11-09 13:13:57.257469\n",
      "done (4, 3) at time 2023-11-09 13:14:44.699253\n",
      "done (4, 4) at time 2023-11-09 13:15:31.981969\n",
      "done (4, 5) at time 2023-11-09 13:16:19.267338\n",
      "done (4, 6) at time 2023-11-09 13:17:06.707349\n",
      "done (4, 7) at time 2023-11-09 13:17:54.145238\n",
      "done (4, 8) at time 2023-11-09 13:18:42.044042\n",
      "done (4, 9) at time 2023-11-09 13:19:29.474926\n",
      "done (4, 10) at time 2023-11-09 13:20:16.968412\n",
      "done (4, 11) at time 2023-11-09 13:21:04.647592\n",
      "done (5, 0) at time 2023-11-09 13:21:52.235874\n",
      "done (5, 1) at time 2023-11-09 13:22:39.687296\n",
      "done (5, 2) at time 2023-11-09 13:23:27.489921\n",
      "done (5, 3) at time 2023-11-09 13:24:15.239140\n",
      "done (5, 4) at time 2023-11-09 13:25:03.655995\n",
      "done (5, 5) at time 2023-11-09 13:25:51.693542\n",
      "done (5, 6) at time 2023-11-09 13:26:39.599297\n",
      "done (5, 7) at time 2023-11-09 13:27:27.627739\n",
      "done (5, 8) at time 2023-11-09 13:28:15.355867\n",
      "done (5, 9) at time 2023-11-09 13:29:03.049044\n",
      "done (5, 10) at time 2023-11-09 13:29:51.045810\n",
      "done (5, 11) at time 2023-11-09 13:30:39.274189\n",
      "done (6, 0) at time 2023-11-09 13:31:27.066377\n",
      "done (6, 1) at time 2023-11-09 13:32:15.008852\n",
      "done (6, 2) at time 2023-11-09 13:33:02.718120\n",
      "done (6, 3) at time 2023-11-09 13:33:50.568266\n",
      "done (6, 4) at time 2023-11-09 13:34:38.325361\n",
      "done (6, 5) at time 2023-11-09 13:35:26.271260\n",
      "done (6, 6) at time 2023-11-09 13:36:13.677524\n",
      "done (6, 7) at time 2023-11-09 13:37:01.231733\n",
      "done (6, 8) at time 2023-11-09 13:37:49.462891\n",
      "done (6, 9) at time 2023-11-09 13:38:38.507453\n",
      "done (6, 10) at time 2023-11-09 13:39:27.787687\n",
      "done (6, 11) at time 2023-11-09 13:40:16.083562\n",
      "done (7, 0) at time 2023-11-09 13:41:04.054723\n",
      "done (7, 1) at time 2023-11-09 13:41:52.344176\n",
      "done (7, 2) at time 2023-11-09 13:42:40.709507\n",
      "done (7, 3) at time 2023-11-09 13:43:29.349401\n",
      "done (7, 4) at time 2023-11-09 13:44:17.674295\n",
      "done (7, 5) at time 2023-11-09 13:45:06.174874\n",
      "done (7, 6) at time 2023-11-09 13:45:54.343376\n",
      "done (7, 7) at time 2023-11-09 13:46:42.445273\n",
      "done (7, 8) at time 2023-11-09 13:47:30.344858\n",
      "done (7, 9) at time 2023-11-09 13:48:17.940366\n",
      "done (7, 10) at time 2023-11-09 13:49:05.643120\n",
      "done (7, 11) at time 2023-11-09 13:49:53.573159\n",
      "done (8, 0) at time 2023-11-09 13:50:41.482676\n",
      "done (8, 1) at time 2023-11-09 13:51:28.846750\n",
      "done (8, 2) at time 2023-11-09 13:52:16.521048\n",
      "done (8, 3) at time 2023-11-09 13:53:04.427489\n",
      "done (8, 4) at time 2023-11-09 13:53:51.854327\n",
      "done (8, 5) at time 2023-11-09 13:54:39.317635\n",
      "done (8, 6) at time 2023-11-09 13:55:27.279607\n",
      "done (8, 7) at time 2023-11-09 13:56:15.145299\n",
      "done (8, 8) at time 2023-11-09 13:57:02.926776\n",
      "done (8, 9) at time 2023-11-09 13:57:51.029462\n",
      "done (8, 10) at time 2023-11-09 13:58:38.799602\n",
      "done (8, 11) at time 2023-11-09 13:59:26.747761\n",
      "done (9, 0) at time 2023-11-09 14:00:14.671237\n",
      "done (9, 1) at time 2023-11-09 14:01:02.185045\n",
      "done (9, 2) at time 2023-11-09 14:01:49.918192\n",
      "done (9, 3) at time 2023-11-09 14:02:37.453747\n",
      "done (9, 4) at time 2023-11-09 14:03:24.828639\n",
      "done (9, 5) at time 2023-11-09 14:04:12.467910\n",
      "done (9, 6) at time 2023-11-09 14:04:59.998483\n",
      "done (9, 7) at time 2023-11-09 14:05:47.427918\n",
      "done (9, 8) at time 2023-11-09 14:06:35.102583\n",
      "done (9, 9) at time 2023-11-09 14:07:22.893954\n",
      "done (9, 10) at time 2023-11-09 14:08:10.903381\n",
      "done (9, 11) at time 2023-11-09 14:08:58.623682\n",
      "done (10, 0) at time 2023-11-09 14:09:46.610618\n",
      "done (10, 1) at time 2023-11-09 14:10:34.497739\n",
      "done (10, 2) at time 2023-11-09 14:11:21.981262\n",
      "done (10, 3) at time 2023-11-09 14:12:09.838352\n",
      "done (10, 4) at time 2023-11-09 14:12:57.559293\n",
      "done (10, 5) at time 2023-11-09 14:13:45.420180\n",
      "done (10, 6) at time 2023-11-09 14:14:33.000858\n",
      "done (10, 7) at time 2023-11-09 14:15:21.199615\n",
      "done (10, 8) at time 2023-11-09 14:16:09.552925\n",
      "done (10, 9) at time 2023-11-09 14:16:57.671865\n",
      "done (10, 10) at time 2023-11-09 14:17:45.501505\n",
      "done (10, 11) at time 2023-11-09 14:18:33.237700\n",
      "done (11, 0) at time 2023-11-09 14:19:21.088331\n",
      "done (11, 1) at time 2023-11-09 14:20:09.296754\n",
      "done (11, 2) at time 2023-11-09 14:20:57.683751\n",
      "done (11, 3) at time 2023-11-09 14:21:45.615469\n",
      "done (11, 4) at time 2023-11-09 14:22:33.854582\n",
      "done (11, 5) at time 2023-11-09 14:23:22.112711\n",
      "done (11, 6) at time 2023-11-09 14:24:10.395302\n",
      "done (11, 7) at time 2023-11-09 14:24:58.409888\n",
      "done (11, 8) at time 2023-11-09 14:25:46.231710\n",
      "done (11, 9) at time 2023-11-09 14:26:34.726944\n",
      "done (11, 10) at time 2023-11-09 14:27:22.715183\n",
      "done (11, 11) at time 2023-11-09 14:28:10.580966\n"
     ]
    }
   ],
   "source": [
    "# Explore range of shelter costs and service time distributions\n",
    "print('start at time ' + str(datetime.datetime.now()))\n",
    "additional_shelter = [i for i in range(12)]\n",
    "service_times = [(i*0.5) for i in range(1,13)]\n",
    "results = [[] for i in range(len(additional_shelter))]\n",
    "sol_spaces = [[] for i in range(len(additional_shelter))]\n",
    "\n",
    "for i in range(len(additional_shelter)):\n",
    "    for j in range(len(service_times)):\n",
    "        sols = rs.generate_solution_space_generic(additional_shelter[i], 4, 36)\n",
    "        sol_spaces[i].append(rs.SolutionSpace(sols))\n",
    "        sol_spaces[i][j].model_analytically(data_as_is, data_as_is_analytical, 4, service_times[j])\n",
    "        sol_spaces[i][j].find_true_best(obj_function, 'linear_unsh')\n",
    "        results[i].append(sum(sols[sol_spaces[i][j].true_best['linear_unsh'][0]]['housing'][0:3]))\n",
    "        print('done (' + str(i) + ', ' + str(j) + ')' + ' at time ' + str(datetime.datetime.now()))"
   ]
  },
  {
   "cell_type": "code",
   "execution_count": 28,
   "id": "24481e12",
   "metadata": {},
   "outputs": [
    {
     "data": {
      "text/plain": [
       "72"
      ]
     },
     "execution_count": 28,
     "metadata": {},
     "output_type": "execute_result"
    }
   ],
   "source": []
  },
  {
   "cell_type": "code",
   "execution_count": 26,
   "id": "a17708e7",
   "metadata": {},
   "outputs": [
    {
     "name": "stdout",
     "output_type": "stream",
     "text": [
      "[24, 24, 12, 12]\n",
      "[24, 24, 24, 12]\n",
      "[24, 24, 12, 24]\n",
      "3.848311836706097\n",
      "3.848311836706097\n",
      "3.848311836706097\n",
      "[2, 6, 10]\n"
     ]
    }
   ],
   "source": [
    "sols = rs.generate_solution_space_generic(additional_shelter[0], 4, 36)\n",
    "print(sols[sol_spaces[0][0].true_best['linear_unsh'][0]]['housing'])\n",
    "print(sols[sol_spaces[0][0].true_best['linear_unsh'][1]]['housing'])\n",
    "print(sols[sol_spaces[0][0].true_best['linear_unsh'][2]]['housing'])\n",
    "print(sol_spaces[0][0].true_outputs_sh[2])\n",
    "print(sol_spaces[0][0].true_outputs_sh[6])\n",
    "print(sol_spaces[0][0].true_outputs_sh[10])\n",
    "print(sol_spaces[0][0].true_best['linear_unsh'])"
   ]
  },
  {
   "cell_type": "markdown",
   "id": "2c4d0671",
   "metadata": {},
   "source": [
    "#### Exploring different objective functions"
   ]
  },
  {
   "cell_type": "code",
   "execution_count": 31,
   "id": "b03551b4",
   "metadata": {},
   "outputs": [],
   "source": [
    "def obj_function_unsh_sh(sh,unsh):\n",
    "    obj_value = unsh + 0.5*sh \n",
    "    return obj_value\n",
    "\n",
    "def obj_function_unsh_sh_quad(sh,unsh):\n",
    "    obj_value = (unsh**2) + 0.5*(sh**2)\n",
    "    return obj_value"
   ]
  },
  {
   "cell_type": "code",
   "execution_count": 93,
   "id": "2b2d4d8c",
   "metadata": {},
   "outputs": [],
   "source": [
    "results_unsh_linear = [[] for i in range(len(additional_shelter))]\n",
    "results_combo_linear = [[] for i in range(len(additional_shelter))]\n",
    "results_combo_quad = [[] for i in range(len(additional_shelter))]\n",
    "\n",
    "for i in range(len(additional_shelter)):\n",
    "    for j in range(1,10):\n",
    "        sol_spaces[i][j].find_true_best(obj_function, 'linear_unsh')\n",
    "        results_unsh_linear[i].append(min([sum(sols[sol_spaces[i][j].true_best['linear_unsh'][k]]['housing'][0:3]) for k in range(len(sol_spaces[i][j].true_best['linear_unsh']))]))\n",
    "        sol_spaces[i][j].find_true_best(obj_function_unsh_sh, 'linear_unsh_sh')\n",
    "        results_combo_linear[i].append(min([sum(sols[sol_spaces[i][j].true_best['linear_unsh_sh'][k]]['housing'][0:3]) for k in range(len(sol_spaces[i][j].true_best['linear_unsh_sh']))]))\n",
    "        sol_spaces[i][j].find_true_best(obj_function_unsh_sh_quad, 'quad_unsh_sh')\n",
    "        results_combo_quad[i].append(min([sum(sols[sol_spaces[i][j].true_best['quad_unsh_sh'][k]]['housing'][0:3]) for k in range(len(sol_spaces[i][j].true_best['quad_unsh_sh']))]))"
   ]
  },
  {
   "cell_type": "code",
   "execution_count": 97,
   "id": "baac7bf1",
   "metadata": {},
   "outputs": [
    {
     "data": {
      "text/plain": [
       "[[72, 72, 72, 72, 72, 72, 72, 72, 72],\n",
       " [72, 72, 72, 72, 72, 72, 72, 72, 72],\n",
       " [72, 72, 72, 72, 72, 72, 72, 72, 72],\n",
       " [36, 36, 36, 48, 48, 48, 36, 36, 36],\n",
       " [36, 36, 36, 48, 48, 48, 36, 36, 36],\n",
       " [36, 36, 36, 48, 48, 48, 36, 36, 36],\n",
       " [36, 36, 36, 36, 36, 36, 36, 36, 36],\n",
       " [36, 36, 36, 36, 36, 36, 36, 36, 36],\n",
       " [36, 36, 36, 36, 36, 36, 36, 36, 36],\n",
       " [36, 36, 36, 36, 36, 36, 36, 36, 36],\n",
       " [36, 36, 36, 36, 36, 36, 36, 36, 36],\n",
       " [36, 36, 36, 36, 36, 36, 36, 36, 36]]"
      ]
     },
     "execution_count": 97,
     "metadata": {},
     "output_type": "execute_result"
    }
   ],
   "source": [
    "results_unsh_linear"
   ]
  },
  {
   "cell_type": "code",
   "execution_count": 109,
   "id": "bb70342f",
   "metadata": {},
   "outputs": [
    {
     "name": "stdout",
     "output_type": "stream",
     "text": [
      "------------\n",
      "34.76140659716265\n",
      "[24, 24, 24, 12]\n",
      "[12, 12, 12, 24]\n",
      "------------\n",
      "34.76140659716265\n",
      "[24, 24, 24, 12]\n",
      "[13, 13, 13, 26]\n",
      "------------\n",
      "34.76140659716265\n",
      "[24, 24, 24, 12]\n",
      "[14, 14, 14, 28]\n",
      "------------\n",
      "32.15522671147337\n",
      "[24, 12, 12, 12]\n",
      "[15, 30, 30, 30]\n",
      "------------\n",
      "32.15522671147337\n",
      "[24, 12, 12, 12]\n",
      "[16, 32, 32, 32]\n",
      "------------\n",
      "32.15522671147337\n",
      "[24, 12, 12, 12]\n",
      "[17, 34, 34, 34]\n",
      "------------\n",
      "23.018918130794372\n",
      "[12, 12, 12, 24]\n",
      "[36, 36, 36, 18]\n",
      "------------\n",
      "23.018918130794372\n",
      "[12, 12, 12, 24]\n",
      "[38, 38, 38, 19]\n",
      "------------\n",
      "23.018918130794372\n",
      "[12, 12, 12, 24]\n",
      "[40, 40, 40, 20]\n",
      "------------\n",
      "17.290758540798343\n",
      "[12, 12, 12, 24]\n",
      "[42, 42, 42, 21]\n",
      "------------\n",
      "17.290758540798343\n",
      "[12, 12, 12, 24]\n",
      "[44, 44, 44, 22]\n",
      "------------\n",
      "17.290758540798343\n",
      "[12, 12, 12, 24]\n",
      "[46, 46, 46, 23]\n"
     ]
    }
   ],
   "source": [
    "j = 6\n",
    "\n",
    "for i in range(12):\n",
    "    sols = rs.generate_solution_space_generic(additional_shelter[i], 4, 36)\n",
    "    #print(sol_spaces[i][j].true_best['linear_unsh'])\n",
    "    print('------------')\n",
    "    print(sol_spaces[i][j].true_outputs_unsh[sol_spaces[i][j].true_best['linear_unsh'][0]])\n",
    "    print(sols[sol_spaces[i][j].true_best['linear_unsh'][0]]['housing'])\n",
    "    print(sols[sol_spaces[i][j].true_best['linear_unsh'][0]]['shelter'])"
   ]
  },
  {
   "cell_type": "markdown",
   "id": "802b9780",
   "metadata": {},
   "source": [
    "#### Sim Opt with non-zero shetler service"
   ]
  },
  {
   "cell_type": "code",
   "execution_count": null,
   "id": "19878220",
   "metadata": {},
   "outputs": [],
   "source": [
    "# solution space constraints\n",
    "build_rate_options = {'housing' : [12, 24], 'shelter' : [24,48]}\n",
    "annual_budget = 36\n",
    "accommodation_budgets = {'housing' : 84, 'shelter' : 168}\n",
    "costs = {'housing': 1, 'shelter': 0.5}\n",
    "build_rate_length_years = 4\n",
    "\n",
    "# generate solution space\n",
    "sols = rs.generate_solution_space(build_rate_options, \n",
    "                                  annual_budget, \n",
    "                                  accommodation_budgets, \n",
    "                                  costs, \n",
    "                                  build_rate_length_years)\n",
    "\n",
    "sols = rs.keep_max_budget(sols, costs, annual_budget)\n",
    "spc = rs.SolutionSpace(sols)"
   ]
  },
  {
   "cell_type": "code",
   "execution_count": null,
   "id": "492067d5",
   "metadata": {},
   "outputs": [],
   "source": [
    "sol_spaces = []\n",
    "data_as_is['analysis_horizon'] = 3.75\n",
    "for i in range(1, 6):\n",
    "    sol_spaces.append(rs.SolutionSpace(sols))\n",
    "    data_as_is['service_mean'] = {'housing' : float(i), 'shelter' : float(5-i)}\n",
    "    random.seed(1)\n",
    "    sol_spaces[i-1].optimise_rs(0.05, \n",
    "                              50, \n",
    "                              1, \n",
    "                              sim.simulate_as_is, \n",
    "                              True, \n",
    "                              True, \n",
    "                              data_as_is = data_as_is, \n",
    "                              data_as_is_simulation = data_as_is_simulation)"
   ]
  }
 ],
 "metadata": {
  "kernelspec": {
   "display_name": "Python 3 (ipykernel)",
   "language": "python",
   "name": "python3"
  },
  "language_info": {
   "codemirror_mode": {
    "name": "ipython",
    "version": 3
   },
   "file_extension": ".py",
   "mimetype": "text/x-python",
   "name": "python",
   "nbconvert_exporter": "python",
   "pygments_lexer": "ipython3",
   "version": "3.11.5"
  }
 },
 "nbformat": 4,
 "nbformat_minor": 5
}
