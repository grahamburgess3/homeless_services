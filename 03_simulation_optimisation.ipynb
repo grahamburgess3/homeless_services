{
 "cells": [
  {
   "cell_type": "markdown",
   "id": "f6376ebf",
   "metadata": {},
   "source": [
    "# Simulation Optimsiation using DES model of homeless response system"
   ]
  },
  {
   "cell_type": "code",
   "execution_count": 1,
   "id": "af7ca805",
   "metadata": {},
   "outputs": [
    {
     "name": "stdout",
     "output_type": "stream",
     "text": [
      "Current version of this notebook updated 2023-10-23\n"
     ]
    }
   ],
   "source": [
    "import datetime\n",
    "print('Current version of this notebook updated ' + str(datetime.date.today()))"
   ]
  },
  {
   "cell_type": "markdown",
   "id": "a165b34c",
   "metadata": {},
   "source": [
    "## Ranking & Selection"
   ]
  },
  {
   "cell_type": "markdown",
   "id": "d00cacfd",
   "metadata": {},
   "source": [
    "First we employ a Ranking & Selection algorithm based on the Kim & Nelson procedure. Details of this procedure can be found in section 9.3.2 (page 247) of 'Foundation and Methods of Stochastic Simulation' - Edition 2 (2021). The Python code for this procedure is found in the ranking_and_selection.py file in the GitHub repository. Below we import this module, and some others"
   ]
  },
  {
   "cell_type": "code",
   "execution_count": 10,
   "id": "3b8cdc6e",
   "metadata": {},
   "outputs": [],
   "source": [
    "# modules from this repository\n",
    "import ranking_and_selection as rs\n",
    "import simulation_model as sim\n",
    "import queueing_model as qm\n",
    "\n",
    "# external packages\n",
    "import numpy as np\n",
    "import random\n",
    "import matplotlib.pyplot as plt"
   ]
  },
  {
   "cell_type": "markdown",
   "id": "49f98950",
   "metadata": {},
   "source": [
    "### Testing using Inventory System\n",
    "\n",
    "In order to test our KN procedure, we test it on a simulation model which has already been analysed using the KN algorithm in STOR-606 module - this is an $(s,S)$ inventory system where stock is replenished to a level of $S$ when it reaches $s$. "
   ]
  },
  {
   "cell_type": "code",
   "execution_count": 3,
   "id": "fe557041",
   "metadata": {},
   "outputs": [],
   "source": [
    "solutions = [i for i in range(1600)]\n",
    "k=np.array([i for i in range(1600)])\n",
    "\n",
    "def simulate(solution):\n",
    "    # one replication of simulating the cost of the inventory policy\n",
    "    out=rs.InventorySystem(solution)[0]\n",
    "    return out"
   ]
  },
  {
   "cell_type": "code",
   "execution_count": 4,
   "id": "50d49cad",
   "metadata": {},
   "outputs": [],
   "source": [
    "random.seed(1)\n",
    "opt_sols = []\n",
    "for i in range(10):\n",
    "    spc = rs.SolutionSpace(solutions)\n",
    "    spc.optimise_rs(0.05, 50, 1, simulate, False)\n",
    "    s,S = rs.get_sS_system(k[spc.active][0])\n",
    "    opt_sols.append((s,S))"
   ]
  },
  {
   "cell_type": "code",
   "execution_count": 5,
   "id": "ac5bb229",
   "metadata": {},
   "outputs": [
    {
     "name": "stdout",
     "output_type": "stream",
     "text": [
      "(s,S) for the optimal solution found at each iteration of the algorithm\n",
      "[(19, 51), (18, 54), (16, 51), (21, 56), (16, 54), (21, 53), (13, 50), (16, 51), (17, 49), (20, 50)]\n"
     ]
    }
   ],
   "source": [
    "print('(s,S) for the optimal solution found at each iteration of the algorithm')\n",
    "print(opt_sols)"
   ]
  },
  {
   "cell_type": "markdown",
   "id": "1baeb576",
   "metadata": {},
   "source": [
    "The above illustrates that this KN algorithm can return different solutions when it is run at different times (i.e. with different starting seeds) - this is likely due to the difference between the true best and other good solutions being less than the 'delta' indiffference zone parameter used when running the algorithm above. "
   ]
  },
  {
   "cell_type": "markdown",
   "id": "706959ca",
   "metadata": {},
   "source": [
    "### Developing a discrete solution space for the homeless response system"
   ]
  },
  {
   "cell_type": "code",
   "execution_count": 71,
   "id": "c1c06a8c",
   "metadata": {},
   "outputs": [],
   "source": [
    "build_rate_options = {'housing' : [12, 24], 'shelter' : [12,24]}\n",
    "annual_budget = 36\n",
    "accommodation_budgets = {'housing' : 96, 'shelter' : 96}\n",
    "simulation_length = 5\n",
    "\n",
    "sols = rs.generate_solution_space(build_rate_options, annual_budget, accommodation_budgets, simulation_length)"
   ]
  },
  {
   "cell_type": "markdown",
   "id": "66219de3",
   "metadata": {},
   "source": [
    "Below we print ten of the 221 feasible solutions"
   ]
  },
  {
   "cell_type": "code",
   "execution_count": 72,
   "id": "0a05454a",
   "metadata": {},
   "outputs": [
    {
     "data": {
      "text/plain": [
       "[{'housing': [12, 12, 12, 12, 12], 'shelter': [12, 12, 12, 12, 12]},\n",
       " {'housing': [12, 12, 12, 12, 12], 'shelter': [24, 12, 12, 12, 12]},\n",
       " {'housing': [24, 12, 12, 12, 12], 'shelter': [12, 12, 12, 12, 12]},\n",
       " {'housing': [12, 12, 12, 12, 12], 'shelter': [12, 24, 12, 12, 12]},\n",
       " {'housing': [12, 12, 12, 12, 12], 'shelter': [24, 24, 12, 12, 12]},\n",
       " {'housing': [24, 12, 12, 12, 12], 'shelter': [12, 24, 12, 12, 12]},\n",
       " {'housing': [12, 24, 12, 12, 12], 'shelter': [12, 12, 12, 12, 12]},\n",
       " {'housing': [12, 24, 12, 12, 12], 'shelter': [24, 12, 12, 12, 12]},\n",
       " {'housing': [24, 24, 12, 12, 12], 'shelter': [12, 12, 12, 12, 12]}]"
      ]
     },
     "execution_count": 72,
     "metadata": {},
     "output_type": "execute_result"
    }
   ],
   "source": [
    "sols[0:9]"
   ]
  },
  {
   "cell_type": "markdown",
   "id": "0ba31f40",
   "metadata": {},
   "source": [
    "Below we initialise a solution space object with the solutions we have generated"
   ]
  },
  {
   "cell_type": "code",
   "execution_count": 73,
   "id": "a20bbd8a",
   "metadata": {},
   "outputs": [],
   "source": [
    "spc = rs.SolutionSpace(sols)"
   ]
  },
  {
   "cell_type": "markdown",
   "id": "1fdc7e23",
   "metadata": {},
   "source": [
    "We next set a seed and then look for an optimal solution using the KN algorithm. A line of text is printed below whenever solutions are removed from the candidate list by the algorithm. "
   ]
  },
  {
   "cell_type": "code",
   "execution_count": 6,
   "id": "4061db4e",
   "metadata": {},
   "outputs": [],
   "source": [
    "random.seed(1)\n",
    "spc.optimise_rs(0.05, 10, 2, sim.simulate_as_is, False)"
   ]
  },
  {
   "cell_type": "markdown",
   "id": "e8eaf074",
   "metadata": {},
   "source": [
    "The details of the optimal solution are given below, followed by the following 20 solutions in decreasing order of the iteration number at which the KN algorithm removed them from the candidate list. "
   ]
  },
  {
   "cell_type": "code",
   "execution_count": 7,
   "id": "7f6873ab",
   "metadata": {},
   "outputs": [
    {
     "data": {
      "text/plain": [
       "{'housing': [50, 50, 50, 25, 25], 'shelter': [25, 25, 25, 25, 25]}"
      ]
     },
     "execution_count": 7,
     "metadata": {},
     "output_type": "execute_result"
    }
   ],
   "source": [
    "np.array(spc.solutions)[spc.active][0].solution"
   ]
  },
  {
   "cell_type": "code",
   "execution_count": 8,
   "id": "81d1f488",
   "metadata": {},
   "outputs": [
    {
     "name": "stdout",
     "output_type": "stream",
     "text": [
      "{'housing': [25, 50, 25, 25, 50], 'shelter': [25, 25, 50, 50, 25]} eliminated after 333\n",
      "{'housing': [50, 50, 25, 25, 25], 'shelter': [25, 25, 25, 50, 50]} eliminated after 174\n",
      "{'housing': [50, 25, 25, 25, 50], 'shelter': [25, 25, 25, 25, 25]} eliminated after 174\n",
      "{'housing': [25, 25, 50, 25, 50], 'shelter': [25, 25, 25, 50, 25]} eliminated after 173\n",
      "{'housing': [50, 25, 25, 25, 50], 'shelter': [25, 25, 50, 50, 25]} eliminated after 172\n",
      "{'housing': [50, 25, 25, 25, 25], 'shelter': [25, 25, 50, 25, 25]} eliminated after 131\n",
      "{'housing': [50, 50, 25, 25, 25], 'shelter': [25, 25, 25, 50, 25]} eliminated after 115\n",
      "{'housing': [50, 25, 50, 25, 25], 'shelter': [25, 25, 25, 50, 25]} eliminated after 109\n",
      "{'housing': [50, 25, 50, 25, 25], 'shelter': [25, 25, 25, 25, 25]} eliminated after 101\n",
      "{'housing': [50, 25, 25, 50, 50], 'shelter': [25, 50, 25, 25, 25]} eliminated after 98\n",
      "{'housing': [25, 25, 50, 50, 25], 'shelter': [25, 25, 25, 25, 25]} eliminated after 92\n",
      "{'housing': [50, 25, 50, 25, 50], 'shelter': [25, 50, 25, 50, 25]} eliminated after 90\n",
      "{'housing': [50, 25, 25, 25, 25], 'shelter': [25, 25, 50, 50, 50]} eliminated after 88\n",
      "{'housing': [50, 25, 25, 50, 25], 'shelter': [25, 50, 25, 25, 25]} eliminated after 86\n",
      "{'housing': [50, 50, 25, 50, 25], 'shelter': [25, 25, 25, 25, 50]} eliminated after 84\n",
      "{'housing': [50, 25, 25, 50, 25], 'shelter': [25, 25, 25, 25, 25]} eliminated after 84\n",
      "{'housing': [50, 25, 25, 25, 50], 'shelter': [25, 25, 50, 25, 25]} eliminated after 80\n",
      "{'housing': [50, 50, 25, 25, 50], 'shelter': [25, 25, 25, 25, 25]} eliminated after 80\n",
      "{'housing': [25, 50, 25, 25, 25], 'shelter': [25, 25, 50, 25, 25]} eliminated after 78\n",
      "{'housing': [50, 50, 50, 25, 25], 'shelter': [25, 25, 25, 50, 25]} eliminated after 77\n",
      "{'housing': [25, 50, 50, 50, 25], 'shelter': [50, 25, 25, 25, 50]} eliminated after 77\n"
     ]
    }
   ],
   "source": [
    "sort_index = np.flip(np.argsort(np.array(spc.eliminate)))\n",
    "n = 0 # count of solutions printed\n",
    "for i in sort_index:\n",
    "    print(str(spc.solutions[i].solution) + ' eliminated after ' + str(spc.eliminate[i]))\n",
    "    n+=1\n",
    "    if n>20:\n",
    "        break"
   ]
  },
  {
   "cell_type": "markdown",
   "id": "c3310c45",
   "metadata": {},
   "source": [
    "Next steps: \n",
    "\n",
    "* To identify good solutions using the analytical model\n",
    "* To explore (potentially using data from the simulated solutions) why certain solutions are performing better than others. "
   ]
  },
  {
   "cell_type": "code",
   "execution_count": null,
   "id": "a6b16de4",
   "metadata": {},
   "outputs": [
    {
     "name": "stdout",
     "output_type": "stream",
     "text": [
      "done 0 at time 2023-10-23 16:22:46.561109\n",
      "done 1 at time 2023-10-23 16:22:56.292309\n",
      "done 2 at time 2023-10-23 16:23:05.978307\n",
      "done 3 at time 2023-10-23 16:23:15.803150\n",
      "done 4 at time 2023-10-23 16:23:25.555050\n",
      "done 5 at time 2023-10-23 16:23:35.396626\n",
      "done 6 at time 2023-10-23 16:23:45.367403\n",
      "done 7 at time 2023-10-23 16:23:55.171308\n",
      "done 8 at time 2023-10-23 16:24:04.890582\n",
      "done 9 at time 2023-10-23 16:24:14.844254\n",
      "done 10 at time 2023-10-23 16:24:24.621915\n",
      "done 11 at time 2023-10-23 16:24:34.314729\n",
      "done 12 at time 2023-10-23 16:24:44.070288\n",
      "done 13 at time 2023-10-23 16:24:53.893081\n",
      "done 14 at time 2023-10-23 16:25:03.526758\n",
      "done 15 at time 2023-10-23 16:25:13.274372\n",
      "done 16 at time 2023-10-23 16:25:22.967292\n",
      "done 17 at time 2023-10-23 16:25:32.559267\n",
      "done 18 at time 2023-10-23 16:25:42.279379\n",
      "done 19 at time 2023-10-23 16:25:52.175963\n",
      "done 20 at time 2023-10-23 16:26:01.985754\n",
      "done 21 at time 2023-10-23 16:26:11.873744\n",
      "done 22 at time 2023-10-23 16:26:21.676736\n",
      "done 23 at time 2023-10-23 16:26:31.286467\n",
      "done 24 at time 2023-10-23 16:26:41.112051\n",
      "done 25 at time 2023-10-23 16:26:50.943725\n",
      "done 26 at time 2023-10-23 16:27:00.598675\n",
      "done 27 at time 2023-10-23 16:27:10.445331\n",
      "done 28 at time 2023-10-23 16:27:20.258182\n",
      "done 29 at time 2023-10-23 16:27:29.967505\n",
      "done 30 at time 2023-10-23 16:27:39.796262\n",
      "done 31 at time 2023-10-23 16:27:49.960187\n",
      "done 32 at time 2023-10-23 16:27:59.723881\n",
      "done 33 at time 2023-10-23 16:28:09.599211\n",
      "done 34 at time 2023-10-23 16:28:19.323558\n",
      "done 35 at time 2023-10-23 16:28:28.972862\n",
      "done 36 at time 2023-10-23 16:28:38.778698\n",
      "done 37 at time 2023-10-23 16:28:48.646820\n",
      "done 38 at time 2023-10-23 16:28:58.355215\n",
      "done 39 at time 2023-10-23 16:29:08.083322\n"
     ]
    }
   ],
   "source": [
    "# simulation options\n",
    "number_reps = 1\n",
    "initial_build_time = 63/365 # 9 weeks in years\n",
    "end_of_simulation = 5 + initial_build_time - 0.25 # in years\n",
    "initial_demand = 120\n",
    "initial_capacity = {'housing' : 40, 'shelter' : 15}\n",
    "arrival_rates = [35.0400, 42.0048, 46.2528, 46.2528, 41.6100] # in 1/year. One constant rate per year.\n",
    "service_mean = {'housing' : (1/52)*(0+300+400)/3, 'shelter' : 0.0} # in years\n",
    "\n",
    "# adjust arrival rates to include re-entries\n",
    "reentry_rate = 0.17 # the proportion of those leaving accommodation which re-enter the system some time later\n",
    "arrival_rate_reentries = (initial_capacity['housing']*reentry_rate)/service_mean['housing'] # assuming re-entries from the initial number of servers\n",
    "arrival_rates = [i+arrival_rate_reentries for i in arrival_rates]#\n",
    "time_btwn_changes_in_build_rate = (6*63)/365 # in years\n",
    "time_btwn_building = 63/365 # in years. 63/365 years = 9 weeks.\n",
    "reentry_rate = 0 # set this to zero now we have accounted for re-entries using an uplift to arrival rate\n",
    "\n",
    "# additional params for analytical model\n",
    "max_in_system = 1000\n",
    "num_annual_buildpoints = 6\n",
    "build_frequency_weeks = 9\n",
    "d = 1 # days\n",
    "\n",
    "# model analytically\n",
    "outputs = []\n",
    "for s in range(len(sols)):\n",
    "    q = qm.queue(arrival_rates, service_mean['housing'], initial_capacity['housing'], initial_capacity['shelter'], [int(sols[s]['housing'][i]/num_annual_buildpoints) for i in range(len(sols[s]['housing']))], [int(sols[s]['shelter'][i]/num_annual_buildpoints) for i in range(len(sols[s]['shelter']))], initial_demand, max_in_system, num_annual_buildpoints, build_frequency_weeks)\n",
    "    q.model_dynamics(simulation_length, d)\n",
    "    outputs.append(q.num_unsheltered_avg)\n",
    "    print('done ' + str(s) + ' at time ' + str(datetime.datetime.now()))"
   ]
  },
  {
   "cell_type": "markdown",
   "id": "c6970a01",
   "metadata": {},
   "source": [
    "#### Build rates of 15 or 30 - outcomes appear to be one of three values"
   ]
  },
  {
   "cell_type": "code",
   "execution_count": 49,
   "id": "b1c0281a",
   "metadata": {},
   "outputs": [
    {
     "data": {
      "image/png": "[encoded data removed]",
      "text/plain": [
       "<Figure size 640x480 with 1 Axes>"
      ]
     },
     "metadata": {},
     "output_type": "display_data"
    },
    {
     "data": {
      "text/plain": [
       "[1.639795489668889,\n",
       " 0.7510030329091073,\n",
       " 0.741513231381519,\n",
       " 1.639795489668889,\n",
       " 0.7510030329091073,\n",
       " 0.741513231381519,\n",
       " 1.639795489668889,\n",
       " 0.7510030329091073,\n",
       " 0.741513231381519,\n",
       " 1.639795489668889,\n",
       " 0.7510030329091073,\n",
       " 0.741513231381519,\n",
       " 1.639795489668889,\n",
       " 0.7510030329091073,\n",
       " 0.741513231381519,\n",
       " 1.639795489668889,\n",
       " 0.7510030329091073,\n",
       " 0.741513231381519,\n",
       " 1.639795489668889,\n",
       " 0.7510030329091073,\n",
       " 0.741513231381519,\n",
       " 1.639795489668889,\n",
       " 0.7510030329091073,\n",
       " 0.741513231381519,\n",
       " 1.639795489668889,\n",
       " 0.7510030329091073,\n",
       " 0.741513231381519,\n",
       " 1.639795489668889,\n",
       " 0.7510030329091073,\n",
       " 0.741513231381519,\n",
       " 1.639795489668889,\n",
       " 0.7510030329091073,\n",
       " 0.741513231381519,\n",
       " 1.639795489668889,\n",
       " 0.7510030329091073,\n",
       " 0.741513231381519,\n",
       " 1.639795489668889,\n",
       " 0.7510030329091073,\n",
       " 0.741513231381519,\n",
       " 1.639795489668889,\n",
       " 0.741513231381519,\n",
       " 1.639795489668889,\n",
       " 0.7510030329091073,\n",
       " 0.741513231381519,\n",
       " 1.639795489668889,\n",
       " 0.7510030329091073,\n",
       " 0.741513231381519,\n",
       " 1.639795489668889,\n",
       " 0.7510030329091073,\n",
       " 0.741513231381519,\n",
       " 1.639795489668889,\n",
       " 0.7510030329091073,\n",
       " 0.741513231381519,\n",
       " 1.639795489668889,\n",
       " 0.7510030329091073,\n",
       " 0.741513231381519,\n",
       " 1.639795489668889,\n",
       " 0.7510030329091073,\n",
       " 0.741513231381519,\n",
       " 1.639795489668889,\n",
       " 0.7510030329091073,\n",
       " 0.741513231381519,\n",
       " 1.639795489668889,\n",
       " 0.7510030329091073,\n",
       " 0.741513231381519,\n",
       " 1.639795489668889,\n",
       " 0.7510030329091073,\n",
       " 0.741513231381519,\n",
       " 1.639795489668889,\n",
       " 0.7510030329091073,\n",
       " 0.741513231381519,\n",
       " 1.639795489668889,\n",
       " 0.7510030329091073,\n",
       " 0.741513231381519,\n",
       " 1.639795489668889,\n",
       " 0.7510030329091073,\n",
       " 0.741513231381519,\n",
       " 1.639795489668889,\n",
       " 0.7510030329091073,\n",
       " 1.639795489668889,\n",
       " 0.7510030329091073,\n",
       " 0.741513231381519,\n",
       " 1.639795489668889,\n",
       " 0.7510030329091073,\n",
       " 0.741513231381519,\n",
       " 1.639795489668889,\n",
       " 0.7510030329091073,\n",
       " 0.741513231381519,\n",
       " 1.639795489668889,\n",
       " 0.7510030329091073,\n",
       " 0.741513231381519,\n",
       " 1.639795489668889,\n",
       " 0.741513231381519,\n",
       " 1.639795489668889,\n",
       " 0.7510030329091073,\n",
       " 0.741513231381519,\n",
       " 1.639795489668889,\n",
       " 0.7510030329091073,\n",
       " 0.741513231381519,\n",
       " 1.639795489668889,\n",
       " 0.7510030329091073,\n",
       " 0.741513231381519,\n",
       " 1.639795489668889,\n",
       " 0.7510030329091073,\n",
       " 0.741513231381519,\n",
       " 1.639795489668889,\n",
       " 0.7510030329091073,\n",
       " 0.741513231381519,\n",
       " 1.639795489668889,\n",
       " 0.741513231381519,\n",
       " 1.639795489668889,\n",
       " 0.7510030329091073,\n",
       " 0.741513231381519,\n",
       " 1.639795489668889,\n",
       " 0.741513231381519,\n",
       " 1.639795489668889,\n",
       " 0.741513231381519,\n",
       " 1.639795489668889,\n",
       " 0.7510030329091073,\n",
       " 0.741513231381519,\n",
       " 1.639795489668889,\n",
       " 0.741513231381519,\n",
       " 1.639795489668889,\n",
       " 0.7510030329091073,\n",
       " 0.741513231381519,\n",
       " 1.639795489668889,\n",
       " 0.7510030329091073,\n",
       " 0.741513231381519,\n",
       " 1.639795489668889,\n",
       " 0.7510030329091073,\n",
       " 0.741513231381519,\n",
       " 1.639795489668889,\n",
       " 0.7510030329091073,\n",
       " 0.741513231381519,\n",
       " 1.639795489668889,\n",
       " 0.7510030329091073,\n",
       " 0.741513231381519,\n",
       " 1.639795489668889,\n",
       " 0.741513231381519,\n",
       " 1.639795489668889,\n",
       " 0.7510030329091073,\n",
       " 0.741513231381519,\n",
       " 1.639795489668889,\n",
       " 0.7510030329091073,\n",
       " 0.741513231381519,\n",
       " 1.639795489668889,\n",
       " 0.7510030329091073,\n",
       " 0.741513231381519,\n",
       " 1.639795489668889,\n",
       " 0.7510030329091073,\n",
       " 1.639795489668889,\n",
       " 0.7510030329091073,\n",
       " 0.741513231381519,\n",
       " 1.639795489668889,\n",
       " 0.7510030329091073,\n",
       " 0.741513231381519,\n",
       " 1.639795489668889,\n",
       " 0.7510030329091073,\n",
       " 0.741513231381519,\n",
       " 1.639795489668889,\n",
       " 0.7510030329091073,\n",
       " 0.741513231381519,\n",
       " 1.639795489668889,\n",
       " 0.7510030329091073,\n",
       " 0.741513231381519,\n",
       " 1.639795489668889,\n",
       " 0.7510030329091073,\n",
       " 0.741513231381519,\n",
       " 1.639795489668889,\n",
       " 0.7510030329091073,\n",
       " 0.741513231381519,\n",
       " 1.639795489668889,\n",
       " 0.7510030329091073,\n",
       " 0.741513231381519,\n",
       " 1.639795489668889,\n",
       " 0.7510030329091073,\n",
       " 1.639795489668889,\n",
       " 0.7510030329091073,\n",
       " 0.741513231381519,\n",
       " 1.639795489668889,\n",
       " 0.7510030329091073,\n",
       " 0.741513231381519,\n",
       " 1.639795489668889,\n",
       " 0.7510030329091073,\n",
       " 0.741513231381519,\n",
       " 1.639795489668889,\n",
       " 0.7510030329091073,\n",
       " 0.741513231381519,\n",
       " 1.639795489668889,\n",
       " 0.741513231381519,\n",
       " 1.639795489668889,\n",
       " 0.7510030329091073,\n",
       " 0.741513231381519,\n",
       " 1.639795489668889,\n",
       " 0.7510030329091073,\n",
       " 0.741513231381519,\n",
       " 1.639795489668889,\n",
       " 0.7510030329091073,\n",
       " 0.741513231381519,\n",
       " 1.639795489668889,\n",
       " 0.7510030329091073,\n",
       " 1.639795489668889,\n",
       " 0.7510030329091073,\n",
       " 0.741513231381519,\n",
       " 1.639795489668889,\n",
       " 0.7510030329091073,\n",
       " 0.741513231381519,\n",
       " 1.639795489668889,\n",
       " 0.7510030329091073,\n",
       " 1.639795489668889,\n",
       " 0.7510030329091073,\n",
       " 0.741513231381519,\n",
       " 1.639795489668889,\n",
       " 0.7510030329091073,\n",
       " 0.741513231381519,\n",
       " 1.639795489668889,\n",
       " 0.7510030329091073,\n",
       " 1.639795489668889,\n",
       " 0.7510030329091073,\n",
       " 1.639795489668889,\n",
       " 0.7510030329091073]"
      ]
     },
     "execution_count": 49,
     "metadata": {},
     "output_type": "execute_result"
    }
   ],
   "source": [
    "plt.hist(outputs,200)\n",
    "plt.show()\n",
    "outputs"
   ]
  },
  {
   "cell_type": "code",
   "execution_count": 61,
   "id": "2d2c28a6",
   "metadata": {},
   "outputs": [],
   "source": [
    "\n",
    "# split out the different two types and sum the housing and shelter of the five yrs for each one\n",
    "out_v_good = [(sum(sols[i]['housing']),sum(sols[i]['shelter'])) for i in range(len(outputs)) if outputs[i]<0.75]\n",
    "out_good = [(sum(sols[i]['housing']),sum(sols[i]['shelter'])) for i in range(len(outputs)) if outputs[i]>=0.75 and outputs[i]<1.5]\n",
    "out_bad = [(sum(sols[i]['housing']),sum(sols[i]['shelter'])) for i in range(len(outputs)) if outputs[i]>=1.5]\n",
    "\n",
    "# split out the different two types and sum yr 1 for each type\n",
    "out_v_good = [sols[i]['housing'][0]+sols[i]['shelter'][0] for i in range(len(outputs)) if outputs[i]<0.75]\n",
    "out_good = [sols[i]['housing'][0]+sols[i]['shelter'][0] for i in range(len(outputs)) if outputs[i]>=0.75 and outputs[i]<1.5]\n",
    "out_bad = [sols[i]['housing'][0]+sols[i]['shelter'][0] for i in range(len(outputs)) if outputs[i]>=1.5]\n",
    "\n",
    "# split out the different two types and sum yr 2 for each type\n",
    "out_v_good = [sols[i]['housing'][1]+sols[i]['shelter'][1] for i in range(len(outputs)) if outputs[i]<0.75]\n",
    "out_good = [sols[i]['housing'][1]+sols[i]['shelter'][1] for i in range(len(outputs)) if outputs[i]>=0.75 and outputs[i]<1.5]\n",
    "out_bad = [sols[i]['housing'][1]+sols[i]['shelter'][1] for i in range(len(outputs)) if outputs[i]>=1.5]\n",
    "\n",
    "# look at the very good solutions\n",
    "out_v_good = [sols[i] for i in range(len(outputs)) if outputs[i]<0.75]"
   ]
  },
  {
   "cell_type": "code",
   "execution_count": 62,
   "id": "ee97fee8",
   "metadata": {},
   "outputs": [
    {
     "data": {
      "text/plain": [
       "[{'housing': [30, 15, 15, 15, 15], 'shelter': [15, 15, 15, 15, 15]},\n",
       " {'housing': [30, 15, 15, 15, 15], 'shelter': [15, 30, 15, 15, 15]},\n",
       " {'housing': [30, 30, 15, 15, 15], 'shelter': [15, 15, 15, 15, 15]},\n",
       " {'housing': [30, 15, 15, 15, 15], 'shelter': [15, 15, 30, 15, 15]},\n",
       " {'housing': [30, 15, 15, 15, 15], 'shelter': [15, 30, 30, 15, 15]},\n",
       " {'housing': [30, 30, 15, 15, 15], 'shelter': [15, 15, 30, 15, 15]},\n",
       " {'housing': [30, 15, 30, 15, 15], 'shelter': [15, 15, 15, 15, 15]},\n",
       " {'housing': [30, 15, 30, 15, 15], 'shelter': [15, 30, 15, 15, 15]},\n",
       " {'housing': [30, 30, 30, 15, 15], 'shelter': [15, 15, 15, 15, 15]},\n",
       " {'housing': [30, 15, 15, 15, 15], 'shelter': [15, 15, 15, 30, 15]},\n",
       " {'housing': [30, 15, 15, 15, 15], 'shelter': [15, 30, 15, 30, 15]},\n",
       " {'housing': [30, 30, 15, 15, 15], 'shelter': [15, 15, 15, 30, 15]},\n",
       " {'housing': [30, 15, 15, 15, 15], 'shelter': [15, 15, 30, 30, 15]},\n",
       " {'housing': [30, 15, 15, 15, 15], 'shelter': [15, 30, 30, 30, 15]},\n",
       " {'housing': [30, 30, 15, 15, 15], 'shelter': [15, 15, 30, 30, 15]},\n",
       " {'housing': [30, 15, 30, 15, 15], 'shelter': [15, 15, 15, 30, 15]},\n",
       " {'housing': [30, 15, 30, 15, 15], 'shelter': [15, 30, 15, 30, 15]},\n",
       " {'housing': [30, 30, 30, 15, 15], 'shelter': [15, 15, 15, 30, 15]},\n",
       " {'housing': [30, 15, 15, 30, 15], 'shelter': [15, 15, 15, 15, 15]},\n",
       " {'housing': [30, 15, 15, 30, 15], 'shelter': [15, 30, 15, 15, 15]},\n",
       " {'housing': [30, 30, 15, 30, 15], 'shelter': [15, 15, 15, 15, 15]},\n",
       " {'housing': [30, 15, 15, 30, 15], 'shelter': [15, 15, 30, 15, 15]},\n",
       " {'housing': [30, 15, 15, 30, 15], 'shelter': [15, 30, 30, 15, 15]},\n",
       " {'housing': [30, 30, 15, 30, 15], 'shelter': [15, 15, 30, 15, 15]},\n",
       " {'housing': [30, 15, 30, 30, 15], 'shelter': [15, 15, 15, 15, 15]},\n",
       " {'housing': [30, 15, 30, 30, 15], 'shelter': [15, 30, 15, 15, 15]},\n",
       " {'housing': [30, 15, 15, 15, 15], 'shelter': [15, 15, 15, 15, 30]},\n",
       " {'housing': [30, 15, 15, 15, 15], 'shelter': [15, 30, 15, 15, 30]},\n",
       " {'housing': [30, 30, 15, 15, 15], 'shelter': [15, 15, 15, 15, 30]},\n",
       " {'housing': [30, 15, 15, 15, 15], 'shelter': [15, 15, 30, 15, 30]},\n",
       " {'housing': [30, 15, 15, 15, 15], 'shelter': [15, 30, 30, 15, 30]},\n",
       " {'housing': [30, 30, 15, 15, 15], 'shelter': [15, 15, 30, 15, 30]},\n",
       " {'housing': [30, 15, 30, 15, 15], 'shelter': [15, 15, 15, 15, 30]},\n",
       " {'housing': [30, 15, 30, 15, 15], 'shelter': [15, 30, 15, 15, 30]},\n",
       " {'housing': [30, 30, 30, 15, 15], 'shelter': [15, 15, 15, 15, 30]},\n",
       " {'housing': [30, 15, 15, 15, 15], 'shelter': [15, 15, 15, 30, 30]},\n",
       " {'housing': [30, 15, 15, 15, 15], 'shelter': [15, 30, 15, 30, 30]},\n",
       " {'housing': [30, 30, 15, 15, 15], 'shelter': [15, 15, 15, 30, 30]},\n",
       " {'housing': [30, 15, 15, 15, 15], 'shelter': [15, 15, 30, 30, 30]},\n",
       " {'housing': [30, 30, 15, 15, 15], 'shelter': [15, 15, 30, 30, 30]},\n",
       " {'housing': [30, 15, 30, 15, 15], 'shelter': [15, 15, 15, 30, 30]},\n",
       " {'housing': [30, 15, 30, 15, 15], 'shelter': [15, 30, 15, 30, 30]},\n",
       " {'housing': [30, 30, 30, 15, 15], 'shelter': [15, 15, 15, 30, 30]},\n",
       " {'housing': [30, 15, 15, 30, 15], 'shelter': [15, 15, 15, 15, 30]},\n",
       " {'housing': [30, 15, 15, 30, 15], 'shelter': [15, 30, 15, 15, 30]},\n",
       " {'housing': [30, 30, 15, 30, 15], 'shelter': [15, 15, 15, 15, 30]},\n",
       " {'housing': [30, 15, 15, 30, 15], 'shelter': [15, 15, 30, 15, 30]},\n",
       " {'housing': [30, 15, 15, 30, 15], 'shelter': [15, 30, 30, 15, 30]},\n",
       " {'housing': [30, 30, 15, 30, 15], 'shelter': [15, 15, 30, 15, 30]},\n",
       " {'housing': [30, 15, 30, 30, 15], 'shelter': [15, 15, 15, 15, 30]},\n",
       " {'housing': [30, 15, 30, 30, 15], 'shelter': [15, 30, 15, 15, 30]},\n",
       " {'housing': [30, 15, 15, 15, 30], 'shelter': [15, 15, 15, 15, 15]},\n",
       " {'housing': [30, 15, 15, 15, 30], 'shelter': [15, 30, 15, 15, 15]},\n",
       " {'housing': [30, 30, 15, 15, 30], 'shelter': [15, 15, 15, 15, 15]},\n",
       " {'housing': [30, 15, 15, 15, 30], 'shelter': [15, 15, 30, 15, 15]},\n",
       " {'housing': [30, 15, 15, 15, 30], 'shelter': [15, 30, 30, 15, 15]},\n",
       " {'housing': [30, 30, 15, 15, 30], 'shelter': [15, 15, 30, 15, 15]},\n",
       " {'housing': [30, 15, 30, 15, 30], 'shelter': [15, 15, 15, 15, 15]},\n",
       " {'housing': [30, 15, 30, 15, 30], 'shelter': [15, 30, 15, 15, 15]},\n",
       " {'housing': [30, 15, 15, 15, 30], 'shelter': [15, 15, 15, 30, 15]},\n",
       " {'housing': [30, 15, 15, 15, 30], 'shelter': [15, 30, 15, 30, 15]},\n",
       " {'housing': [30, 30, 15, 15, 30], 'shelter': [15, 15, 15, 30, 15]},\n",
       " {'housing': [30, 15, 15, 15, 30], 'shelter': [15, 15, 30, 30, 15]},\n",
       " {'housing': [30, 15, 15, 15, 30], 'shelter': [15, 30, 30, 30, 15]},\n",
       " {'housing': [30, 30, 15, 15, 30], 'shelter': [15, 15, 30, 30, 15]},\n",
       " {'housing': [30, 15, 30, 15, 30], 'shelter': [15, 15, 15, 30, 15]},\n",
       " {'housing': [30, 15, 30, 15, 30], 'shelter': [15, 30, 15, 30, 15]},\n",
       " {'housing': [30, 15, 15, 30, 30], 'shelter': [15, 15, 15, 15, 15]},\n",
       " {'housing': [30, 15, 15, 30, 30], 'shelter': [15, 30, 15, 15, 15]},\n",
       " {'housing': [30, 15, 15, 30, 30], 'shelter': [15, 15, 30, 15, 15]},\n",
       " {'housing': [30, 15, 15, 30, 30], 'shelter': [15, 30, 30, 15, 15]}]"
      ]
     },
     "execution_count": 62,
     "metadata": {},
     "output_type": "execute_result"
    }
   ],
   "source": [
    "out_v_good"
   ]
  },
  {
   "cell_type": "code",
   "execution_count": 63,
   "id": "104383be",
   "metadata": {},
   "outputs": [],
   "source": [
    "q1 = qm.queue(arrival_rates, service_mean['housing'], initial_capacity['housing'], initial_capacity['shelter'], [30,15,15,15,15], [15,15,15,15,15], initial_demand, max_in_system, num_annual_buildpoints, build_frequency_weeks)\n",
    "q1.model_dynamics(simulation_length, d)"
   ]
  },
  {
   "cell_type": "code",
   "execution_count": 64,
   "id": "76d27c0b",
   "metadata": {},
   "outputs": [],
   "source": [
    "q2 = qm.queue(arrival_rates, service_mean['housing'], initial_capacity['housing'], initial_capacity['shelter'], [30,15,15,15,15], [15,30,15,15,15], initial_demand, max_in_system, num_annual_buildpoints, build_frequency_weeks)\n",
    "q2.model_dynamics(simulation_length, d)"
   ]
  },
  {
   "cell_type": "code",
   "execution_count": 65,
   "id": "417be19c",
   "metadata": {},
   "outputs": [
    {
     "data": {
      "text/plain": [
       "0.741513231381519"
      ]
     },
     "execution_count": 65,
     "metadata": {},
     "output_type": "execute_result"
    }
   ],
   "source": [
    "q1.num_unsheltered_avg"
   ]
  },
  {
   "cell_type": "code",
   "execution_count": 66,
   "id": "f1bd76c7",
   "metadata": {},
   "outputs": [
    {
     "data": {
      "text/plain": [
       "0.741513231381519"
      ]
     },
     "execution_count": 66,
     "metadata": {},
     "output_type": "execute_result"
    }
   ],
   "source": [
    "q2.num_unsheltered_avg"
   ]
  },
  {
   "cell_type": "markdown",
   "id": "3cdc0372",
   "metadata": {},
   "source": [
    "#### Build rates of 25 or 50 (results no longer output)\n",
    "\n",
    "Below illustrates that when the build rate options are 25 or 50, then in year 1, we either build 75 units of accommodation, which immediately clears the queue, or we build 50 units which doesn't immediately clear the queue, but at the next year does. "
   ]
  },
  {
   "cell_type": "code",
   "execution_count": 35,
   "id": "58d9cdd8",
   "metadata": {},
   "outputs": [
    {
     "data": {
      "image/png": "[encoded data removed]",
      "text/plain": [
       "<Figure size 640x480 with 1 Axes>"
      ]
     },
     "metadata": {},
     "output_type": "display_data"
    },
    {
     "data": {
      "image/png": "[encoded data removed]",
      "text/plain": [
       "<Figure size 640x480 with 1 Axes>"
      ]
     },
     "metadata": {},
     "output_type": "display_data"
    }
   ],
   "source": [
    "# Two distinct 'types' of output\n",
    "plt.hist(outputs,200)\n",
    "plt.show() \n",
    "\n",
    "# split out the different two types and sum the housing and shelter of the five yrs for each one\n",
    "out_good = [(sum(sols[i]['housing']),sum(sols[i]['shelter'])) for i in range(len(outputs)) if outputs[i]<0.1]\n",
    "out_bad = [(sum(sols[i]['housing']),sum(sols[i]['shelter'])) for i in range(len(outputs)) if outputs[i]>=0.1]\n",
    "\n",
    "# split out the different two types and sum yr 1 for each type\n",
    "out_good = [sols[i]['housing'][0]+sols[i]['shelter'][0] for i in range(len(outputs)) if outputs[i]<0.1]\n",
    "out_bad = [sols[i]['housing'][0]+sols[i]['shelter'][0] for i in range(len(outputs)) if outputs[i]>=0.1]\n",
    "\n",
    "# split out the different two types and return output\n",
    "out_good = [outputs[i] for i in range(len(outputs)) if outputs[i]<0.1]\n",
    "out_bad = [outputs[i] for i in range(len(outputs)) if outputs[i]>=0.1]\n",
    "\n",
    "# plot just the bad ones\n",
    "plt.hist(out_bad,200)\n",
    "plt.show() "
   ]
  },
  {
   "cell_type": "markdown",
   "id": "dd62b546",
   "metadata": {},
   "source": [
    "#### Identifying the change as a result of changing specific dimensions..."
   ]
  },
  {
   "cell_type": "code",
   "execution_count": null,
   "id": "0bc3fe26",
   "metadata": {},
   "outputs": [],
   "source": [
    "for yr in 1:simulation_length:\n",
    "        for housing in ['housing', 'shelter']:\n",
    "            # calculate range of improvement\n",
    "            # find all solutions where we have both 25 and 50 for this one\n",
    "            for [sols[i] for i in range(len(sols)) if sols[i]['housing']==15]:\n",
    "                \n",
    "# this is probably a better way of doing it - transform the dict into a pd;dataframe.        \n",
    "my_list = []\n",
    "for i in range(len(sols)):\n",
    "    my_dict = {}\n",
    "    for index, element in enumerate(sols[i]['housing']):\n",
    "        my_dict[index] = element\n",
    "    for index, element in enumerate(sols[i]['shelter']):\n",
    "        my_dict[index+5] = element\n",
    "    my_list.append(my_dict)\n",
    "df = pd.DataFrame.from_dict(my_list)\n",
    "print(df)"
   ]
  }
 ],
 "metadata": {
  "kernelspec": {
   "display_name": "Python 3 (ipykernel)",
   "language": "python",
   "name": "python3"
  },
  "language_info": {
   "codemirror_mode": {
    "name": "ipython",
    "version": 3
   },
   "file_extension": ".py",
   "mimetype": "text/x-python",
   "name": "python",
   "nbconvert_exporter": "python",
   "pygments_lexer": "ipython3",
   "version": "3.11.5"
  }
 },
 "nbformat": 4,
 "nbformat_minor": 5
}
