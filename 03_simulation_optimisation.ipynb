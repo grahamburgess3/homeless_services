{
 "cells": [
  {
   "cell_type": "markdown",
   "id": "f6376ebf",
   "metadata": {},
   "source": [
    "# Simulation Optimsiation using DES model of homeless response system"
   ]
  },
  {
   "cell_type": "code",
   "execution_count": 1,
   "id": "af7ca805",
   "metadata": {},
   "outputs": [
    {
     "name": "stdout",
     "output_type": "stream",
     "text": [
      "Current version of this notebook updated 2023-10-25\n"
     ]
    }
   ],
   "source": [
    "import datetime\n",
    "print('Current version of this notebook updated ' + str(datetime.date.today()))"
   ]
  },
  {
   "cell_type": "markdown",
   "id": "a165b34c",
   "metadata": {},
   "source": [
    "## Ranking & Selection"
   ]
  },
  {
   "cell_type": "markdown",
   "id": "d00cacfd",
   "metadata": {},
   "source": [
    "First we employ a Ranking & Selection algorithm based on the Kim & Nelson procedure. Details of this procedure can be found in section 9.3.2 (page 247) of 'Foundation and Methods of Stochastic Simulation' - Edition 2 (2021). The Python code for this procedure is found in the ranking_and_selection.py file in the GitHub repository. Below we import this module, and some others"
   ]
  },
  {
   "cell_type": "code",
   "execution_count": 2,
   "id": "3b8cdc6e",
   "metadata": {},
   "outputs": [],
   "source": [
    "# modules from this repository\n",
    "import ranking_and_selection as rs\n",
    "import simulation_model as sim\n",
    "import queueing_model as qm\n",
    "\n",
    "# external packages\n",
    "import numpy as np\n",
    "import random\n",
    "import matplotlib.pyplot as plt\n",
    "import pandas as pd"
   ]
  },
  {
   "cell_type": "markdown",
   "id": "49f98950",
   "metadata": {},
   "source": [
    "### Testing using Inventory System\n",
    "\n",
    "In order to test our KN procedure, we test it on a simulation model which has already been analysed using the KN algorithm in STOR-606 module - this is an $(s,S)$ inventory system where stock is replenished to a level of $S$ when it reaches $s$. "
   ]
  },
  {
   "cell_type": "code",
   "execution_count": 3,
   "id": "fe557041",
   "metadata": {},
   "outputs": [],
   "source": [
    "solutions = [i for i in range(1600)]\n",
    "k=np.array([i for i in range(1600)])\n",
    "\n",
    "def simulate(solution):\n",
    "    # one replication of simulating the cost of the inventory policy\n",
    "    out=rs.InventorySystem(solution)[0]\n",
    "    return out"
   ]
  },
  {
   "cell_type": "code",
   "execution_count": 4,
   "id": "50d49cad",
   "metadata": {},
   "outputs": [],
   "source": [
    "random.seed(1)\n",
    "opt_sols = []\n",
    "for i in range(5):\n",
    "    spc = rs.SolutionSpace(solutions)\n",
    "    spc.optimise_rs(0.05, 50, 1, simulate, False)\n",
    "    s,S = rs.get_sS_system(k[spc.active][0])\n",
    "    opt_sols.append((s,S))"
   ]
  },
  {
   "cell_type": "code",
   "execution_count": 5,
   "id": "ac5bb229",
   "metadata": {},
   "outputs": [
    {
     "name": "stdout",
     "output_type": "stream",
     "text": [
      "(s,S) for the optimal solution found at each iteration of the algorithm\n",
      "[(15, 51), (16, 52), (15, 51), (12, 48), (9, 48)]\n"
     ]
    }
   ],
   "source": [
    "print('(s,S) for the optimal solution found at each iteration of the algorithm')\n",
    "print(opt_sols)"
   ]
  },
  {
   "cell_type": "markdown",
   "id": "1baeb576",
   "metadata": {},
   "source": [
    "The above illustrates that this KN algorithm can return different solutions when it is run at different times (i.e. with different starting seeds) - this is likely due to the difference between the true best and other good solutions being less than the 'delta' indiffference zone parameter used when running the algorithm above. "
   ]
  },
  {
   "cell_type": "markdown",
   "id": "706959ca",
   "metadata": {},
   "source": [
    "### Developing a discrete solution space for the homeless response system"
   ]
  },
  {
   "cell_type": "code",
   "execution_count": 6,
   "id": "c1c06a8c",
   "metadata": {},
   "outputs": [],
   "source": [
    "# solution space constraints\n",
    "build_rate_options = {'housing' : [12, 24], 'shelter' : [12,24]}\n",
    "annual_budget = 36\n",
    "accommodation_budgets = {'housing' : 96, 'shelter' : 96}\n",
    "simulation_length = 5\n",
    "\n",
    "# simulation options\n",
    "number_reps = 1\n",
    "initial_build_time = 63/365 # 9 weeks in years\n",
    "end_of_simulation = 5 + initial_build_time - 0.25 # in years\n",
    "initial_demand = 120\n",
    "initial_capacity = {'housing' : 40, 'shelter' : 15}\n",
    "arrival_rates = [35.0400, 42.0048, 46.2528, 46.2528, 41.6100] # in 1/year. One constant rate per year.\n",
    "service_mean = {'housing' : (1/52)*(0+300+400)/3, 'shelter' : 0.0} # in years\n",
    "\n",
    "# adjust arrival rates to include re-entries\n",
    "reentry_rate = 0.17 # the proportion of those leaving accommodation which re-enter the system some time later\n",
    "arrival_rate_reentries = (initial_capacity['housing']*reentry_rate)/service_mean['housing'] # assuming re-entries from the initial number of servers\n",
    "arrival_rates = [i+arrival_rate_reentries for i in arrival_rates]#\n",
    "time_btwn_changes_in_build_rate = (6*63)/365 # in years\n",
    "time_btwn_building = 63/365 # in years. 63/365 years = 9 weeks.\n",
    "reentry_rate = 0 # set this to zero now we have accounted for re-entries using an uplift to arrival rate\n",
    "\n",
    "# additional params for analytical model\n",
    "max_in_system = 1000\n",
    "num_annual_buildpoints = 6\n",
    "build_frequency_weeks = 9\n",
    "d = 1 # days\n",
    "\n",
    "# geneate solution space\n",
    "sols = rs.generate_solution_space(build_rate_options, annual_budget, accommodation_budgets, simulation_length)"
   ]
  },
  {
   "cell_type": "markdown",
   "id": "0ba31f40",
   "metadata": {},
   "source": [
    "Below we initialise a solution space object with the solutions we have generated"
   ]
  },
  {
   "cell_type": "code",
   "execution_count": 7,
   "id": "a20bbd8a",
   "metadata": {},
   "outputs": [],
   "source": [
    "spc = rs.SolutionSpace(sols)"
   ]
  },
  {
   "cell_type": "markdown",
   "id": "1fdc7e23",
   "metadata": {},
   "source": [
    "We next set a seed and then look for an optimal solution using the KN algorithm. A line of text is printed below whenever solutions are removed from the candidate list by the algorithm. "
   ]
  },
  {
   "cell_type": "code",
   "execution_count": null,
   "id": "4061db4e",
   "metadata": {},
   "outputs": [
    {
     "name": "stdout",
     "output_type": "stream",
     "text": [
      "starting routine at time  2023-10-25 16:15:12.451282\n",
      "done init reps at time  2023-10-25 16:38:30.814277\n",
      "start iteration 102 with 109 active solutions out of initial 221 at time 2023-10-25 16:38:45.308388\n",
      "start iteration 116 with 108 active solutions out of initial 221 at time 2023-10-25 16:40:24.704878\n",
      "start iteration 126 with 107 active solutions out of initial 221 at time 2023-10-25 16:41:34.720320\n",
      "start iteration 148 with 106 active solutions out of initial 221 at time 2023-10-25 16:44:05.995279\n",
      "start iteration 158 with 105 active solutions out of initial 221 at time 2023-10-25 16:45:14.033535\n",
      "start iteration 166 with 104 active solutions out of initial 221 at time 2023-10-25 16:46:07.870600\n",
      "start iteration 184 with 103 active solutions out of initial 221 at time 2023-10-25 16:48:07.433706\n",
      "start iteration 188 with 102 active solutions out of initial 221 at time 2023-10-25 16:48:33.632847\n",
      "start iteration 198 with 101 active solutions out of initial 221 at time 2023-10-25 16:49:38.856686\n",
      "start iteration 201 with 100 active solutions out of initial 221 at time 2023-10-25 16:49:58.138978\n",
      "start iteration 212 with 98 active solutions out of initial 221 at time 2023-10-25 16:51:08.551194\n",
      "start iteration 220 with 97 active solutions out of initial 221 at time 2023-10-25 16:51:58.638010\n",
      "start iteration 249 with 96 active solutions out of initial 221 at time 2023-10-25 16:54:58.715544\n",
      "start iteration 254 with 95 active solutions out of initial 221 at time 2023-10-25 16:55:29.539062\n",
      "start iteration 278 with 94 active solutions out of initial 221 at time 2023-10-25 16:57:55.506869\n",
      "start iteration 281 with 93 active solutions out of initial 221 at time 2023-10-25 16:58:13.661646\n",
      "start iteration 296 with 91 active solutions out of initial 221 at time 2023-10-25 16:59:42.870733\n",
      "start iteration 298 with 90 active solutions out of initial 221 at time 2023-10-25 16:59:54.548007\n",
      "start iteration 301 with 89 active solutions out of initial 221 at time 2023-10-25 17:00:11.745300\n",
      "start iteration 314 with 88 active solutions out of initial 221 at time 2023-10-25 17:01:25.735432\n",
      "start iteration 320 with 87 active solutions out of initial 221 at time 2023-10-25 17:01:59.332311\n",
      "start iteration 340 with 86 active solutions out of initial 221 at time 2023-10-25 17:03:50.659153\n"
     ]
    }
   ],
   "source": [
    "random.seed(1)\n",
    "spc.optimise_rs(0.05, 100, 0.74, sim.simulate_as_is, True)"
   ]
  },
  {
   "cell_type": "markdown",
   "id": "e8eaf074",
   "metadata": {},
   "source": [
    "The details of the optimal solution are given below, followed by the following 20 solutions in decreasing order of the iteration number at which the KN algorithm removed them from the candidate list. "
   ]
  },
  {
   "cell_type": "code",
   "execution_count": null,
   "id": "81d1f488",
   "metadata": {},
   "outputs": [],
   "source": [
    "# create dataframe\n",
    "my_list = []\n",
    "for i in range(len(sols)):\n",
    "    my_dict = {}\n",
    "    for index, element in enumerate(sols[i]['housing']):\n",
    "        my_dict[index] = element\n",
    "    for index, element in enumerate(sols[i]['shelter']):\n",
    "        my_dict[index+5] = element\n",
    "    my_dict[10] = spc.eliminate[i]\n",
    "    my_dict[11] = np.mean(spc.costs[i])\n",
    "    my_dict[12] = np.var(spc.costs[i])\n",
    "    my_list.append(my_dict)\n",
    "df_sim = pd.DataFrame.from_dict(my_list)\n",
    "df_sim.columns = ['h1', 'h2', 'h3', 'h4', 'h5', 'sh1', 'sh2', 'sh3', 'sh4', 'sh5', 'iter_elim', 'sim_mean', 'sim_var']"
   ]
  },
  {
   "cell_type": "code",
   "execution_count": null,
   "id": "a3d709d7",
   "metadata": {},
   "outputs": [],
   "source": [
    "# model analytically\n",
    "outputs = []\n",
    "for s in range(len(sols)):\n",
    "    q = qm.queue(arrival_rates, service_mean['housing'], initial_capacity['housing'], initial_capacity['shelter'], [int(sols[s]['housing'][i]/num_annual_buildpoints) for i in range(len(sols[s]['housing']))], [int(sols[s]['shelter'][i]/num_annual_buildpoints) for i in range(len(sols[s]['shelter']))], initial_demand, max_in_system, num_annual_buildpoints, build_frequency_weeks)\n",
    "    q.model_dynamics(simulation_length-0.25, d)\n",
    "    outputs.append(q.num_unsheltered_avg)\n",
    "    print('done ' + str(s) + ' at time ' + str(datetime.datetime.now()))"
   ]
  },
  {
   "cell_type": "markdown",
   "id": "0de218c3",
   "metadata": {},
   "source": [
    "### Build rates of 15 or 30\n",
    "\n",
    "#### Histogram of results"
   ]
  },
  {
   "cell_type": "code",
   "execution_count": null,
   "id": "cf0baf7b",
   "metadata": {},
   "outputs": [],
   "source": [
    "plt.hist(outputs,200)\n",
    "plt.show()"
   ]
  },
  {
   "cell_type": "markdown",
   "id": "c3472650",
   "metadata": {},
   "source": [
    "#### Dataframe of results"
   ]
  },
  {
   "cell_type": "code",
   "execution_count": null,
   "id": "4a9fb9ad",
   "metadata": {},
   "outputs": [],
   "source": [
    "my_list = []\n",
    "for i in range(len(sols)):\n",
    "    my_dict = {}\n",
    "    for index, element in enumerate(sols[i]['housing']):\n",
    "        my_dict[index] = element\n",
    "    for index, element in enumerate(sols[i]['shelter']):\n",
    "        my_dict[index+5] = element\n",
    "    my_dict[10] = outputs[i]\n",
    "    my_list.append(my_dict)\n",
    "df_analytic = pd.DataFrame.from_dict(my_list)\n",
    "df_analytic.columns = ['h1', 'h2', 'h3', 'h4', 'h5', 'sh1', 'sh2', 'sh3', 'sh4', 'sh5', 'c']"
   ]
  },
  {
   "cell_type": "code",
   "execution_count": null,
   "id": "8a99ce04",
   "metadata": {},
   "outputs": [],
   "source": [
    "df_concat = df_analytic.sort_values(by='c',ascending=True).reset_index(drop=True).merge(df_sim, on = ['h1', 'h2', 'h3', 'h4', 'h5', 'sh1', 'sh2', 'sh3', 'sh4', 'sh5'])\n",
    "df_concat.style.apply(lambda x: [\"background: pink\" if v == 24 else \"\" for v in x], axis = 1)"
   ]
  },
  {
   "cell_type": "markdown",
   "id": "66a4155c",
   "metadata": {},
   "source": [
    "#### Looking at improvements"
   ]
  },
  {
   "cell_type": "code",
   "execution_count": null,
   "id": "f0fe0f04",
   "metadata": {},
   "outputs": [],
   "source": [
    "low_val = 12\n",
    "dims_all = ['h1','h2','h3','h4','h5','sh1','sh2','sh3','sh4','sh5']\n",
    "list_imprv = [] # data on improvements\n",
    "for dim in dims_all:\n",
    "    for i in df_analytic[df_analytic[dim]==low_val].index.tolist():\n",
    "        value_base = df_analytic.iloc[i]['c']\n",
    "        conditions = dim + '''!=''' + str(low_val)\n",
    "        for dim_compare in [dims_all[j] for j in range(len(dims_all)) if dims_all[j]!=dim]:\n",
    "            conditions = conditions + ''' & ''' + dim_compare + '==' + str(df_analytic.iloc[i][dim_compare])\n",
    "        df_analytic_with_conditions = df_analytic.query(conditions).reset_index(drop=True)\n",
    "        if len(df_analytic_with_conditions) > 0:\n",
    "            value_improve = df_analytic_with_conditions['c'][0]\n",
    "            improvement = value_base - value_improve\n",
    "            improvement = {'dim': dim,\n",
    "                           'imprv': improvement}\n",
    "            list_imprv.append(improvement)\n",
    "        \n",
    "df_imprv = pd.DataFrame.from_dict(list_imprv)"
   ]
  },
  {
   "cell_type": "code",
   "execution_count": null,
   "id": "f07c2239",
   "metadata": {},
   "outputs": [],
   "source": [
    "df_imprv_summary = df_imprv.groupby('dim').mean().reset_index()\n",
    "df_imprv_summary"
   ]
  },
  {
   "cell_type": "markdown",
   "id": "db37ad87",
   "metadata": {},
   "source": [
    "#### Checking the analytical and simulation models agree on results"
   ]
  },
  {
   "cell_type": "code",
   "execution_count": null,
   "id": "b8f785d9",
   "metadata": {},
   "outputs": [],
   "source": [
    "q = qm.queue(arrival_rates, service_mean['housing'], initial_capacity['housing'], initial_capacity['shelter'], [4,4,4,2,2], [2,2,2,4,4], initial_demand, max_in_system, num_annual_buildpoints, build_frequency_weeks)\n",
    "q.model_dynamics(simulation_length-0.25, d)\n",
    "q.num_unsheltered_avg"
   ]
  },
  {
   "cell_type": "markdown",
   "id": "1ab756c4",
   "metadata": {},
   "source": [
    "#### Build rates of 25 or 50\n",
    "\n",
    "When the build rate options are 25 or 50, then in year 1, we either build 75 units of accommodation, which immediately clears the queue, or we build 50 units which doesn't immediately clear the queue, but at the next year does. "
   ]
  },
  {
   "cell_type": "code",
   "execution_count": null,
   "id": "862db622",
   "metadata": {},
   "outputs": [],
   "source": [
    "build_rate_options1 = {'housing' : [24, 48], 'shelter' : [24, 48]}\n",
    "annual_budget1 = 72\n",
    "accommodation_budgets1 = {'housing' : 192, 'shelter' : 192}\n",
    "simulation_length1 = 5\n",
    "\n",
    "sols1 = rs.generate_solution_space(build_rate_options1, annual_budget1, accommodation_budgets1, simulation_length1)\n",
    "\n",
    "# model analytically\n",
    "outputs1 = []\n",
    "for s in range(len(sols1)):\n",
    "    q = qm.queue(arrival_rates, service_mean['housing'], initial_capacity['housing'], initial_capacity['shelter'], [int(sols1[s]['housing'][i]/num_annual_buildpoints) for i in range(len(sols1[s]['housing']))], [int(sols1[s]['shelter'][i]/num_annual_buildpoints) for i in range(len(sols1[s]['shelter']))], initial_demand, max_in_system, num_annual_buildpoints, build_frequency_weeks)\n",
    "    q.model_dynamics(simulation_length1-0.25, d)\n",
    "    outputs1.append(q.num_unsheltered_avg)\n",
    "    print('done ' + str(s) + ' at time ' + str(datetime.datetime.now()))"
   ]
  },
  {
   "cell_type": "code",
   "execution_count": null,
   "id": "bb6e5d16",
   "metadata": {},
   "outputs": [],
   "source": [
    "plt.hist(outputs1,200)\n",
    "plt.show()"
   ]
  },
  {
   "cell_type": "code",
   "execution_count": null,
   "id": "bae437be",
   "metadata": {},
   "outputs": [],
   "source": []
  }
 ],
 "metadata": {
  "kernelspec": {
   "display_name": "Python 3 (ipykernel)",
   "language": "python",
   "name": "python3"
  },
  "language_info": {
   "codemirror_mode": {
    "name": "ipython",
    "version": 3
   },
   "file_extension": ".py",
   "mimetype": "text/x-python",
   "name": "python",
   "nbconvert_exporter": "python",
   "pygments_lexer": "ipython3",
   "version": "3.11.5"
  }
 },
 "nbformat": 4,
 "nbformat_minor": 5
}
