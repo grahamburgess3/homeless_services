{
 "cells": [
  {
   "cell_type": "code",
   "execution_count": 4,
   "id": "8081adb6-65be-426a-92d1-01d6a57bf3b7",
   "metadata": {
    "collapsed": false
   },
   "outputs": [
    {
     "name": "stdout",
     "output_type": "stream",
     "text": [
      "[65, 61.07450802348337, 61.14901604696674, 61.223524070450104, 61.29803209393347, 61.37254011741685, 61.44704814090022, 61.52155616438358, 61.59606418786694, 61.67057221135031, 61.74508023483369, 61.819588258317054, 61.89409628180043, 61.9686043052838, 62.043112328767165, 62.11762035225054, 62.19212837573389, 62.26663639921727, 62.34114442270065, 62.415652446184]\n"
     ]
    }
   ],
   "source": [
    "import queueing_model as qm\n",
    "import json\n",
    "\n",
    "# Opening JSON file\n",
    "with open('data_as_is.json') as json_file:\n",
    "    data_as_is = json.load(json_file)\n",
    "    \n",
    "# Opening JSON file\n",
    "with open('data_as_is_analytical.json') as json_file:\n",
    "    data_as_is_analytical = json.load(json_file)\n",
    "\n",
    "# Define annual housing/shelter building schedule to be modelled - here there is a six year horizon - hence a list of length six. \n",
    "# Note - given building is six times per year, the annual build rate is rounded down to the nearest multiple of six, so that an integer number of houses is built every two months. So changing 12 to 13 below would have no affect on solution, but changing 12 to 18 would increase the build rate to 3 units every 2 months. \n",
    "sol = [{'housing': [12, 12, 12, 12, 12, 12], 'shelter': [12, 12, 12, 12, 12, 12]}]\n",
    "\n",
    "# Setup queuing model with this building schedule\n",
    "q = qm.queue(data_as_is['arrival_rates'],\n",
    "             data_as_is['service_mean'],\n",
    "             data_as_is['initial_capacity'], \n",
    "             sol[0],\n",
    "             data_as_is['initial_demand'], \n",
    "             data_as_is_analytical['max_in_system'],\n",
    "             data_as_is['time_btwn_changes_in_build_rate'],\n",
    "             data_as_is['time_btwn_building'])\n",
    "\n",
    "# Run model\n",
    "q.model_dynamics(data_as_is['analysis_horizon'],\n",
    "                 data_as_is_analytical['delta_t'])\n",
    "\n",
    "# q.num_unsheltered is a list, giving expected size of unsheltered queue at the start of each time period delta_t (here each day), over course of analysis horizon (here 6 yrs). Below print first 20 entries (first 20 days)\n",
    "print(q.num_unsheltered[0:20])"
   ]
  }
 ],
 "metadata": {
  "kernelspec": {
   "argv": [
    "/home/burges26/GitHub/homeless_services/.venv/bin/python3",
    "-m",
    "ipykernel_launcher",
    "-f",
    "{connection_file}"
   ],
   "display_name": ".venv",
   "env": null,
   "interrupt_mode": "signal",
   "language": "python",
   "metadata": {
    "debugger": true
   },
   "name": ".venv"
  },
  "name": "analytical_model_example_use.ipynb"
 },
 "nbformat": 4,
 "nbformat_minor": 5
}
