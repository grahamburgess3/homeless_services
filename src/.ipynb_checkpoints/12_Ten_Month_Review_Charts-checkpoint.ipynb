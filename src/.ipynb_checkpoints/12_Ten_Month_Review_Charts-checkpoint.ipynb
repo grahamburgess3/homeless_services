{
 "cells": [
  {
   "cell_type": "markdown",
   "id": "a624699a-9e03-4134-b119-a1278a7503e7",
   "metadata": {
    "collapsed": false
   },
   "source": [
    "#### Mulit fidelity outputs\n",
    "This notebook generates multi-fidelity output of the homeless care services. We have a fluid flow model, an $M_t/M/h_t$ queueing model and a high fidelity simulation model. "
   ]
  },
  {
   "cell_type": "code",
   "execution_count": 1,
   "id": "19c58786-11df-43e5-9cb7-bb5d7549428f",
   "metadata": {
    "collapsed": false
   },
   "outputs": [],
   "source": [
    "import queueing_model as qm\n",
    "import fluid_flow_model as fl\n",
    "import simulation_model as sm\n",
    "import matplotlib.pyplot as plt\n",
    "import json"
   ]
  },
  {
   "cell_type": "code",
   "execution_count": null,
   "id": "c24a76bb-8de5-4e2d-a124-080a0f8ffed6",
   "metadata": {
    "collapsed": false
   },
   "outputs": [],
   "source": [
    "# Data\n",
    "with open('../data/data.json') as json_file:\n",
    "    data = json.load(json_file)\n",
    "\n",
    "solution = data['solution']\n",
    "\n",
    "# Fluid\n",
    "f = fl.FluidFlowModel(data, solution)\n",
    "f.analyse()\n",
    "\n",
    "# Queue\n",
    "q = qm.Queue(data, solution)\n",
    "q.analyse()\n",
    "\n",
    "# DES\n",
    "s = sm.SimulationModel(data, solution)\n",
    "s.analyse()\n",
    "\n",
    "# PLOTTING\n",
    "\n",
    "# general plotting setup\n",
    "fig, axs = plt.subplots(1, 3,  figsize=(10, 3))\n",
    "ymax = max(f.h + f.s + f.u)\n",
    "        \n",
    "# plot solution\n",
    "x = [i/365 for i in range((f.T_a+f.T_b)*365)]\n",
    "\n",
    "axs[0].plot(x, f.h, color = 'green')\n",
    "axs[0].plot(x, f.s, color = 'orange')\n",
    "axs[0].plot(x, f.u, color = 'red')\n",
    "axs[0].legend([\"$h_t$\", \"$s_t$\", \"$u_t$\"], loc=\"upper left\")\n",
    "axs[0].set(title = \"(a) Fluid flow model\")\n",
    "\n",
    "axs[1].plot(x, q.h, color = 'green')\n",
    "axs[1].plot(x, q.s, color = 'orange')\n",
    "axs[1].plot(x, q.num_unsheltered, color = 'red')\n",
    "axs[1].fill_between(x, q.upc['low'], q.upc['high'], facecolor = 'red', alpha = 0.3)\n",
    "axs[1].set(title = \"(b) $M_t/M/h_t$ model\")\n",
    "\n",
    "axs[2].plot(x, s.h, color = 'green')\n",
    "axs[2].plot(x, s.s, color = 'orange')\n",
    "axs[2].plot(x, s.median, color = 'red')\n",
    "axs[2].fill_between(x, s.low, s.high, color='red', alpha=0.3)\n",
    "axs[2].set(title = \"(c) DES model\")\n",
    "\n",
    "# formatting\n",
    "for ax in axs.flat:\n",
    "    ax.set(xlabel='t (yrs)', ylabel='Number of people')\n",
    "    ax.grid()\n",
    "    ax.set_ylim(0, ymax*1.05)\n",
    "    ax.label_outer()\n",
    "        \n",
    "# display\n",
    "plt.show()\n"
   ]
  }
 ],
 "metadata": {
  "kernelspec": {
   "argv": [
    "/home/burges26/GitHub/homeless_services/.venv/bin/python3",
    "-m",
    "ipykernel_launcher",
    "-f",
    "{connection_file}"
   ],
   "display_name": ".venv",
   "env": null,
   "interrupt_mode": "signal",
   "language": "python",
   "metadata": {
    "debugger": true
   },
   "name": ".venv"
  },
  "name": "12_Ten_Month_Review_Charts.ipynb"
 },
 "nbformat": 4,
 "nbformat_minor": 5
}
