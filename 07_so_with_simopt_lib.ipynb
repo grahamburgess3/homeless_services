{
 "cells": [
  {
   "cell_type": "code",
   "execution_count": 1,
   "id": "6a17b0a9-ae02-479d-9e81-a55c4339ac3b",
   "metadata": {
    "collapsed": false
   },
   "outputs": [],
   "source": [
    "# SO using the SimOpt library"
   ]
  },
  {
   "cell_type": "code",
   "execution_count": 1,
   "id": "1e0ed1cc-3065-429c-8d6b-7addfe2df850",
   "metadata": {
    "collapsed": false
   },
   "outputs": [],
   "source": [
    "import simopt\n",
    "from simopt import base, models, solvers, experiment_base\n",
    "from mrg32k3a.mrg32k3a import MRG32k3a"
   ]
  },
  {
   "cell_type": "markdown",
   "id": "b40a06a1-7f04-43a8-843e-7376194a2733",
   "metadata": {
    "collapsed": false
   },
   "source": [
    "## M/M/1 Queue\n",
    "\n",
    "Here we run a single replication of an M/M/1 queue and report several outputs of interest. "
   ]
  },
  {
   "cell_type": "code",
   "execution_count": 2,
   "id": "c6b9d886-df28-4346-9e1c-cbfb320f4f5e",
   "metadata": {
    "collapsed": false
   },
   "outputs": [],
   "source": [
    "# Set up model\n",
    "fixed_factors = {\"lambda\": 3.0, \"mu\": 8.0}\n",
    "mymodel = models.mm1queue.MM1Queue(fixed_factors)\n",
    "# Generate random numbers\n",
    "# Here mymodel.n_rngs is 2 - the number of random number streams we use - one for service times, one for inter arrival times\n",
    "rng_list = [MRG32k3a(s_ss_sss_index=[0, ss, 0]) for ss in range(mymodel.n_rngs)]\n"
   ]
  },
  {
   "cell_type": "code",
   "execution_count": 9,
   "id": "7fccb860-b12d-4c60-899c-240b126e3fd8",
   "metadata": {
    "collapsed": false
   },
   "outputs": [
    {
     "name": "stdout",
     "output_type": "stream",
     "text": [
      "Model Parameters\n",
      "----------------\n",
      "The arrival rate is: 3.0\n",
      "The service rate is: 8.0\n",
      "\n",
      "Data collection\n",
      "----------------\n",
      "We allow a warm up of 20 people before calculating statistics based on 50 people.\n",
      "\n",
      "Outputs\n",
      "----------------\n",
      "For a single replication:\n",
      "Responses:\n",
      "\t avg_sojourn_time is 0.32.\n",
      "\t avg_waiting_time is 0.18.\n",
      "\t frac_cust_wait is 0.54.\n"
     ]
    }
   ],
   "source": [
    "# Report data collection details\n",
    "print('Model Parameters')\n",
    "print('----------------')\n",
    "print('The arrival rate is: ' + str(fixed_factors['lambda']))\n",
    "print('The service rate is: ' + str(fixed_factors['mu']))\n",
    "\n",
    "print('\\nData collection')\n",
    "print('----------------')\n",
    "print('We allow a warm up of ' + str(mymodel.specifications['warmup']['default']) + ' people before calculating statistics based on ' + str(mymodel.specifications['people']['default']) + ' people.')\n",
    "\n",
    "# Run a single replication of the model.\n",
    "responses, gradients = mymodel.replicate(rng_list)\n",
    "print('\\nOutputs')\n",
    "print('----------------')\n",
    "print(\"For a single replication:\")\n",
    "print(\"Responses:\")\n",
    "for key, value in responses.items():\n",
    "    print(f\"\\t {key} is {round(value,2)}.\")"
   ]
  },
  {
   "cell_type": "markdown",
   "id": "a79a98c3-e1d5-4f8c-8902-0b70cb6843e3",
   "metadata": {
    "collapsed": false
   },
   "source": [
    "## Minimising the mean sojourn time in the M/M/1 queue\n",
    "\n",
    "Here we introduce an objective function and solution space for a problem involving the M/M/1 queue. "
   ]
  },
  {
   "cell_type": "code",
   "execution_count": 11,
   "id": "91860fb0-8fa8-487a-9263-3add170d7bcf",
   "metadata": {
    "collapsed": false
   },
   "outputs": [
    {
     "name": "stdout",
     "output_type": "stream",
     "text": [
      "\n",
      " The decision variable is the service rate: {'mu'}\n"
     ]
    }
   ],
   "source": [
    "myproblem = models.mm1queue.MM1MinMeanSojournTime()\n",
    "print ('\\n The decision variable is the service rate: ' + str(myproblem.model_decision_factors))"
   ]
  },
  {
   "cell_type": "markdown",
   "id": "73e2a439-3c06-42b8-8789-9a94214fa2f5",
   "metadata": {
    "collapsed": false
   },
   "source": [
    "There is a cost $c$ associated with increasing the service rate $\\mu$. "
   ]
  },
  {
   "cell_type": "code",
   "execution_count": 12,
   "id": "86baa649-5e78-44a3-9dd3-dd2520f75ad4",
   "metadata": {
    "collapsed": false
   },
   "outputs": [
    {
     "name": "stdout",
     "output_type": "stream",
     "text": [
      " c: 0.1 is the cost per unit increase of service rate.\n"
     ]
    }
   ],
   "source": [
    "print(' c: ' + str(myproblem.specifications['cost']['default']) + ' is the cost per unit increase of service rate.')"
   ]
  },
  {
   "cell_type": "markdown",
   "id": "4e1168c6-4fad-4909-b93b-a064974b5ddd",
   "metadata": {
    "collapsed": false
   },
   "source": [
    "The objective $f(\\mu; \\xi, c) = y(\\mu; \\xi) + c**2$ where $y(\\cdot)$ is the mean sojourn time and we wish to minimise this objective function. "
   ]
  },
  {
   "cell_type": "code",
   "execution_count": 16,
   "id": "1a46e42a-8540-4c36-96a7-8db372f64522",
   "metadata": {
    "collapsed": false
   },
   "outputs": [
    {
     "name": "stdout",
     "output_type": "stream",
     "text": [
      "Solution space\n",
      "----------------\n",
      "The solution space is continuous with lower bound 0 and upper bound inf\n",
      "\n",
      "Model Parameters\n",
      "----------------\n",
      "lambda: 1.5 is the arrival rate.\n",
      "\n",
      "Data collection\n",
      "----------------\n",
      "We allow a warm up of 20 people before calculating statistics based on 50 people.\n"
     ]
    }
   ],
   "source": [
    "print('Solution space')\n",
    "print('----------------')\n",
    "print('The solution space is ' + str(myproblem.variable_type) + ' with lower bound ' + str(myproblem.lower_bounds[0]) + ' and upper bound ' + str(myproblem.upper_bounds[0]))\n",
    "\n",
    "print('\\nModel Parameters')\n",
    "print('----------------')\n",
    "print('lambda: ' + str(myproblem.model.specifications['lambda']['default']) + ' is the arrival rate.')\n",
    "\n",
    "print('\\nData collection')\n",
    "print('----------------')\n",
    "print('We allow a warm up of ' + str(mymodel.specifications['warmup']['default']) + ' people before calculating statistics based on ' + str(mymodel.specifications['people']['default']) + ' people.')"
   ]
  },
  {
   "cell_type": "markdown",
   "id": "591e5456-ef7e-4019-8605-3baf55a011ac",
   "metadata": {
    "collapsed": false
   },
   "source": [
    "We now run 10 simulation replications for a given solution and report the objective function values. "
   ]
  },
  {
   "cell_type": "code",
   "execution_count": 17,
   "id": "b0ef6bdd-8b7f-44ae-ae45-598d5da472a9",
   "metadata": {
    "collapsed": false
   },
   "outputs": [
    {
     "name": "stdout",
     "output_type": "stream",
     "text": [
      "Ran 10 replications of the MM1-1 problem at solution x = (8,).\n",
      "\n",
      "The mean objective estimate was 6.5576 with standard error 0.0051.\n",
      "The individual observations of the objective were:\n",
      "\t 6.5544\n",
      "\t 6.5771\n",
      "\t 6.5411\n",
      "\t 6.5453\n",
      "\t 6.5431\n",
      "\t 6.535\n",
      "\t 6.5687\n",
      "\t 6.5706\n",
      "\t 6.5798\n",
      "\t 6.5604\n"
     ]
    }
   ],
   "source": [
    "x = (8,)\n",
    "mysolution = base.Solution(x, myproblem)\n",
    "\n",
    "# Create and attach rngs to solution\n",
    "rng_list = [MRG32k3a(s_ss_sss_index=[0, ss, 0]) for ss in range(myproblem.model.n_rngs)]\n",
    "mysolution.attach_rngs(rng_list, copy=False)\n",
    "\n",
    "# Simulate a fixed number of replications (n_reps) at the solution x.\n",
    "n_reps = 10\n",
    "myproblem.simulate(mysolution, m=n_reps)\n",
    "\n",
    "# Print results to console.\n",
    "print(f\"Ran {n_reps} replications of the {myproblem.name} problem at solution x = {x}.\\n\")\n",
    "print(f\"The mean objective estimate was {round(mysolution.objectives_mean[0], 4)} with standard error {round(mysolution.objectives_stderr[0], 4)}.\")\n",
    "print(\"The individual observations of the objective were:\")\n",
    "for idx in range(n_reps):\n",
    "    print(f\"\\t {round(mysolution.objectives[idx][0], 4)}\")"
   ]
  },
  {
   "cell_type": "markdown",
   "id": "6f759635-e301-4cef-b020-8cccf2807f36",
   "metadata": {
    "collapsed": false
   },
   "source": [
    "## Testing the Random Search solver\n",
    "\n",
    "Here we use the Random search solver to look for an optimal solution to this problem. We report the performance of this solver"
   ]
  }
 ],
 "metadata": {
  "kernelspec": {
   "argv": [
    "/home/burges26/GitHub/homeless_services/.venv/bin/python3",
    "-m",
    "ipykernel_launcher",
    "-f",
    "{connection_file}"
   ],
   "display_name": ".venv",
   "env": null,
   "interrupt_mode": "signal",
   "language": "python",
   "metadata": {
    "debugger": true
   },
   "name": ".venv"
  },
  "name": "Untitled.ipynb"
 },
 "nbformat": 4,
 "nbformat_minor": 5
}
