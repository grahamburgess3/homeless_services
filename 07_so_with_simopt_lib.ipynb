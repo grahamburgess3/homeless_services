{
 "cells": [
  {
   "cell_type": "markdown",
   "id": "081c0659-b9d4-4525-9fad-f53173fb0d18",
   "metadata": {
    "collapsed": false
   },
   "source": [
    "# SO using the SimOpt library"
   ]
  },
  {
   "cell_type": "code",
   "execution_count": 21,
   "id": "1e0ed1cc-3065-429c-8d6b-7addfe2df850",
   "metadata": {
    "collapsed": false
   },
   "outputs": [],
   "source": [
    "import simopt\n",
    "from simopt import base, models, solvers, experiment_base\n",
    "from mrg32k3a.mrg32k3a import MRG32k3a\n",
    "import numpy as np"
   ]
  },
  {
   "cell_type": "markdown",
   "id": "b40a06a1-7f04-43a8-843e-7376194a2733",
   "metadata": {
    "collapsed": false
   },
   "source": [
    "## M/M/1 Queue\n",
    "\n",
    "Here we run a single replication of an M/M/1 queue and report several outputs of interest. "
   ]
  },
  {
   "cell_type": "code",
   "execution_count": 2,
   "id": "c6b9d886-df28-4346-9e1c-cbfb320f4f5e",
   "metadata": {
    "collapsed": false
   },
   "outputs": [],
   "source": [
    "# Set up model\n",
    "fixed_factors = {\"lambda\": 3.0, \"mu\": 8.0}\n",
    "mymodel = models.mm1queue.MM1Queue(fixed_factors)\n",
    "# Generate random numbers\n",
    "# Here mymodel.n_rngs is 2 - the number of random number streams we use - one for service times, one for inter arrival times\n",
    "rng_list = [MRG32k3a(s_ss_sss_index=[0, ss, 0]) for ss in range(mymodel.n_rngs)]\n"
   ]
  },
  {
   "cell_type": "code",
   "execution_count": 3,
   "id": "7fccb860-b12d-4c60-899c-240b126e3fd8",
   "metadata": {
    "collapsed": false
   },
   "outputs": [
    {
     "name": "stdout",
     "output_type": "stream",
     "text": [
      "Model Parameters\n",
      "----------------\n",
      "The arrival rate is: 3.0\n",
      "The service rate is: 8.0\n",
      "\n",
      "Data collection\n",
      "----------------\n",
      "We allow a warm up of 20 people before calculating statistics based on 50 people.\n",
      "\n",
      "Outputs\n",
      "----------------\n",
      "For a single replication:\n",
      "Responses:\n",
      "\t avg_sojourn_time is 0.18.\n",
      "\t avg_waiting_time is 0.06.\n",
      "\t frac_cust_wait is 0.36.\n"
     ]
    }
   ],
   "source": [
    "# Report data collection details\n",
    "print('Model Parameters')\n",
    "print('----------------')\n",
    "print('The arrival rate is: ' + str(fixed_factors['lambda']))\n",
    "print('The service rate is: ' + str(fixed_factors['mu']))\n",
    "\n",
    "print('\\nData collection')\n",
    "print('----------------')\n",
    "print('We allow a warm up of ' + str(mymodel.specifications['warmup']['default']) + ' people before calculating statistics based on ' + str(mymodel.specifications['people']['default']) + ' people.')\n",
    "\n",
    "# Run a single replication of the model.\n",
    "responses, gradients = mymodel.replicate(rng_list)\n",
    "print('\\nOutputs')\n",
    "print('----------------')\n",
    "print(\"For a single replication:\")\n",
    "print(\"Responses:\")\n",
    "for key, value in responses.items():\n",
    "    print(f\"\\t {key} is {round(value,2)}.\")"
   ]
  },
  {
   "cell_type": "markdown",
   "id": "a79a98c3-e1d5-4f8c-8902-0b70cb6843e3",
   "metadata": {
    "collapsed": false
   },
   "source": [
    "## Minimising the mean sojourn time in the M/M/1 queue\n",
    "\n",
    "Here we introduce an objective function and solution space for a problem involving the M/M/1 queue. "
   ]
  },
  {
   "cell_type": "code",
   "execution_count": 4,
   "id": "91860fb0-8fa8-487a-9263-3add170d7bcf",
   "metadata": {
    "collapsed": false
   },
   "outputs": [
    {
     "name": "stdout",
     "output_type": "stream",
     "text": [
      "\n",
      " The decision variable is the service rate: {'mu'}\n"
     ]
    }
   ],
   "source": [
    "myproblem = models.mm1queue.MM1MinMeanSojournTime()\n",
    "print ('\\n The decision variable is the service rate: ' + str(myproblem.model_decision_factors))"
   ]
  },
  {
   "cell_type": "markdown",
   "id": "73e2a439-3c06-42b8-8789-9a94214fa2f5",
   "metadata": {
    "collapsed": false
   },
   "source": [
    "There is a cost $c$ associated with increasing the service rate $\\mu$. "
   ]
  },
  {
   "cell_type": "code",
   "execution_count": 5,
   "id": "86baa649-5e78-44a3-9dd3-dd2520f75ad4",
   "metadata": {
    "collapsed": false
   },
   "outputs": [
    {
     "name": "stdout",
     "output_type": "stream",
     "text": [
      " c: 0.1 is the cost per unit increase of service rate.\n"
     ]
    }
   ],
   "source": [
    "print(' c: ' + str(myproblem.specifications['cost']['default']) + ' is the cost per unit increase of service rate.')"
   ]
  },
  {
   "cell_type": "markdown",
   "id": "4e1168c6-4fad-4909-b93b-a064974b5ddd",
   "metadata": {
    "collapsed": false
   },
   "source": [
    "The objective $f(\\mu; \\xi, c) = y(\\mu; \\xi) + c**2$ where $y(\\cdot)$ is the mean sojourn time and we wish to minimise this objective function. "
   ]
  },
  {
   "cell_type": "code",
   "execution_count": 6,
   "id": "1a46e42a-8540-4c36-96a7-8db372f64522",
   "metadata": {
    "collapsed": false
   },
   "outputs": [
    {
     "name": "stdout",
     "output_type": "stream",
     "text": [
      "Solution space\n",
      "----------------\n",
      "The solution space is continuous with lower bound 0 and upper bound inf\n",
      "\n",
      "Model Parameters\n",
      "----------------\n",
      "lambda: 1.5 is the arrival rate.\n",
      "\n",
      "Data collection\n",
      "----------------\n",
      "We allow a warm up of 20 people before calculating statistics based on 50 people.\n"
     ]
    }
   ],
   "source": [
    "print('Solution space')\n",
    "print('----------------')\n",
    "print('The solution space is ' + str(myproblem.variable_type) + ' with lower bound ' + str(myproblem.lower_bounds[0]) + ' and upper bound ' + str(myproblem.upper_bounds[0]))\n",
    "\n",
    "print('\\nModel Parameters')\n",
    "print('----------------')\n",
    "print('lambda: ' + str(myproblem.model.specifications['lambda']['default']) + ' is the arrival rate.')\n",
    "\n",
    "print('\\nData collection')\n",
    "print('----------------')\n",
    "print('We allow a warm up of ' + str(mymodel.specifications['warmup']['default']) + ' people before calculating statistics based on ' + str(mymodel.specifications['people']['default']) + ' people.')"
   ]
  },
  {
   "cell_type": "markdown",
   "id": "591e5456-ef7e-4019-8605-3baf55a011ac",
   "metadata": {
    "collapsed": false
   },
   "source": [
    "We now run 10 simulation replications for a given solution and report the objective function values. "
   ]
  },
  {
   "cell_type": "code",
   "execution_count": 7,
   "id": "b0ef6bdd-8b7f-44ae-ae45-598d5da472a9",
   "metadata": {
    "collapsed": false
   },
   "outputs": [
    {
     "name": "stdout",
     "output_type": "stream",
     "text": [
      "Ran 10 replications of the MM1-1 problem at solution x = (8,).\n",
      "\n",
      "The mean objective estimate was 6.5576 with standard error 0.0051.\n",
      "The individual observations of the objective were:\n",
      "\t 6.5544\n",
      "\t 6.5771\n",
      "\t 6.5411\n",
      "\t 6.5453\n",
      "\t 6.5431\n",
      "\t 6.535\n",
      "\t 6.5687\n",
      "\t 6.5706\n",
      "\t 6.5798\n",
      "\t 6.5604\n"
     ]
    }
   ],
   "source": [
    "x = (5,)\n",
    "mysolution = base.Solution(x, myproblem)\n",
    "\n",
    "# Create and attach rngs to solution\n",
    "rng_list = [MRG32k3a(s_ss_sss_index=[0, ss, 0]) for ss in range(myproblem.model.n_rngs)]\n",
    "mysolution.attach_rngs(rng_list, copy=False)\n",
    "\n",
    "# Simulate a fixed number of replications (n_reps) at the solution x.\n",
    "n_reps = 10\n",
    "myproblem.simulate(mysolution, m=n_reps)\n",
    "\n",
    "# Print results to console.\n",
    "print(f\"Ran {n_reps} replications of the {myproblem.name} problem at solution x = {x}.\\n\")\n",
    "print(f\"The mean objective estimate was {round(mysolution.objectives_mean[0], 4)} with standard error {round(mysolution.objectives_stderr[0], 4)}.\")\n",
    "print(\"The individual observations of the objective were:\")\n",
    "for idx in range(n_reps):\n",
    "    print(f\"\\t {round(mysolution.objectives[idx][0], 4)}\")"
   ]
  },
  {
   "cell_type": "markdown",
   "id": "25469238-5443-470a-b24b-4b1a55eb1ee2",
   "metadata": {
    "collapsed": false
   },
   "source": [
    "### How the solvers work\n",
    "Each solver is run a number of times (set as the number of macro-replications) on the problem. Each macro-replication involves a different random number stream. During each macroreplication, a solver will start with an initial solution (the initial 'current best') and at certain points in the simulation budget will update its recording of the current best solution. Post-replications are performed on each solution which was considered a 'current best' at any time during the macro-replication. \n",
    "\n",
    "The solver then selects the optimal solution as the best of all solutions which were post-replicated. Further post-replications are performed on the initial and optimal solution - this is used to calculate an optimality gap which is used for normalising the progress curves of the solver. \n",
    "\n",
    "Bootstrap samples (default 100) of the progress curves are taken, and then CI intervals are applied to plot the progress of the algorithm over the course of the simulation budget. "
   ]
  },
  {
   "cell_type": "markdown",
   "id": "6f759635-e301-4cef-b020-8cccf2807f36",
   "metadata": {
    "collapsed": false
   },
   "source": [
    "## Testing the Random Search solver\n",
    "\n",
    "Here we use the Random search solver to look for an optimal solution to this problem. We report the performance of this solver"
   ]
  },
  {
   "cell_type": "markdown",
   "id": "b3cfe7e3-cc62-4869-9d5c-d3aa70e31209",
   "metadata": {
    "collapsed": false
   },
   "source": [
    "### How the solver works\n",
    "The solver starts at a given initial solution (which starts of as the 'current best') and then at each iteration moves to a randomly selected new solution. New random solutions are random samples from exponential distribution with rate 1/3. At each selected solution, 10 simulation replications are performed, and the mean objective value is calculated. Whenever a solution's mean objective is better than the current best, it is updated to be the current best. This process is repeated, using common random numbers at each solution, until the simulated budget is exhausted. \n"
   ]
  },
  {
   "cell_type": "code",
   "execution_count": 9,
   "id": "3e43748c-7b06-4731-9058-b3ab575c7efe",
   "metadata": {
    "collapsed": false
   },
   "outputs": [
    {
     "name": "stdout",
     "output_type": "stream",
     "text": [
      "Running macroreplication 1 of 10 of Solver RNDSRCH on Problem MM1-1.\n"
     ]
    },
    {
     "name": "stdout",
     "output_type": "stream",
     "text": [
      "Running macroreplication 2 of 10 of Solver RNDSRCH on Problem MM1-1.\n"
     ]
    },
    {
     "name": "stdout",
     "output_type": "stream",
     "text": [
      "Running macroreplication 3 of 10 of Solver RNDSRCH on Problem MM1-1.\n"
     ]
    },
    {
     "name": "stdout",
     "output_type": "stream",
     "text": [
      "Running macroreplication 4 of 10 of Solver RNDSRCH on Problem MM1-1.\n"
     ]
    },
    {
     "name": "stdout",
     "output_type": "stream",
     "text": [
      "Running macroreplication 5 of 10 of Solver RNDSRCH on Problem MM1-1.\n"
     ]
    },
    {
     "name": "stdout",
     "output_type": "stream",
     "text": [
      "Running macroreplication 6 of 10 of Solver RNDSRCH on Problem MM1-1.\n"
     ]
    },
    {
     "name": "stdout",
     "output_type": "stream",
     "text": [
      "Running macroreplication 7 of 10 of Solver RNDSRCH on Problem MM1-1.\n"
     ]
    },
    {
     "name": "stdout",
     "output_type": "stream",
     "text": [
      "Running macroreplication 8 of 10 of Solver RNDSRCH on Problem MM1-1.\n"
     ]
    },
    {
     "name": "stdout",
     "output_type": "stream",
     "text": [
      "Running macroreplication 9 of 10 of Solver RNDSRCH on Problem MM1-1.\n"
     ]
    },
    {
     "name": "stdout",
     "output_type": "stream",
     "text": [
      "Running macroreplication 10 of 10 of Solver RNDSRCH on Problem MM1-1.\n"
     ]
    },
    {
     "name": "stdout",
     "output_type": "stream",
     "text": [
      "Postreplicating macroreplication 1 of 10 of Solver RNDSRCH on Problem MM1-1.\n"
     ]
    },
    {
     "name": "stdout",
     "output_type": "stream",
     "text": [
      "Postreplicating macroreplication 2 of 10 of Solver RNDSRCH on Problem MM1-1.\n"
     ]
    },
    {
     "name": "stdout",
     "output_type": "stream",
     "text": [
      "Postreplicating macroreplication 3 of 10 of Solver RNDSRCH on Problem MM1-1.\n"
     ]
    },
    {
     "name": "stdout",
     "output_type": "stream",
     "text": [
      "Postreplicating macroreplication 4 of 10 of Solver RNDSRCH on Problem MM1-1.\n"
     ]
    },
    {
     "name": "stdout",
     "output_type": "stream",
     "text": [
      "Postreplicating macroreplication 5 of 10 of Solver RNDSRCH on Problem MM1-1.\n"
     ]
    },
    {
     "name": "stdout",
     "output_type": "stream",
     "text": [
      "Postreplicating macroreplication 6 of 10 of Solver RNDSRCH on Problem MM1-1.\n"
     ]
    },
    {
     "name": "stdout",
     "output_type": "stream",
     "text": [
      "Postreplicating macroreplication 7 of 10 of Solver RNDSRCH on Problem MM1-1.\n"
     ]
    },
    {
     "name": "stdout",
     "output_type": "stream",
     "text": [
      "Postreplicating macroreplication 8 of 10 of Solver RNDSRCH on Problem MM1-1.\n"
     ]
    },
    {
     "name": "stdout",
     "output_type": "stream",
     "text": [
      "Postreplicating macroreplication 9 of 10 of Solver RNDSRCH on Problem MM1-1.\n"
     ]
    },
    {
     "name": "stdout",
     "output_type": "stream",
     "text": [
      "Postreplicating macroreplication 10 of 10 of Solver RNDSRCH on Problem MM1-1.\n"
     ]
    },
    {
     "name": "stdout",
     "output_type": "stream",
     "text": [
      "Postnormalizing on Problem MM1-1.\n"
     ]
    },
    {
     "name": "stdout",
     "output_type": "stream",
     "text": [
      "Finding f(x*)...\n",
      "\t...using best postreplicated solution as proxy for x*.\n"
     ]
    }
   ],
   "source": [
    "### Outputs\n",
    "solver_name = \"RNDSRCH\"\n",
    "problem_name = \"MM1-1\"\n",
    "\n",
    "# Initialize an instance of the experiment class.\n",
    "myexperiment = experiment_base.ProblemSolver(solver_name, problem_name)\n",
    "\n",
    "# Run a fixed number of macroreplications of the solver on the problem.\n",
    "myexperiment.run(n_macroreps=10)\n",
    "\n",
    "# Run a fixed number of postreplications at all recommended solutions.\n",
    "myexperiment.post_replicate(n_postreps=100)\n",
    "# Find an optimal solution x* for normalization.\n",
    "experiment_base.post_normalize([myexperiment], n_postreps_init_opt=100)"
   ]
  },
  {
   "cell_type": "code",
   "execution_count": 10,
   "id": "d63d0ab5-b572-4230-ae3b-abd158323c14",
   "metadata": {
    "collapsed": false
   },
   "outputs": [],
   "source": [
    "myexperiment.log_experiment_results()"
   ]
  },
  {
   "cell_type": "markdown",
   "id": "13d3b3a5-393d-4f2d-b212-4500bfe8a89c",
   "metadata": {
    "collapsed": false
   },
   "source": [
    "Below is a summary of the model factors, problem factors and solver factors, and high level details of the results of the experiment using the random search solver on the problem with the M/M/1 queue. The subsequent plot illustrates the performance of the solver as simulation budget is expended. The performance is quantified in terms of the fraction of the optimality gap remaining versus how much simulation budget has been used. The confidence intervals are calculated using bootstrapped samples of the current best solution at different points of the budget and the objective values of those solutions. "
   ]
  },
  {
   "cell_type": "code",
   "execution_count": 25,
   "id": "23580a15-2e18-45c9-ba31-973b55834d51",
   "metadata": {
    "collapsed": false
   },
   "outputs": [
    {
     "name": "stdout",
     "output_type": "stream",
     "text": [
      "Solver: RNDSRCH\n",
      "\n",
      "Model Factors:\n",
      "\twarmup: 50\n",
      "\tpeople: 200\n",
      "\tlambda: 1.5\n",
      "\n",
      "\n",
      "Problem Factors:\n",
      "\tinitial_solution: (5,)\n",
      "\tbudget: 1000\n",
      "\tcost: 0.1\n",
      "\n",
      "\n",
      "Solver Factors:\n",
      "\tcrn_across_solns: True\n",
      "\tsample_size: 10\n",
      "\n",
      "\n",
      "10 macroreplications were run.\n",
      "\n",
      "100 postreplications were run at each recommended solution.\n",
      "\n",
      "\n",
      "The initial solution is (5,). Its estimated objective is 2.7844.\n",
      "\n",
      "The proxy optimal solution is (2.8243,). Its estimated objective is 1.5488.\n",
      "\n",
      "100 postreplications were taken at x0 and x_star.\n",
      "\n",
      "\n"
     ]
    }
   ],
   "source": [
    "print(f\"Solver: {myexperiment.solver.name}\\n\")\n",
    "print(\"Model Factors:\")\n",
    "for key, value in myexperiment.problem.model.factors.items():\n",
    "    # Excluding model factors corresponding to decision variables.\n",
    "    if key not in myexperiment.problem.model_decision_factors:\n",
    "        print(f\"\\t{key}: {value}\")\n",
    "print('\\n')\n",
    "        \n",
    "print(\"Problem Factors:\")\n",
    "for key, value in myexperiment.problem.factors.items():\n",
    "    print(f\"\\t{key}: {value}\")\n",
    "print('\\n')\n",
    "\n",
    "print(\"Solver Factors:\")\n",
    "for key, value in myexperiment.solver.factors.items():\n",
    "    print(f\"\\t{key}: {value}\")\n",
    "print('\\n')\n",
    "    \n",
    "# Display macroreplication information.\n",
    "print(f\"{myexperiment.n_macroreps} macroreplications were run.\\n\")\n",
    "# If results have been postreplicated, list the number of post-replications.\n",
    "if myexperiment.check_postreplicate():\n",
    "    print(f\"{myexperiment.n_postreps} postreplications were run at each recommended solution.\\n\\n\")\n",
    "# If post-normalized, state initial solution (x0) and proxy optimal solution (x_star)\n",
    "# and how many replications were taken of them (n_postreps_init_opt).\n",
    "if myexperiment.check_postnormalize():\n",
    "    print(f\"The initial solution is {tuple([round(x, 4) for x in myexperiment.x0])}. Its estimated objective is {round(np.mean(myexperiment.x0_postreps), 4)}.\\n\")\n",
    "    if myexperiment.xstar is None:\n",
    "        print(f\"No proxy optimal solution was used. A proxy optimal objective function value of {myexperiment.problem.optimal_value[0]} was provided.\\n\")\n",
    "    else:\n",
    "        print(f\"The proxy optimal solution is {tuple([round(x, 4) for x in myexperiment.xstar])}. Its estimated objective is {round(np.mean(myexperiment.xstar_postreps), 4)}.\\n\")\n",
    "    print(f\"{myexperiment.n_postreps_init_opt} postreplications were taken at x0 and x_star.\\n\\n\")\n"
   ]
  },
  {
   "cell_type": "code",
   "execution_count": 26,
   "id": "9328d7a8-8c1b-48cb-ab3e-d59e04e27af5",
   "metadata": {
    "collapsed": false
   },
   "outputs": [
    {
     "data": {
      "text/plain": [
       "['experiments/plots/SOLVER_SET_on_MM1-1_mean_prog_curve.png']"
      ]
     },
     "execution_count": 26,
     "metadata": {},
     "output_type": "execute_result"
    },
    {
     "data": {
      "image/png": "[encoded data removed]",
      "text/plain": [
       "<Figure size 640x480 with 1 Axes>"
      ]
     },
     "metadata": {},
     "output_type": "display_data"
    }
   ],
   "source": [
    "experiment_base.plot_progress_curves(experiments=[myexperiment], plot_type=\"mean\", normalize=True,  print_max_hw=False)"
   ]
  }
 ],
 "metadata": {
  "kernelspec": {
   "argv": [
    "/home/burges26/GitHub/homeless_services/.venv/bin/python3",
    "-m",
    "ipykernel_launcher",
    "-f",
    "{connection_file}"
   ],
   "display_name": ".venv",
   "env": null,
   "interrupt_mode": "signal",
   "language": "python",
   "metadata": {
    "debugger": true
   },
   "name": ".venv"
  },
  "name": "07_so_with_simopt_lib.ipynb"
 },
 "nbformat": 4,
 "nbformat_minor": 5
}
