{
 "cells": [
  {
   "cell_type": "markdown",
   "id": "a165b34c",
   "metadata": {},
   "source": [
    "# Simulation Optimsiation using DES model of homeless response system\n",
    "## Ranking & Selection"
   ]
  },
  {
   "cell_type": "markdown",
   "id": "d00cacfd",
   "metadata": {},
   "source": [
    "First we employ a Ranking & Selection algorithm based on the Kim & Nelson procedure. The Python code for this procedure is found in the ranking_and_selection.py file in this repository. Below we import this module, and some others"
   ]
  },
  {
   "cell_type": "code",
   "execution_count": 1,
   "id": "3b8cdc6e",
   "metadata": {},
   "outputs": [],
   "source": [
    "# modules from this repository\n",
    "import simulation_model as sim\n",
    "import ranking_and_selection as rs\n",
    "\n",
    "# external packages\n",
    "import numpy as np"
   ]
  },
  {
   "cell_type": "markdown",
   "id": "49f98950",
   "metadata": {},
   "source": [
    "### Testing using Inventory System\n",
    "\n",
    "In order to test our KN procedure, we test it on a simulation model which has already been analysed using the KN algorithm in STOR-606 module - this is an inventory system. "
   ]
  },
  {
   "cell_type": "code",
   "execution_count": 2,
   "id": "fe557041",
   "metadata": {},
   "outputs": [],
   "source": [
    "solutions = [i for i in range(1600)]\n",
    "k=np.array([i for i in range(1600)])\n",
    "\n",
    "def simulate(solution):\n",
    "    out=rs.InventorySystem(solution,1)[0]\n",
    "    return out"
   ]
  },
  {
   "cell_type": "code",
   "execution_count": 3,
   "id": "50d49cad",
   "metadata": {},
   "outputs": [],
   "source": [
    "#opt_sols = []\n",
    "#for i in range(10):\n",
    "#    spc = rs.SolutionSpace(solutions)\n",
    "#    spc.optimise_rs(0.05, 50, 1, simulate)\n",
    "#    opt_sols.append(k[spc.active][0])\n",
    "#print(min(opt_sols))\n",
    "#print(max(opt_sols))"
   ]
  },
  {
   "cell_type": "markdown",
   "id": "706959ca",
   "metadata": {},
   "source": [
    "### Developing a discrete solution space for the homeless response system"
   ]
  },
  {
   "cell_type": "code",
   "execution_count": 4,
   "id": "c1c06a8c",
   "metadata": {},
   "outputs": [],
   "source": [
    "build_rate_options = {'housing' : [25, 50], 'shelter' : [25,50]}\n",
    "annual_budget = 75\n",
    "accommodation_budgets = {'housing' : 200, 'shelter' : 200}\n",
    "simulation_length = 2\n",
    "\n",
    "sols = rs.generate_solution_space(build_rate_options, annual_budget, accommodation_budgets, simulation_length)"
   ]
  },
  {
   "cell_type": "code",
   "execution_count": 5,
   "id": "0a05454a",
   "metadata": {},
   "outputs": [
    {
     "data": {
      "text/plain": [
       "[{'housing': [25, 25], 'shelter': [25, 25]},\n",
       " {'housing': [25, 25], 'shelter': [50, 25]},\n",
       " {'housing': [50, 25], 'shelter': [25, 25]},\n",
       " {'housing': [25, 25], 'shelter': [25, 50]},\n",
       " {'housing': [25, 25], 'shelter': [50, 50]},\n",
       " {'housing': [50, 25], 'shelter': [25, 50]},\n",
       " {'housing': [25, 50], 'shelter': [25, 25]},\n",
       " {'housing': [25, 50], 'shelter': [50, 25]},\n",
       " {'housing': [50, 50], 'shelter': [25, 25]}]"
      ]
     },
     "execution_count": 5,
     "metadata": {},
     "output_type": "execute_result"
    }
   ],
   "source": [
    "sols"
   ]
  },
  {
   "cell_type": "code",
   "execution_count": 6,
   "id": "65e41b48",
   "metadata": {},
   "outputs": [],
   "source": [
    "def simulate(build_rates):\n",
    "    number_reps = 1\n",
    "    initial_build_time = 63/365 # 9 weeks in years\n",
    "    end_of_simulation = 2 + initial_build_time - 0.25 # in years\n",
    "    initial_demand = 120\n",
    "    initial_capacity = {'housing' : 40, 'shelter' : 15}\n",
    "    arrival_rates = [35.0400, 42.0048, 46.2528, 46.2528] # in 1/year. One constant rate per year.\n",
    "    service_mean = {'housing' : (1/52)*(0+300+400)/3, 'shelter' : 0.0} # in years\n",
    "\n",
    "    # adjust arrival rates to include re-entries\n",
    "    reentry_rate = 0.17 # the proportion of those leaving accommodation which re-enter the system some time later\n",
    "    arrival_rate_reentries = (initial_capacity['housing']*reentry_rate)/service_mean['housing'] # assuming re-entries from the initial number of servers\n",
    "    arrival_rates = [i+arrival_rate_reentries for i in arrival_rates]#\n",
    "    time_btwn_changes_in_build_rate = (6*63)/365 # in years\n",
    "    time_btwn_building = 63/365 # in years. 63/365 years = 9 weeks.\n",
    "\n",
    "    output = sim.simulate(end_of_simulation, \n",
    "                      number_reps, \n",
    "                      time_btwn_building, \n",
    "                      time_btwn_changes_in_build_rate, \n",
    "                      initial_capacity, \n",
    "                      service_mean, \n",
    "                      arrival_rates, \n",
    "                      build_rates, \n",
    "                      initial_demand, \n",
    "                      initial_build_time)\n",
    "    \n",
    "    output = output['unsheltered_q_avg'][0]\n",
    "    \n",
    "    return output"
   ]
  },
  {
   "cell_type": "code",
   "execution_count": 7,
   "id": "d4f3de03",
   "metadata": {},
   "outputs": [],
   "source": [
    "#build_rates1 = {'housing' : [20, 20, 20, 20], 'shelter' : [10, 10, 10, 10]} # in 1/year BEST\n",
    "#build_rates2 = {'housing' : [10, 10, 10, 10], 'shelter' : [10, 10, 10, 10]} # in 1/year \n",
    "#build_rates3 = {'housing' : [20, 20, 20, 20], 'shelter' : [5, 5, 5, 5]} # in 1/year\n",
    "#build_rates4 = {'housing' : [10, 10, 10, 10], 'shelter' : [5, 5, 5, 5]} # in 1/year WORST\n",
    "#solutions = [build_rates1,build_rates2,build_rates3,build_rates4]"
   ]
  },
  {
   "cell_type": "code",
   "execution_count": 8,
   "id": "a20bbd8a",
   "metadata": {},
   "outputs": [],
   "source": [
    "spc = rs.SolutionSpace(sols)"
   ]
  },
  {
   "cell_type": "code",
   "execution_count": 9,
   "id": "4061db4e",
   "metadata": {},
   "outputs": [
    {
     "name": "stdout",
     "output_type": "stream",
     "text": [
      "don init reps for 0\n",
      "don init reps for 1\n",
      "don init reps for 2\n",
      "don init reps for 3\n",
      "don init reps for 4\n",
      "don init reps for 5\n",
      "don init reps for 6\n",
      "don init reps for 7\n",
      "don init reps for 8\n",
      "start iteration 101 with 9 active solutions out of initial 9\n",
      "0 cost: 3992.983129898443, 0 cost: 3992.983129898443. W: 0\n",
      "0 cost: 3992.983129898443, 1 cost: 3212.064190759616. W: 0\n",
      "1 cost: 3212.064190759616, 0 cost: 3992.983129898443. W: 0\n",
      "1 cost: 3212.064190759616, 1 cost: 3212.064190759616. W: 0\n",
      "1 cost: 3212.064190759616, 2 cost: 2671.4968262913244. W: 0\n",
      "2 cost: 2671.4968262913244, 0 cost: 3992.983129898443. W: 0\n",
      "2 cost: 2671.4968262913244, 1 cost: 3212.064190759616. W: 0\n",
      "2 cost: 2671.4968262913244, 2 cost: 2671.4968262913244. W: 0\n",
      "2 cost: 2671.4968262913244, 3 cost: 3691.4250233476696. W: 0\n",
      "2 cost: 2671.4968262913244, 4 cost: 3206.0863496452444. W: 0\n",
      "2 cost: 2671.4968262913244, 5 cost: 2599.4686791818676. W: 0\n",
      "3 cost: 3691.4250233476696, 0 cost: 3992.983129898443. W: 0\n",
      "3 cost: 3691.4250233476696, 1 cost: 3212.064190759616. W: 0\n",
      "4 cost: 3206.0863496452444, 0 cost: 3992.983129898443. W: 0\n",
      "4 cost: 3206.0863496452444, 1 cost: 3212.064190759616. W: 0\n",
      "4 cost: 3206.0863496452444, 2 cost: 2671.4968262913244. W: 0\n",
      "5 cost: 2599.4686791818676, 0 cost: 3992.983129898443. W: 0\n",
      "5 cost: 2599.4686791818676, 1 cost: 3212.064190759616. W: 0\n",
      "5 cost: 2599.4686791818676, 2 cost: 2671.4968262913244. W: 0\n",
      "5 cost: 2599.4686791818676, 3 cost: 3691.4250233476696. W: 0\n",
      "5 cost: 2599.4686791818676, 4 cost: 3206.0863496452444. W: 0\n",
      "5 cost: 2599.4686791818676, 5 cost: 2599.4686791818676. W: 0\n",
      "5 cost: 2599.4686791818676, 6 cost: 3605.455130973546. W: 0\n",
      "5 cost: 2599.4686791818676, 7 cost: 3081.985407637234. W: 0\n",
      "5 cost: 2599.4686791818676, 8 cost: 2445.074475165658. W: 0\n",
      "6 cost: 3605.455130973546, 0 cost: 3992.983129898443. W: 0\n",
      "6 cost: 3605.455130973546, 1 cost: 3212.064190759616. W: 0\n",
      "7 cost: 3081.985407637234, 0 cost: 3992.983129898443. W: 0\n",
      "7 cost: 3081.985407637234, 1 cost: 3212.064190759616. W: 0\n",
      "7 cost: 3081.985407637234, 2 cost: 2671.4968262913244. W: 0\n",
      "8 cost: 2445.074475165658, 0 cost: 3992.983129898443. W: 0\n",
      "8 cost: 2445.074475165658, 1 cost: 3212.064190759616. W: 0\n",
      "8 cost: 2445.074475165658, 2 cost: 2671.4968262913244. W: 0\n",
      "8 cost: 2445.074475165658, 3 cost: 3691.4250233476696. W: 0\n",
      "8 cost: 2445.074475165658, 4 cost: 3206.0863496452444. W: 0\n",
      "8 cost: 2445.074475165658, 5 cost: 2599.4686791818676. W: 0\n",
      "8 cost: 2445.074475165658, 6 cost: 3605.455130973546. W: 0\n",
      "8 cost: 2445.074475165658, 7 cost: 3081.985407637234. W: 0\n",
      "8 cost: 2445.074475165658, 8 cost: 2445.074475165658. W: 0\n"
     ]
    }
   ],
   "source": [
    "spc.optimise_rs(0.05, 100, 5, simulate)"
   ]
  },
  {
   "cell_type": "code",
   "execution_count": 10,
   "id": "6e282b4a",
   "metadata": {},
   "outputs": [
    {
     "data": {
      "text/plain": [
       "array([False, False, False, False, False, False, False, False,  True])"
      ]
     },
     "execution_count": 10,
     "metadata": {},
     "output_type": "execute_result"
    }
   ],
   "source": [
    "spc.active"
   ]
  },
  {
   "cell_type": "code",
   "execution_count": null,
   "id": "ea4ea658",
   "metadata": {},
   "outputs": [],
   "source": []
  }
 ],
 "metadata": {
  "kernelspec": {
   "display_name": "Python 3 (ipykernel)",
   "language": "python",
   "name": "python3"
  },
  "language_info": {
   "codemirror_mode": {
    "name": "ipython",
    "version": 3
   },
   "file_extension": ".py",
   "mimetype": "text/x-python",
   "name": "python",
   "nbconvert_exporter": "python",
   "pygments_lexer": "ipython3",
   "version": "3.11.5"
  }
 },
 "nbformat": 4,
 "nbformat_minor": 5
}
