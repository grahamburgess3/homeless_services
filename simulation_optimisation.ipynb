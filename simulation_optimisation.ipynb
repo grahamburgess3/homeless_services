{
 "cells": [
  {
   "cell_type": "code",
   "execution_count": 1,
   "id": "3b8cdc6e",
   "metadata": {},
   "outputs": [],
   "source": [
    "import simulation_model as sim\n",
    "import ranking_and_selection as rs\n",
    "\n",
    "import numpy as np"
   ]
  },
  {
   "cell_type": "code",
   "execution_count": 2,
   "id": "65e41b48",
   "metadata": {},
   "outputs": [],
   "source": [
    "def simulate(build_rates):\n",
    "    number_reps = 1\n",
    "    initial_build_time = 63/365 # 9 weeks in years\n",
    "    end_of_simulation = 4 + initial_build_time - 0.25 # in years\n",
    "    initial_demand = 120\n",
    "    initial_capacity = {'housing' : 40, 'shelter' : 15}\n",
    "    arrival_rates = [35.0400, 42.0048, 46.2528, 46.2528] # in 1/year. One constant rate per year.\n",
    "    service_mean = {'housing' : (1/52)*(0+300+400)/3, 'shelter' : 0.0} # in years\n",
    "\n",
    "    # adjust arrival rates to include re-entries\n",
    "    reentry_rate = 0.17 # the proportion of those leaving accommodation which re-enter the system some time later\n",
    "    arrival_rate_reentries = (initial_capacity['housing']*reentry_rate)/service_mean['housing'] # assuming re-entries from the initial number of servers\n",
    "    arrival_rates = [i+arrival_rate_reentries for i in arrival_rates]#\n",
    "    time_btwn_changes_in_build_rate = (6*63)/365 # in years\n",
    "    time_btwn_building = 63/365 # in years. 63/365 years = 9 weeks.\n",
    "\n",
    "    output, timetaken = sim.simulate(end_of_simulation, \n",
    "                      number_reps, \n",
    "                      time_btwn_building, \n",
    "                      time_btwn_changes_in_build_rate, \n",
    "                      initial_capacity, \n",
    "                      service_mean, \n",
    "                      arrival_rates, \n",
    "                      build_rates, \n",
    "                      initial_demand, \n",
    "                      initial_build_time)\n",
    "    \n",
    "    output = np.mean(output)\n",
    "    \n",
    "    return output"
   ]
  },
  {
   "cell_type": "code",
   "execution_count": 3,
   "id": "d4f3de03",
   "metadata": {},
   "outputs": [],
   "source": [
    "build_rates1 = {'housing' : [20, 20, 20, 20], 'shelter' : [10, 10, 10, 10]} # in 1/year BEST\n",
    "build_rates2 = {'housing' : [10, 10, 10, 10], 'shelter' : [10, 10, 10, 10]} # in 1/year \n",
    "build_rates3 = {'housing' : [20, 20, 20, 20], 'shelter' : [5, 5, 5, 5]} # in 1/year\n",
    "build_rates4 = {'housing' : [10, 10, 10, 10], 'shelter' : [5, 5, 5, 5]} # in 1/year WORST\n",
    "solutions = [build_rates1,build_rates2,build_rates3,build_rates4]"
   ]
  },
  {
   "cell_type": "code",
   "execution_count": 4,
   "id": "a20bbd8a",
   "metadata": {},
   "outputs": [],
   "source": [
    "spc = rs.SolutionSpace(solutions)"
   ]
  },
  {
   "cell_type": "code",
   "execution_count": 5,
   "id": "4061db4e",
   "metadata": {},
   "outputs": [
    {
     "name": "stdout",
     "output_type": "stream",
     "text": [
      "0 0 0\n",
      "0 1 137.39261793371855\n",
      "0 2 183.6914153395008\n",
      "0 3 153.73007576276981\n",
      "1 0 137.39261793371855\n",
      "2 0 183.6914153395008\n",
      "2 1 265.41759430477254\n",
      "2 2 0\n",
      "2 3 235.22120465587028\n",
      "3 0 153.73007576276981\n",
      "loop iter 11\n",
      "[ True False  True False]\n",
      "0 0 0\n",
      "0 2 182.1914153395008\n",
      "2 0 182.1914153395008\n",
      "2 2 0\n",
      "loop iter 12\n",
      "[ True False  True False]\n",
      "0 0 0\n",
      "0 2 180.6914153395008\n",
      "2 0 180.6914153395008\n",
      "2 2 0\n",
      "loop iter 13\n",
      "[ True False  True False]\n",
      "0 0 0\n",
      "0 2 179.1914153395008\n",
      "2 0 179.1914153395008\n",
      "2 2 0\n",
      "loop iter 14\n",
      "[ True False  True False]\n",
      "0 0 0\n",
      "0 2 177.6914153395008\n",
      "2 0 177.6914153395008\n",
      "2 2 0\n",
      "loop iter 15\n",
      "[ True False  True False]\n",
      "0 0 0\n",
      "0 2 176.1914153395008\n",
      "2 0 176.1914153395008\n",
      "2 2 0\n",
      "loop iter 16\n",
      "[ True False  True False]\n",
      "0 0 0\n",
      "0 2 174.6914153395008\n",
      "2 0 174.6914153395008\n",
      "loop iter 17\n",
      "[ True False False False]\n"
     ]
    }
   ],
   "source": [
    "spc.optimise_rs(0.05, 10, 3, simulate)"
   ]
  },
  {
   "cell_type": "code",
   "execution_count": null,
   "id": "6e282b4a",
   "metadata": {},
   "outputs": [],
   "source": []
  }
 ],
 "metadata": {
  "kernelspec": {
   "display_name": "Python 3 (ipykernel)",
   "language": "python",
   "name": "python3"
  },
  "language_info": {
   "codemirror_mode": {
    "name": "ipython",
    "version": 3
   },
   "file_extension": ".py",
   "mimetype": "text/x-python",
   "name": "python",
   "nbconvert_exporter": "python",
   "pygments_lexer": "ipython3",
   "version": "3.11.5"
  }
 },
 "nbformat": 4,
 "nbformat_minor": 5
}
