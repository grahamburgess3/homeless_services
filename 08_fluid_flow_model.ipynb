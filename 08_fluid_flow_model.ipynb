{
 "cells": [
  {
   "cell_type": "markdown",
   "id": "d8173c08-bdc6-45c7-b968-b6a02ca5ca30",
   "metadata": {
    "collapsed": false
   },
   "source": [
    "#### Fluid flow model of the queue for shelter and housing\n",
    "\n",
    "Here we ignore the randomness in the arrival process and the service process for homeless people entering and leaving the homeless response system. Instead we assume that ``fluid\" flows into the system continuously at a rate $\\lambda(t)$ and flows out a  rate $\\mu(t) = \\mu_{0}c_{h}(t)$ where $\\mu_{0}$ is the service rate of a single housing unit and $c_{h}(t)$ is the number of houses at time $t$. The simplification of the service process relies on the assumption that the servers are always busy. Given a house building rate of $h(t)$, we can calculate $c_{h}(t)$ as: \n",
    "\n",
    "$c_h(t) = c_{h0} + \\int_{0}^{t} h(t) dt$\n",
    "\n",
    "where $c_{h0}$ is the initial number of houses in the system. At time $t$ we can calculate the number of people $N(t)$ in the system as:\n",
    "\n",
    "$N(t) = N_0 + \\int_{0}^{t} \\lambda(t) - \\int_{0}^{t} \\mu(t)$.\n",
    "\n",
    "We split the queue for housing into an unsheltered and a sheltered part. We denote $c_{s}(t)$ as the number of shelters at time $t$. Given a server building rate of $s(t)$, we can calculate $c_{s}(t)$ as:\n",
    "\n",
    "$c_s(t) = c_{s0} + \\int_{0}^{t} s(t) dt$. \n",
    "\n",
    "The size of the unsheltered queue at time $t$ is then: \n",
    "\n",
    "$unsh(t) = N(t) - c_h(t) - c_s(t)$\n",
    "\n",
    "where we assume that build rates $h(t)$ and $s(t)$ are sufficiently small for the given arrival rate $\\lambda(t)$ so that the expression above for $unsh(t)$ never drops below $0$. The purpose of this assumption is to ensure that an objective function which includes $unsh(t)$ does not involve an expression containing a maximisation (e.g. $\\max(0,N(t)-c_h(t)-c_s(t))$). \n",
    "\n",
    "We can use this deterministic model to estimate statistical variability using: \n",
    "\n",
    "$E[unsh(t)] = N_0 + \\int_{0}^{t} \\lambda(t) - \\int_{0}^{t} \\mu(t) - c_h(t) - c_s(t)$\n",
    "\n",
    "$Var[unsh(t)] = \\int_{0}^{t} \\lambda(t) + \\int_{0}^{t} \\mu(t)$\n",
    "\n",
    "where the latter expression assumes exponential inter-arrival and service times. The above expressions can then help us calculate squared queue lengths: \n",
    "\n",
    "$E[unsh(t)^2] = E[unsh(t)]^2 + Var[unsh(t)]$. \n",
    "\n",
    "#### Deterministic optimisation using fluid flow model\n",
    "\n",
    "The fluid flow model has the advantages that it is simple, quick to run and accepts building rates from the set of non-negative real numbers. We now use this fluid flow model to compute deterministic objective values in an continuous optimisation formulation.\n",
    "\n",
    "    \\begin{align*}\n",
    "        & \\max \\hspace{0.2cm} \\mathbb{E} [B(\\boldsymbol{x},\\boldsymbol{U})]\\\\\n",
    "        & \\text{ s.t. } C(\\boldsymbol{x}) < c\\\\\n",
    "        & \\hspace{0.82cm} \\boldsymbol{x} \\in \\mathbb{X}   \n",
    "    \\end{align*}\n",
    "    \n"
   ]
  },
  {
   "cell_type": "code",
   "execution_count": 1,
   "id": "d7b2a784-1236-4d6d-b3d3-ffde3f058e1c",
   "metadata": {
    "collapsed": false
   },
   "outputs": [],
   "source": [
    "import fluid_flow_model as fl\n",
    "import json\n",
    "import matplotlib.pyplot as plt"
   ]
  },
  {
   "cell_type": "code",
   "execution_count": 2,
   "id": "8e42f3a8-18bc-4370-b0ec-b809a55cf5b2",
   "metadata": {
    "collapsed": false
   },
   "outputs": [],
   "source": [
    "# Opening JSON file\n",
    "with open('data_as_is.json') as json_file:\n",
    "    data_as_is = json.load(json_file)"
   ]
  },
  {
   "cell_type": "code",
   "execution_count": 4,
   "id": "1026ebc2-03ba-492c-b885-b5e072019ea2",
   "metadata": {
    "collapsed": false
   },
   "outputs": [],
   "source": [
    "model = fl.FluidFlowModel(data_as_is, data_as_is['build_rates'])"
   ]
  },
  {
   "cell_type": "code",
   "execution_count": 5,
   "id": "6c82b817-4c3a-4fcc-86d4-24fd745c9abf",
   "metadata": {
    "collapsed": false
   },
   "outputs": [],
   "source": [
    "horizon = 5\n",
    "T = [i/365 for i in range(int(horizon*365))]\n",
    "model.analyse(T)"
   ]
  },
  {
   "cell_type": "code",
   "execution_count": null,
   "id": "f339a6ec-760a-4563-abf0-043bfc0c6f77",
   "metadata": {
    "collapsed": false
   },
   "outputs": [],
   "source": [
    "plt.plot(T, model.unsh_t, color = 'blue')\n",
    "plt.title('E[Unsheltered] - fluid flow model')\n",
    "plt.xlabel('t (years)')\n",
    "plt.ylabel('Obj value: E[Unsheltered]')\n",
    "plt.show()"
   ]
  },
  {
   "cell_type": "code",
   "execution_count": null,
   "id": "755b224e-8a78-47e2-a8e3-5c43b80b7271",
   "metadata": {
    "collapsed": false
   },
   "outputs": [],
   "source": [
    "plt.plot(T, model.unsh_var_t, color = 'blue')\n",
    "plt.title('Var[Unsheltered] - fluid flow model')\n",
    "plt.xlabel('t (years)')\n",
    "plt.ylabel('Var[Unsheltered]')\n",
    "plt.show()"
   ]
  },
  {
   "cell_type": "code",
   "execution_count": null,
   "id": "49667f65-aa26-4f98-9ea6-efb1ddae20d2",
   "metadata": {
    "collapsed": false
   },
   "outputs": [],
   "source": [
    "plt.plot(T, model.unsh_sq_t, color = 'blue')\n",
    "plt.title('E[Unsheltered^2] - fluid flow model')\n",
    "plt.xlabel('t (years)')\n",
    "plt.ylabel('E[Unsheltered^2]')\n",
    "plt.show()"
   ]
  }
 ],
 "metadata": {
  "kernelspec": {
   "argv": [
    "/home/burges26/GitHub/homeless_services/.venv/bin/python3",
    "-m",
    "ipykernel_launcher",
    "-f",
    "{connection_file}"
   ],
   "display_name": ".venv",
   "env": null,
   "interrupt_mode": "signal",
   "language": "python",
   "metadata": {
    "debugger": true
   },
   "name": ".venv"
  },
  "name": "08_fluid_flow_model.ipynb"
 },
 "nbformat": 4,
 "nbformat_minor": 5
}
