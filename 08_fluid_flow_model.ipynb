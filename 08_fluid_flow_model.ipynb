{
 "cells": [
  {
   "cell_type": "markdown",
   "id": "d8173c08-bdc6-45c7-b968-b6a02ca5ca30",
   "metadata": {
    "collapsed": false
   },
   "source": [
    "## Fluid flow model of the queue for shelter and housing\n",
    "\n",
    "Here we ignore the randomness in the arrival process and the service process for homeless people entering and leaving the homeless response system. Instead we assume that ``fluid\" flows into the system continuously at a rate $\\lambda(t)$ and flows out a  rate $\\mu(t) = \\mu_{0}n_{h}(t)$ where $\\mu_{0}$ is the service rate of a single housing unit and $n_{h}(t)$ is the number of houses at time $t$. The simplification of the service process relies on the assumption that the servers are always busy. Given a house building rate of $h(t)$, we can calculate $n_{h}(t)$ as: \n",
    "\n",
    "$n_h(t) = n_{h0} + \\int_{0}^{t} h(t) dt$\n",
    "\n",
    "where $n_{h0}$ is the initial number of houses in the system. At time $t$ we can calculate the number of people $X(t)$ in the system as:\n",
    "\n",
    "$X(t) = X_0 + \\int_{0}^{t} \\lambda(t) dt - \\int_{0}^{t} \\mu(t) dt$.\n",
    "\n",
    "We split the queue for housing into an unsheltered and a sheltered part. We denote $n_{s}(t)$ as the number of shelters at time $t$. Given a server building rate of $s(t)$ and and initial number of shelters in the system $n_{s0}$ we can calculate $n_{s}(t)$ as:\n",
    "\n",
    "$n_s(t) = n_{s0} + \\int_{0}^{t} s(t) dt$. \n",
    "\n",
    "The size of the unsheltered queue at time $t$ is then: \n",
    "\n",
    "$unsh(t) = X(t) - n_h(t) - n_s(t) = X_0 + \\int_{0}^{t} \\lambda(t) dt - \\int_{0}^{t} \\mu(t) dt - n_h(t) - n_s(t)$\n",
    "\n",
    "where we assume that build rates $h(t)$ and $s(t)$ are sufficiently small for the given arrival rate $\\lambda(t)$ so that the expression above for $unsh(t)$ never drops below $0$. The purpose of this assumption is to ensure that an objective function which includes $unsh(t)$ does not involve an expression containing a maximisation (e.g. $\\max(0,X(t)-n_h(t)-n_s(t))$). \n",
    "\n",
    "We can use this deterministic model to estimate statistical variability using: \n",
    "\n",
    "$E[unsh(t)] = X_0 + \\int_{0}^{t} \\lambda(t) dt - \\int_{0}^{t} \\mu(t) dt - n_h(t) - n_s(t)$\n",
    "\n",
    "$Var[unsh(t)] = \\int_{0}^{t} \\lambda(t) dt + \\int_{0}^{t} \\mu(t) dt$\n",
    "\n",
    "where the latter expression assumes exponential inter-arrival and service times. The above expressions can then help us calculate squared queue lengths: \n",
    "\n",
    "$E[unsh(t)^2] = E[unsh(t)]^2 + Var[unsh(t)]$. \n",
    "\n",
    "## Deterministic optimisation using fluid flow model\n",
    "\n",
    "The fluid flow model has the advantages that:\n",
    "\n",
    "* it is simple\n",
    "* it is quick to run \n",
    "* it accepts building rates from the set of non-negative real numbers (useful in a continuous optimisation framework). \n",
    "\n",
    "We now use this fluid flow model to compute deterministic objective values in an continuous optimisation formulation. We will solve this continuous problem using Pyomo which is able to solve problems with 'black-box' objective functions. Note: we solved a discrete version of this problem previously using the analytical $M(t)/M/s(t)$ queueing model and a complete enumeration of the feasible region. \n",
    "\n",
    "#### Model setup"
   ]
  },
  {
   "cell_type": "code",
   "execution_count": 2,
   "id": "1d10701e-73ae-4dbe-9a00-1fb2a9565014",
   "metadata": {
    "collapsed": false
   },
   "outputs": [],
   "source": [
    "import fluid_flow_model as fl\n",
    "import json\n",
    "import matplotlib.pyplot as plt"
   ]
  },
  {
   "cell_type": "code",
   "execution_count": 3,
   "id": "48fd6b6d-f2ed-4112-9219-502945f22afd",
   "metadata": {
    "collapsed": false
   },
   "outputs": [],
   "source": [
    "# Opening JSON file\n",
    "with open('data_as_is_exp1.json') as json_file:\n",
    "    data_as_is_exp1 = json.load(json_file)"
   ]
  },
  {
   "cell_type": "code",
   "execution_count": 4,
   "id": "d933f210-2ae4-40ff-ac7f-c5ada1d2f3e7",
   "metadata": {
    "collapsed": false
   },
   "outputs": [
    {
     "name": "stdout",
     "output_type": "stream",
     "text": [
      "Length of model run (yrs): 4\n",
      "Initial capacity: {'housing': 40, 'shelter': 15}\n",
      "Initial demand: 180\n",
      "Arrival rates yr 1: 100\n",
      "Arrival rates yr 2: 100\n",
      "Arrival rates yr 3: 100\n",
      "Arrival rates yr 4: 100\n"
     ]
    }
   ],
   "source": [
    "print('Length of model run (yrs): ' + str(data_as_is_exp1['analysis_horizon']))\n",
    "print('Initial capacity: ' + str(data_as_is_exp1['initial_capacity']))\n",
    "print('Initial demand: ' + str(data_as_is_exp1['initial_demand']))\n",
    "for i in range(len(data_as_is_exp1['arrival_rates'])):\n",
    "    print('Arrival rates yr ' + str(i+1) + ': ' + str(data_as_is_exp1['arrival_rates'][i]))"
   ]
  },
  {
   "cell_type": "markdown",
   "id": "b9ca61da-b115-4c8c-bf49-baa3c91f117e",
   "metadata": {
    "collapsed": false
   },
   "source": [
    "Let $\\mu_0$ be the housing service rate for a single housing unit. \n",
    "\n",
    "Let $T \\in Z^{+}$ be a fixed horizon over which to model queue behaviour and to make building decisions.\n",
    "\n",
    "Let vectors $\\boldsymbol{h} = \\{h_t \\hspace{0.2cm} \\forall t \\in {1,...,T}\\}$ and $\\boldsymbol{s} = \\{s_t \\hspace{0.2cm} \\forall t \\in {1,...,T}\\}$ denote annual house and shelter building rates, respectively. For simplicity we say that housing/shelter building rates are constant within each year. \n",
    "\n",
    "Let $c_{h} = 1$ be the cost of increasing $h_t$ by one, for any $t$.\n",
    "\n",
    "Let $c_{s}$ be the cost of increasing $s_t$ by one, for any $t$. \n",
    "\n",
    "Let $y(\\boldsymbol{h},\\boldsymbol{s})$ be a deterministic objective function, evaluated using the fluid flow model. \n",
    "\n",
    "Let $B$ be a baseline minimum annual house/shetler building rate\n",
    "\n",
    "Let $C$ be a total budget for building housing and shelter\n",
    "\n",
    "#### Optimisation formulation\n",
    "\n",
    "$\\min_{\\boldsymbol{h},\\boldsymbol{s}} \\hspace{0.2cm} y(\\boldsymbol{h},\\boldsymbol{s})$\n",
    "\n",
    "$\\text{ s.t.} \\hspace{0.8cm} \\sum_{t=1}^{T} c_{h}h_{t} + c_{s}s_{t} \\leq B$\n",
    "\n",
    "$\\hspace{1.6cm} h_t, s_t \\geq B \\hspace{0.2cm} \\forall t \\in \\{1, ..., T\\}$\n",
    "\n",
    "As an example, we set the objective function to be the time average of the expected value of the unsheltered queue: \n",
    "\n",
    "$y(\\boldsymbol{h},\\boldsymbol{s}) = \\frac{1}{T} \\int_0^T E[unsh(t; \\boldsymbol{h},\\boldsymbol{s})] dt$\n",
    "\n",
    "We set: \n",
    "\n",
    "$\\mu_0 = 0.25$\n",
    "\n",
    "$T=4$\n",
    "\n",
    "$c_s = 0.5$\n",
    "\n",
    "$B=12$\n",
    "\n",
    "$C = B (c_h + c_s) T + 60$. \n",
    "\n",
    "This value of $C$ allows an extra budget of $60$ to be spent at any time on either shelter or housing. This could, for example, afford an extra build rate of $60$ houses/yr or $120$ shelters/yr in a specific year, or some mixture of extra housing and extra shelter."
   ]
  },
  {
   "cell_type": "code",
   "execution_count": 2,
   "id": "8e42f3a8-18bc-4370-b0ec-b809a55cf5b2",
   "metadata": {
    "collapsed": false
   },
   "outputs": [],
   "source": [
    "# Opening JSON file\n",
    "with open('data_as_is.json') as json_file:\n",
    "    data_as_is = json.load(json_file)"
   ]
  },
  {
   "cell_type": "code",
   "execution_count": 4,
   "id": "1026ebc2-03ba-492c-b885-b5e072019ea2",
   "metadata": {
    "collapsed": false
   },
   "outputs": [],
   "source": [
    "model = fl.FluidFlowModel(data_as_is, data_as_is['build_rates'])"
   ]
  },
  {
   "cell_type": "code",
   "execution_count": 5,
   "id": "6c82b817-4c3a-4fcc-86d4-24fd745c9abf",
   "metadata": {
    "collapsed": false
   },
   "outputs": [],
   "source": [
    "horizon = 5\n",
    "T = [i/365 for i in range(int(horizon*365))]\n",
    "model.analyse(T)"
   ]
  },
  {
   "cell_type": "code",
   "execution_count": null,
   "id": "f339a6ec-760a-4563-abf0-043bfc0c6f77",
   "metadata": {
    "collapsed": false
   },
   "outputs": [],
   "source": [
    "plt.plot(T, model.unsh_t, color = 'blue')\n",
    "plt.title('E[Unsheltered] - fluid flow model')\n",
    "plt.xlabel('t (years)')\n",
    "plt.ylabel('Obj value: E[Unsheltered]')\n",
    "plt.show()"
   ]
  },
  {
   "cell_type": "code",
   "execution_count": null,
   "id": "755b224e-8a78-47e2-a8e3-5c43b80b7271",
   "metadata": {
    "collapsed": false
   },
   "outputs": [],
   "source": [
    "plt.plot(T, model.unsh_var_t, color = 'blue')\n",
    "plt.title('Var[Unsheltered] - fluid flow model')\n",
    "plt.xlabel('t (years)')\n",
    "plt.ylabel('Var[Unsheltered]')\n",
    "plt.show()"
   ]
  },
  {
   "cell_type": "code",
   "execution_count": null,
   "id": "49667f65-aa26-4f98-9ea6-efb1ddae20d2",
   "metadata": {
    "collapsed": false
   },
   "outputs": [],
   "source": [
    "plt.plot(T, model.unsh_sq_t, color = 'blue')\n",
    "plt.title('E[Unsheltered^2] - fluid flow model')\n",
    "plt.xlabel('t (years)')\n",
    "plt.ylabel('E[Unsheltered^2]')\n",
    "plt.show()"
   ]
  }
 ],
 "metadata": {
  "kernelspec": {
   "argv": [
    "/home/burges26/GitHub/homeless_services/.venv/bin/python3",
    "-m",
    "ipykernel_launcher",
    "-f",
    "{connection_file}"
   ],
   "display_name": ".venv",
   "env": null,
   "interrupt_mode": "signal",
   "language": "python",
   "metadata": {
    "debugger": true
   },
   "name": ".venv"
  },
  "name": "08_fluid_flow_model.ipynb"
 },
 "nbformat": 4,
 "nbformat_minor": 5
}
