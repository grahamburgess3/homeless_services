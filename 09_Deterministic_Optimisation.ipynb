{
 "cells": [
  {
   "cell_type": "markdown",
   "id": "7a8fe2d6-0e66-4800-b6b6-a5aea3122aed",
   "metadata": {},
   "source": [
    "# Deterministic optimisation\n",
    "\n",
    "Here we optimise over several different objective functions evaluated using the deterministic fluid flow model. "
   ]
  },
  {
   "cell_type": "code",
   "execution_count": 1,
   "id": "31e4a06e-36c6-44db-8039-98268c73a642",
   "metadata": {},
   "outputs": [],
   "source": [
    "# imports\n",
    "import deterministic_optimisation as do"
   ]
  },
  {
   "cell_type": "code",
   "execution_count": 2,
   "id": "c0600c79-350a-4ba5-b8ae-2e2c70910bdd",
   "metadata": {},
   "outputs": [],
   "source": [
    "# constraint funcs\n",
    "def budget_constraint(problem):\n",
    "    costs=0\n",
    "    for t in problem.T:\n",
    "        costs += problem.h[t] * costs_accomm['housing']\n",
    "        costs += problem.s[t] * costs_accomm['shelter']\n",
    "    return costs <= budget\n",
    "\n",
    "def min_house_build(problem,n):\n",
    "    return problem.h[n]>=baseline_build\n",
    "\n",
    "def min_shelter_build(problem,n):\n",
    "    return problem.s[n]>=baseline_build\n",
    "        \n",
    "def y0(problem):\n",
    "    \" objective function for problem Phi0 \"\n",
    "    solution = {'housing' : problem.h, 'shelter' : problem.s}\n",
    "    fluid_model = model(data_as_is, solution)\n",
    "    fluid_model.analyse(horizon, timestep)\n",
    "    avg_unsh = sum(fluid_model.model.unsh_t)/len(fluid_model.model.unsh_t)\n",
    "    return(avg_unsh)\n",
    "\n",
    "def y1(problem):\n",
    "    \" objective function for problem Phi1 \"\n",
    "    solution = {'housing' : problem.h, 'shelter' : problem.s}\n",
    "    fluid_model = model(data_as_is, solution)\n",
    "    fluid_model.analyse(horizon, timestep)\n",
    "    avg_unsh = sum(fluid_model.model.unsh_t)/len(fluid_model.model.unsh_t)\n",
    "    avg_sh = sum(fluid_model.model.sh_t)/len(fluid_model.model.sh_t)\n",
    "    c = 0.5 # weight placed on sheltered queue compared to unsheltered\n",
    "    return(avg_unsh + (c * avg_sh))\n",
    "\n",
    "def y2(problem):\n",
    "    \" objective function for problem Phi2 \"\n",
    "    solution = {'housing' : problem.h, 'shelter' : problem.s}\n",
    "    fluid_model = model(data_as_is, solution)\n",
    "    fluid_model.analyse(horizon, timestep)\n",
    "    avg_unsh_2 = sum(fluid_model.model.unsh_sq_t)/len(fluid_model.model.unsh_sq_t)\n",
    "    avg_sh_2 = sum(fluid_model.model.sh_sq_t)/len(fluid_model.model.sh_sq_t)\n",
    "    c = 0.5 # weight placed on sheltered queue compared to unsheltered\n",
    "    return(avg_unsh_2 + (c * avg_sh_2))"
   ]
  },
  {
   "cell_type": "code",
   "execution_count": 3,
   "id": "8c6e43a0-86d2-4973-8411-3f0ebc0710af",
   "metadata": {},
   "outputs": [],
   "source": [
    "# Set as is data\n",
    "data_as_is = {'initial_capacity' : {'housing':40, 'shelter':15},\n",
    "              'initial_demand' : 180,\n",
    "              'service_mean' : {'housing': 4.0, 'shelter': 0.0},\n",
    "              'arrival_rates' : [100,100,100,100]}\n",
    "\n",
    "# Model setup\n",
    "horizon = 4\n",
    "timestep = 1/365\n",
    "budget = 132\n",
    "baseline_build = 12\n",
    "costs_accomm = {'housing' : 1.0, 'shelter' : 0.5}\n",
    "model = do.FluidModel"
   ]
  },
  {
   "cell_type": "markdown",
   "id": "06f6d557-472d-4029-b5e9-bf35fc9de9e4",
   "metadata": {},
   "source": [
    "####  Phi 0\r\n",
    "    # min TimeAvg(E[unsh(t)])\r\n",
    "    # s.t. total budget constraint\r\n",
    "    #      annual minimum build constraint"
   ]
  },
  {
   "cell_type": "code",
   "execution_count": 4,
   "id": "98caef31-e6a4-4249-9680-1ef7f9570a5f",
   "metadata": {},
   "outputs": [
    {
     "name": "stdout",
     "output_type": "stream",
     "text": [
      "House building solution per year: [12.0, 12.0, 12.0, 12.0]\n",
      "Shelter building solution per year: [132.0, 12.0, 12.0, 12.0]\n",
      "Optimal objective Val: 143.95890223306452\n"
     ]
    }
   ],
   "source": [
    "# Set up problem and solve\n",
    "problem = do.Phi(data_as_is, \n",
    "                  timestep, \n",
    "                  horizon, \n",
    "                  budget, \n",
    "                  costs_accomm, \n",
    "                  baseline_build, \n",
    "                  budget_constraint, \n",
    "                  min_house_build, \n",
    "                  min_shelter_build, \n",
    "                  y0)\n",
    "\n",
    "problem.solve('glpk')\n",
    "\n",
    "# Outputs\n",
    "print('House building solution per year: ' + str(problem.h_opt))\n",
    "print('Shelter building solution per year: ' + str(problem.s_opt))\n",
    "print('Optimal objective Val: ' + str(problem.instance.OBJ()))"
   ]
  },
  {
   "cell_type": "markdown",
   "id": "8a1fbbe8-f2b5-4d57-a955-950dd9b6fa06",
   "metadata": {},
   "source": [
    "Here we see that for the given cost of shelter and given housing service rate, it is best to spend all of our surplus budget on shelter in the first year. "
   ]
  },
  {
   "cell_type": "markdown",
   "id": "9cceefad-80ad-4cab-9870-5e05b9a034b2",
   "metadata": {},
   "source": [
    "####  Phi 1\r\n",
    "    # min TimeAvg(E[unsh(t) + c*E[sh(t)]])\r\n",
    "    # s.t. total budget constraint\r\n",
    "    #      annual minimum build constraint"
   ]
  },
  {
   "cell_type": "code",
   "execution_count": 5,
   "id": "c6fb22cc-f862-4f8f-a8d1-6b1bb0404531",
   "metadata": {},
   "outputs": [
    {
     "name": "stdout",
     "output_type": "stream",
     "text": [
      "House building solution per year: [72.0, 12.0, 12.0, 12.0]\n",
      "Shelter building solution per year: [12.0, 12.0, 12.0, 12.0]\n",
      "Optimal objective Val: 192.8231122161753\n"
     ]
    }
   ],
   "source": [
    "# Set up problem and solve\n",
    "problem = do.Phi(data_as_is, \n",
    "                  timestep, \n",
    "                  horizon, \n",
    "                  budget, \n",
    "                  costs_accomm, \n",
    "                  baseline_build, \n",
    "                  budget_constraint, \n",
    "                  min_house_build, \n",
    "                  min_shelter_build, \n",
    "                  y1)\n",
    "\n",
    "problem.solve('glpk')\n",
    "\n",
    "# Outputs\n",
    "print('House building solution per year: ' + str(problem.h_opt))\n",
    "print('Shelter building solution per year: ' + str(problem.s_opt))\n",
    "print('Optimal objective Val: ' + str(problem.instance.OBJ()))"
   ]
  },
  {
   "cell_type": "markdown",
   "id": "b09b8563-c047-4f31-b48a-d6dc6fb13596",
   "metadata": {},
   "source": [
    "Here we see that by penalising the size of the sheltered queue, our preference shifts to spending all of our surplus budget on housing. "
   ]
  },
  {
   "cell_type": "markdown",
   "id": "8d938588-ea65-4fe2-b829-bf2c0ce0ce58",
   "metadata": {},
   "source": [
    "####  Phi 2\n",
    "    # min TimeAvg(E[unsh(t)^2] + c*E[sh(t)^2])\n",
    "    # s.t. total budget constraint\n",
    "    #      annual minimum build constraintint"
   ]
  },
  {
   "cell_type": "code",
   "execution_count": 6,
   "id": "cbb3257d-4120-49b1-a997-7b57a2e20c3b",
   "metadata": {},
   "outputs": [
    {
     "ename": "ValueError",
     "evalue": "Model objective (OBJ) contains nonlinear terms that cannot be written to LP format",
     "output_type": "error",
     "traceback": [
      "\u001b[1;31m---------------------------------------------------------------------------\u001b[0m",
      "\u001b[1;31mValueError\u001b[0m                                Traceback (most recent call last)",
      "Cell \u001b[1;32mIn[6], line 13\u001b[0m\n\u001b[0;32m      1\u001b[0m \u001b[38;5;66;03m# Set up problem and solve\u001b[39;00m\n\u001b[0;32m      2\u001b[0m problem \u001b[38;5;241m=\u001b[39m do\u001b[38;5;241m.\u001b[39mPhi(data_as_is, \n\u001b[0;32m      3\u001b[0m                   timestep, \n\u001b[0;32m      4\u001b[0m                   horizon, \n\u001b[1;32m   (...)\u001b[0m\n\u001b[0;32m     10\u001b[0m                   min_shelter_build, \n\u001b[0;32m     11\u001b[0m                   y2)\n\u001b[1;32m---> 13\u001b[0m problem\u001b[38;5;241m.\u001b[39msolve(\u001b[38;5;124m'\u001b[39m\u001b[38;5;124mglpk\u001b[39m\u001b[38;5;124m'\u001b[39m)\n\u001b[0;32m     15\u001b[0m \u001b[38;5;66;03m# Outputs\u001b[39;00m\n\u001b[0;32m     16\u001b[0m \u001b[38;5;28mprint\u001b[39m(\u001b[38;5;124m'\u001b[39m\u001b[38;5;124mHouse building solution per year: \u001b[39m\u001b[38;5;124m'\u001b[39m \u001b[38;5;241m+\u001b[39m \u001b[38;5;28mstr\u001b[39m(problem\u001b[38;5;241m.\u001b[39mh_opt))\n",
      "File \u001b[1;32m~\\GitHub\\deterministic_optimisation.py:30\u001b[0m, in \u001b[0;36mProblem.solve\u001b[1;34m(self, solver)\u001b[0m\n\u001b[0;32m     28\u001b[0m \u001b[38;5;28mself\u001b[39m\u001b[38;5;241m.\u001b[39mopt\u001b[38;5;241m=\u001b[39mSolverFactory(solver)\n\u001b[0;32m     29\u001b[0m \u001b[38;5;28mself\u001b[39m\u001b[38;5;241m.\u001b[39minstance\u001b[38;5;241m=\u001b[39m\u001b[38;5;28mself\u001b[39m\u001b[38;5;241m.\u001b[39mproblem\u001b[38;5;241m.\u001b[39mcreate_instance()\n\u001b[1;32m---> 30\u001b[0m \u001b[38;5;28mself\u001b[39m\u001b[38;5;241m.\u001b[39mresults\u001b[38;5;241m=\u001b[39m\u001b[38;5;28mself\u001b[39m\u001b[38;5;241m.\u001b[39mopt\u001b[38;5;241m.\u001b[39msolve(\u001b[38;5;28mself\u001b[39m\u001b[38;5;241m.\u001b[39minstance)\n\u001b[0;32m     31\u001b[0m \u001b[38;5;28mself\u001b[39m\u001b[38;5;241m.\u001b[39mh_opt\u001b[38;5;241m=\u001b[39m[\u001b[38;5;28mself\u001b[39m\u001b[38;5;241m.\u001b[39minstance\u001b[38;5;241m.\u001b[39mh[i]\u001b[38;5;241m.\u001b[39mvalue \u001b[38;5;28;01mfor\u001b[39;00m i \u001b[38;5;129;01min\u001b[39;00m \u001b[38;5;28mrange\u001b[39m(\u001b[38;5;28mself\u001b[39m\u001b[38;5;241m.\u001b[39mhorizon)]\n\u001b[0;32m     32\u001b[0m \u001b[38;5;28mself\u001b[39m\u001b[38;5;241m.\u001b[39ms_opt\u001b[38;5;241m=\u001b[39m[\u001b[38;5;28mself\u001b[39m\u001b[38;5;241m.\u001b[39minstance\u001b[38;5;241m.\u001b[39ms[i]\u001b[38;5;241m.\u001b[39mvalue \u001b[38;5;28;01mfor\u001b[39;00m i \u001b[38;5;129;01min\u001b[39;00m \u001b[38;5;28mrange\u001b[39m(\u001b[38;5;28mself\u001b[39m\u001b[38;5;241m.\u001b[39mhorizon)]\n",
      "File \u001b[1;32m~\\AppData\\Local\\anaconda3\\envs\\pyomo\\Lib\\site-packages\\pyomo\\opt\\base\\solvers.py:597\u001b[0m, in \u001b[0;36mOptSolver.solve\u001b[1;34m(self, *args, **kwds)\u001b[0m\n\u001b[0;32m    593\u001b[0m \u001b[38;5;28;01mtry\u001b[39;00m:\n\u001b[0;32m    594\u001b[0m     \u001b[38;5;66;03m# we're good to go.\u001b[39;00m\n\u001b[0;32m    595\u001b[0m     initial_time \u001b[38;5;241m=\u001b[39m time\u001b[38;5;241m.\u001b[39mtime()\n\u001b[1;32m--> 597\u001b[0m     \u001b[38;5;28mself\u001b[39m\u001b[38;5;241m.\u001b[39m_presolve(\u001b[38;5;241m*\u001b[39margs, \u001b[38;5;241m*\u001b[39m\u001b[38;5;241m*\u001b[39mkwds)\n\u001b[0;32m    599\u001b[0m     presolve_completion_time \u001b[38;5;241m=\u001b[39m time\u001b[38;5;241m.\u001b[39mtime()\n\u001b[0;32m    600\u001b[0m     \u001b[38;5;28;01mif\u001b[39;00m \u001b[38;5;28mself\u001b[39m\u001b[38;5;241m.\u001b[39m_report_timing:\n",
      "File \u001b[1;32m~\\AppData\\Local\\anaconda3\\envs\\pyomo\\Lib\\site-packages\\pyomo\\opt\\solver\\shellcmd.py:224\u001b[0m, in \u001b[0;36mSystemCallSolver._presolve\u001b[1;34m(self, *args, **kwds)\u001b[0m\n\u001b[0;32m    221\u001b[0m \u001b[38;5;28mself\u001b[39m\u001b[38;5;241m.\u001b[39m_keepfiles \u001b[38;5;241m=\u001b[39m kwds\u001b[38;5;241m.\u001b[39mpop(\u001b[38;5;124m\"\u001b[39m\u001b[38;5;124mkeepfiles\u001b[39m\u001b[38;5;124m\"\u001b[39m, \u001b[38;5;28;01mFalse\u001b[39;00m)\n\u001b[0;32m    222\u001b[0m \u001b[38;5;28mself\u001b[39m\u001b[38;5;241m.\u001b[39m_define_signal_handlers \u001b[38;5;241m=\u001b[39m kwds\u001b[38;5;241m.\u001b[39mpop(\u001b[38;5;124m'\u001b[39m\u001b[38;5;124muse_signal_handling\u001b[39m\u001b[38;5;124m'\u001b[39m, \u001b[38;5;28;01mNone\u001b[39;00m)\n\u001b[1;32m--> 224\u001b[0m OptSolver\u001b[38;5;241m.\u001b[39m_presolve(\u001b[38;5;28mself\u001b[39m, \u001b[38;5;241m*\u001b[39margs, \u001b[38;5;241m*\u001b[39m\u001b[38;5;241m*\u001b[39mkwds)\n\u001b[0;32m    226\u001b[0m \u001b[38;5;66;03m#\u001b[39;00m\n\u001b[0;32m    227\u001b[0m \u001b[38;5;66;03m# Verify that the input problems exists\u001b[39;00m\n\u001b[0;32m    228\u001b[0m \u001b[38;5;66;03m#\u001b[39;00m\n\u001b[0;32m    229\u001b[0m \u001b[38;5;28;01mfor\u001b[39;00m filename \u001b[38;5;129;01min\u001b[39;00m \u001b[38;5;28mself\u001b[39m\u001b[38;5;241m.\u001b[39m_problem_files:\n",
      "File \u001b[1;32m~\\AppData\\Local\\anaconda3\\envs\\pyomo\\Lib\\site-packages\\pyomo\\opt\\base\\solvers.py:706\u001b[0m, in \u001b[0;36mOptSolver._presolve\u001b[1;34m(self, *args, **kwds)\u001b[0m\n\u001b[0;32m    700\u001b[0m \u001b[38;5;28;01mif\u001b[39;00m \u001b[38;5;28mself\u001b[39m\u001b[38;5;241m.\u001b[39m_problem_format:\n\u001b[0;32m    701\u001b[0m     write_start_time \u001b[38;5;241m=\u001b[39m time\u001b[38;5;241m.\u001b[39mtime()\n\u001b[0;32m    702\u001b[0m     (\n\u001b[0;32m    703\u001b[0m         \u001b[38;5;28mself\u001b[39m\u001b[38;5;241m.\u001b[39m_problem_files,\n\u001b[0;32m    704\u001b[0m         \u001b[38;5;28mself\u001b[39m\u001b[38;5;241m.\u001b[39m_problem_format,\n\u001b[0;32m    705\u001b[0m         \u001b[38;5;28mself\u001b[39m\u001b[38;5;241m.\u001b[39m_smap_id,\n\u001b[1;32m--> 706\u001b[0m     ) \u001b[38;5;241m=\u001b[39m \u001b[38;5;28mself\u001b[39m\u001b[38;5;241m.\u001b[39m_convert_problem(\n\u001b[0;32m    707\u001b[0m         args, \u001b[38;5;28mself\u001b[39m\u001b[38;5;241m.\u001b[39m_problem_format, \u001b[38;5;28mself\u001b[39m\u001b[38;5;241m.\u001b[39m_valid_problem_formats, \u001b[38;5;241m*\u001b[39m\u001b[38;5;241m*\u001b[39mkwds\n\u001b[0;32m    708\u001b[0m     )\n\u001b[0;32m    709\u001b[0m     total_time \u001b[38;5;241m=\u001b[39m time\u001b[38;5;241m.\u001b[39mtime() \u001b[38;5;241m-\u001b[39m write_start_time\n\u001b[0;32m    710\u001b[0m     \u001b[38;5;28;01mif\u001b[39;00m \u001b[38;5;28mself\u001b[39m\u001b[38;5;241m.\u001b[39m_report_timing:\n",
      "File \u001b[1;32m~\\AppData\\Local\\anaconda3\\envs\\pyomo\\Lib\\site-packages\\pyomo\\opt\\base\\solvers.py:757\u001b[0m, in \u001b[0;36mOptSolver._convert_problem\u001b[1;34m(self, args, problem_format, valid_problem_formats, **kwds)\u001b[0m\n\u001b[0;32m    756\u001b[0m \u001b[38;5;28;01mdef\u001b[39;00m \u001b[38;5;21m_convert_problem\u001b[39m(\u001b[38;5;28mself\u001b[39m, args, problem_format, valid_problem_formats, \u001b[38;5;241m*\u001b[39m\u001b[38;5;241m*\u001b[39mkwds):\n\u001b[1;32m--> 757\u001b[0m     \u001b[38;5;28;01mreturn\u001b[39;00m convert_problem(\n\u001b[0;32m    758\u001b[0m         args, problem_format, valid_problem_formats, \u001b[38;5;28mself\u001b[39m\u001b[38;5;241m.\u001b[39mhas_capability, \u001b[38;5;241m*\u001b[39m\u001b[38;5;241m*\u001b[39mkwds\n\u001b[0;32m    759\u001b[0m     )\n",
      "File \u001b[1;32m~\\AppData\\Local\\anaconda3\\envs\\pyomo\\Lib\\site-packages\\pyomo\\opt\\base\\convert.py:99\u001b[0m, in \u001b[0;36mconvert_problem\u001b[1;34m(args, target_problem_type, valid_problem_types, has_capability, **kwds)\u001b[0m\n\u001b[0;32m     97\u001b[0m                 tmpkw \u001b[38;5;241m=\u001b[39m kwds\n\u001b[0;32m     98\u001b[0m                 tmpkw[\u001b[38;5;124m'\u001b[39m\u001b[38;5;124mcapabilities\u001b[39m\u001b[38;5;124m'\u001b[39m] \u001b[38;5;241m=\u001b[39m has_capability\n\u001b[1;32m---> 99\u001b[0m                 problem_files, symbol_map \u001b[38;5;241m=\u001b[39m converter\u001b[38;5;241m.\u001b[39mapply(\u001b[38;5;241m*\u001b[39mtmp, \u001b[38;5;241m*\u001b[39m\u001b[38;5;241m*\u001b[39mtmpkw)\n\u001b[0;32m    100\u001b[0m                 \u001b[38;5;28;01mreturn\u001b[39;00m problem_files, ptype, symbol_map\n\u001b[0;32m    102\u001b[0m msg \u001b[38;5;241m=\u001b[39m \u001b[38;5;124m'\u001b[39m\u001b[38;5;124mNo conversion possible.  Source problem type: \u001b[39m\u001b[38;5;132;01m%s\u001b[39;00m\u001b[38;5;124m.  Valid target types: \u001b[39m\u001b[38;5;132;01m%s\u001b[39;00m\u001b[38;5;124m'\u001b[39m\n",
      "File \u001b[1;32m~\\AppData\\Local\\anaconda3\\envs\\pyomo\\Lib\\site-packages\\pyomo\\solvers\\plugins\\converter\\model.py:78\u001b[0m, in \u001b[0;36mPyomoMIPConverter.apply\u001b[1;34m(self, *args, **kwds)\u001b[0m\n\u001b[0;32m     70\u001b[0m         symbol_map_id \u001b[38;5;241m=\u001b[39m instance\u001b[38;5;241m.\u001b[39mwrite(\n\u001b[0;32m     71\u001b[0m             problem_filename,\n\u001b[0;32m     72\u001b[0m             \u001b[38;5;28mformat\u001b[39m\u001b[38;5;241m=\u001b[39mProblemFormat\u001b[38;5;241m.\u001b[39mcpxlp,\n\u001b[1;32m   (...)\u001b[0m\n\u001b[0;32m     75\u001b[0m             \u001b[38;5;241m*\u001b[39m\u001b[38;5;241m*\u001b[39mio_options\n\u001b[0;32m     76\u001b[0m         )\n\u001b[0;32m     77\u001b[0m     \u001b[38;5;28;01melse\u001b[39;00m:\n\u001b[1;32m---> 78\u001b[0m         (problem_filename, symbol_map_id) \u001b[38;5;241m=\u001b[39m instance\u001b[38;5;241m.\u001b[39mwrite(\n\u001b[0;32m     79\u001b[0m             filename\u001b[38;5;241m=\u001b[39mproblem_filename,\n\u001b[0;32m     80\u001b[0m             \u001b[38;5;28mformat\u001b[39m\u001b[38;5;241m=\u001b[39mProblemFormat\u001b[38;5;241m.\u001b[39mcpxlp,\n\u001b[0;32m     81\u001b[0m             solver_capability\u001b[38;5;241m=\u001b[39mcapabilities,\n\u001b[0;32m     82\u001b[0m             io_options\u001b[38;5;241m=\u001b[39mio_options,\n\u001b[0;32m     83\u001b[0m         )\n\u001b[0;32m     84\u001b[0m     \u001b[38;5;28;01mreturn\u001b[39;00m (problem_filename,), symbol_map_id\n\u001b[0;32m     85\u001b[0m \u001b[38;5;28;01melse\u001b[39;00m:\n\u001b[0;32m     86\u001b[0m     \u001b[38;5;66;03m#\u001b[39;00m\n\u001b[0;32m     87\u001b[0m     \u001b[38;5;66;03m# I'm simply exposing a fatal issue with\u001b[39;00m\n\u001b[1;32m   (...)\u001b[0m\n\u001b[0;32m     90\u001b[0m     \u001b[38;5;66;03m# arguments that can be sent to the writer?\u001b[39;00m\n\u001b[0;32m     91\u001b[0m     \u001b[38;5;66;03m#\u001b[39;00m\n",
      "File \u001b[1;32m~\\AppData\\Local\\anaconda3\\envs\\pyomo\\Lib\\site-packages\\pyomo\\core\\base\\block.py:1991\u001b[0m, in \u001b[0;36m_BlockData.write\u001b[1;34m(self, filename, format, solver_capability, io_options, int_marker)\u001b[0m\n\u001b[0;32m   1988\u001b[0m     \u001b[38;5;28;01mdef\u001b[39;00m \u001b[38;5;21msolver_capability\u001b[39m(x):\n\u001b[0;32m   1989\u001b[0m         \u001b[38;5;28;01mreturn\u001b[39;00m \u001b[38;5;28;01mTrue\u001b[39;00m\n\u001b[1;32m-> 1991\u001b[0m (filename, smap) \u001b[38;5;241m=\u001b[39m problem_writer(\u001b[38;5;28mself\u001b[39m, filename, solver_capability, io_options)\n\u001b[0;32m   1992\u001b[0m smap_id \u001b[38;5;241m=\u001b[39m \u001b[38;5;28mid\u001b[39m(smap)\n\u001b[0;32m   1993\u001b[0m \u001b[38;5;28;01mif\u001b[39;00m \u001b[38;5;129;01mnot\u001b[39;00m \u001b[38;5;28mhasattr\u001b[39m(\u001b[38;5;28mself\u001b[39m, \u001b[38;5;124m'\u001b[39m\u001b[38;5;124msolutions\u001b[39m\u001b[38;5;124m'\u001b[39m):\n\u001b[0;32m   1994\u001b[0m     \u001b[38;5;66;03m# This is a bit of a hack.  The write() method was moved\u001b[39;00m\n\u001b[0;32m   1995\u001b[0m     \u001b[38;5;66;03m# here from PyomoModel to support the solution of arbitrary\u001b[39;00m\n\u001b[1;32m   (...)\u001b[0m\n\u001b[0;32m   2000\u001b[0m     \u001b[38;5;66;03m# dependency (we only need it here because we store the\u001b[39;00m\n\u001b[0;32m   2001\u001b[0m     \u001b[38;5;66;03m# SymbolMap returned by the writer in the solutions).\u001b[39;00m\n",
      "File \u001b[1;32m~\\AppData\\Local\\anaconda3\\envs\\pyomo\\Lib\\site-packages\\pyomo\\repn\\plugins\\lp_writer.py:208\u001b[0m, in \u001b[0;36mLPWriter.__call__\u001b[1;34m(self, model, filename, solver_capability, io_options)\u001b[0m\n\u001b[0;32m    205\u001b[0m     io_options[\u001b[38;5;124m'\u001b[39m\u001b[38;5;124mallow_quadratic_constraint\u001b[39m\u001b[38;5;124m'\u001b[39m] \u001b[38;5;241m=\u001b[39m qc\n\u001b[0;32m    207\u001b[0m \u001b[38;5;28;01mwith\u001b[39;00m \u001b[38;5;28mopen\u001b[39m(filename, \u001b[38;5;124m'\u001b[39m\u001b[38;5;124mw\u001b[39m\u001b[38;5;124m'\u001b[39m, newline\u001b[38;5;241m=\u001b[39m\u001b[38;5;124m'\u001b[39m\u001b[38;5;124m'\u001b[39m) \u001b[38;5;28;01mas\u001b[39;00m FILE:\n\u001b[1;32m--> 208\u001b[0m     info \u001b[38;5;241m=\u001b[39m \u001b[38;5;28mself\u001b[39m\u001b[38;5;241m.\u001b[39mwrite(model, FILE, \u001b[38;5;241m*\u001b[39m\u001b[38;5;241m*\u001b[39mio_options)\n\u001b[0;32m    209\u001b[0m \u001b[38;5;28;01mreturn\u001b[39;00m filename, info\u001b[38;5;241m.\u001b[39msymbol_map\n",
      "File \u001b[1;32m~\\AppData\\Local\\anaconda3\\envs\\pyomo\\Lib\\site-packages\\pyomo\\repn\\plugins\\lp_writer.py:241\u001b[0m, in \u001b[0;36mLPWriter.write\u001b[1;34m(self, model, ostream, **options)\u001b[0m\n\u001b[0;32m    237\u001b[0m \u001b[38;5;66;03m# Pause the GC, as the walker that generates the compiled LP\u001b[39;00m\n\u001b[0;32m    238\u001b[0m \u001b[38;5;66;03m# representation generates (and disposes of) a large number of\u001b[39;00m\n\u001b[0;32m    239\u001b[0m \u001b[38;5;66;03m# small objects.\u001b[39;00m\n\u001b[0;32m    240\u001b[0m \u001b[38;5;28;01mwith\u001b[39;00m PauseGC():\n\u001b[1;32m--> 241\u001b[0m     \u001b[38;5;28;01mreturn\u001b[39;00m _LPWriter_impl(ostream, config)\u001b[38;5;241m.\u001b[39mwrite(model)\n",
      "File \u001b[1;32m~\\AppData\\Local\\anaconda3\\envs\\pyomo\\Lib\\site-packages\\pyomo\\repn\\plugins\\lp_writer.py:378\u001b[0m, in \u001b[0;36m_LPWriter_impl.write\u001b[1;34m(self, model)\u001b[0m\n\u001b[0;32m    376\u001b[0m repn \u001b[38;5;241m=\u001b[39m objective_visitor\u001b[38;5;241m.\u001b[39mwalk_expression(obj\u001b[38;5;241m.\u001b[39mexpr)\n\u001b[0;32m    377\u001b[0m \u001b[38;5;28;01mif\u001b[39;00m repn\u001b[38;5;241m.\u001b[39mnonlinear \u001b[38;5;129;01mis\u001b[39;00m \u001b[38;5;129;01mnot\u001b[39;00m \u001b[38;5;28;01mNone\u001b[39;00m:\n\u001b[1;32m--> 378\u001b[0m     \u001b[38;5;28;01mraise\u001b[39;00m \u001b[38;5;167;01mValueError\u001b[39;00m(\n\u001b[0;32m    379\u001b[0m         \u001b[38;5;124mf\u001b[39m\u001b[38;5;124m\"\u001b[39m\u001b[38;5;124mModel objective (\u001b[39m\u001b[38;5;132;01m{\u001b[39;00mobj\u001b[38;5;241m.\u001b[39mname\u001b[38;5;132;01m}\u001b[39;00m\u001b[38;5;124m) contains nonlinear terms that \u001b[39m\u001b[38;5;124m\"\u001b[39m\n\u001b[0;32m    380\u001b[0m         \u001b[38;5;124m\"\u001b[39m\u001b[38;5;124mcannot be written to LP format\u001b[39m\u001b[38;5;124m\"\u001b[39m\n\u001b[0;32m    381\u001b[0m     )\n\u001b[0;32m    382\u001b[0m \u001b[38;5;28;01mif\u001b[39;00m repn\u001b[38;5;241m.\u001b[39mconstant \u001b[38;5;129;01mor\u001b[39;00m \u001b[38;5;129;01mnot\u001b[39;00m (repn\u001b[38;5;241m.\u001b[39mlinear \u001b[38;5;129;01mor\u001b[39;00m \u001b[38;5;28mgetattr\u001b[39m(repn, \u001b[38;5;124m'\u001b[39m\u001b[38;5;124mquadratic\u001b[39m\u001b[38;5;124m'\u001b[39m, \u001b[38;5;28;01mNone\u001b[39;00m)):\n\u001b[0;32m    383\u001b[0m     \u001b[38;5;66;03m# Older versions of CPLEX (including 12.6) and all versions\u001b[39;00m\n\u001b[0;32m    384\u001b[0m     \u001b[38;5;66;03m# of GLPK (through 5.0) do not support constants in the\u001b[39;00m\n\u001b[1;32m   (...)\u001b[0m\n\u001b[0;32m    390\u001b[0m     \u001b[38;5;66;03m# objective, this will ensure we at least write out\u001b[39;00m\n\u001b[0;32m    391\u001b[0m     \u001b[38;5;66;03m# 0*ONE_VAR_CONSTANT.\u001b[39;00m\n\u001b[0;32m    392\u001b[0m     repn\u001b[38;5;241m.\u001b[39mlinear[\u001b[38;5;28mid\u001b[39m(ONE_VAR_CONSTANT)] \u001b[38;5;241m=\u001b[39m repn\u001b[38;5;241m.\u001b[39mconstant\n",
      "\u001b[1;31mValueError\u001b[0m: Model objective (OBJ) contains nonlinear terms that cannot be written to LP format"
     ]
    }
   ],
   "source": [
    "# Set up problem and solve\n",
    "problem = do.Phi(data_as_is, \n",
    "                  timestep, \n",
    "                  horizon, \n",
    "                  budget, \n",
    "                  costs_accomm, \n",
    "                  baseline_build, \n",
    "                  budget_constraint, \n",
    "                  min_house_build, \n",
    "                  min_shelter_build, \n",
    "                  y2)\n",
    "\n",
    "problem.solve('glpk')\n",
    "\n",
    "# Outputs\n",
    "print('House building solution per year: ' + str(problem.h_opt))\n",
    "print('Shelter building solution per year: ' + str(problem.s_opt))\n",
    "print('Optimal objective Val: ' + str(problem.instance.OBJ()))"
   ]
  },
  {
   "cell_type": "markdown",
   "id": "f80e83bf-d0e2-4aa2-affc-93adb2aa90b8",
   "metadata": {},
   "source": [
    "Here we must consider using a different solver (rather than 'glpk' in order to deal with the squared values in the objective function. "
   ]
  }
 ],
 "metadata": {
  "kernelspec": {
   "display_name": "Python 3 (ipykernel)",
   "language": "python",
   "name": "python3"
  },
  "language_info": {
   "codemirror_mode": {
    "name": "ipython",
    "version": 3
   },
   "file_extension": ".py",
   "mimetype": "text/x-python",
   "name": "python",
   "nbconvert_exporter": "python",
   "pygments_lexer": "ipython3",
   "version": "3.11.7"
  }
 },
 "nbformat": 4,
 "nbformat_minor": 5
}
