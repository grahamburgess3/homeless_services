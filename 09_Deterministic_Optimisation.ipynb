{
 "cells": [
  {
   "cell_type": "markdown",
   "id": "7a8fe2d6-0e66-4800-b6b6-a5aea3122aed",
   "metadata": {},
   "source": [
    "# Deterministic optimisation\n",
    "\n",
    "Here we optimise over several different objective functions evaluated using the deterministic fluid flow model. "
   ]
  },
  {
   "cell_type": "code",
   "execution_count": 1,
   "id": "31e4a06e-36c6-44db-8039-98268c73a642",
   "metadata": {},
   "outputs": [],
   "source": [
    "# imports\n",
    "import deterministic_optimisation as do"
   ]
  },
  {
   "cell_type": "code",
   "execution_count": 2,
   "id": "c0600c79-350a-4ba5-b8ae-2e2c70910bdd",
   "metadata": {},
   "outputs": [],
   "source": [
    "# constraint funcs\n",
    "def budget_constraint(problem):\n",
    "    costs=0\n",
    "    for t in problem.T:\n",
    "        costs += problem.h[t] * costs_accomm['housing']\n",
    "        costs += problem.s[t] * costs_accomm['shelter']\n",
    "    return costs <= budget\n",
    "\n",
    "def min_house_build(problem,n):\n",
    "    return problem.h[n]>=baseline_build\n",
    "\n",
    "def min_shelter_build(problem,n):\n",
    "    return problem.s[n]>=baseline_build"
   ]
  },
  {
   "cell_type": "code",
   "execution_count": 3,
   "id": "8c6e43a0-86d2-4973-8411-3f0ebc0710af",
   "metadata": {},
   "outputs": [],
   "source": [
    "# Set as is data\n",
    "data_as_is = {'initial_capacity' : {'housing':40, 'shelter':15},\n",
    "              'initial_demand' : 120,\n",
    "              'service_mean' : {'housing': (0+6+8)/3, 'shelter': 0.0},\n",
    "              'arrival_rates' : [36.56, 43.52, 47.77, 47.77, 43.13]}\n",
    "\n",
    "# Model setup\n",
    "horizon = 5\n",
    "timestep = 1/365\n",
    "budget = 2000\n",
    "baseline_build = 5\n",
    "costs_accomm = {'housing' : 30, 'shelter' : 10}\n",
    "model = do.FluidModel"
   ]
  },
  {
   "cell_type": "markdown",
   "id": "06f6d557-472d-4029-b5e9-bf35fc9de9e4",
   "metadata": {},
   "source": [
    "####  Phi 0\r\n",
    "    # min TimeAvg(E[unsh(t)])\r\n",
    "    # s.t. total budget constraint\r\n",
    "    #      annual minimum build constraint"
   ]
  },
  {
   "cell_type": "code",
   "execution_count": 4,
   "id": "98caef31-e6a4-4249-9680-1ef7f9570a5f",
   "metadata": {},
   "outputs": [
    {
     "name": "stdout",
     "output_type": "stream",
     "text": [
      "House building solution per year: [5.0, 5.0, 5.0, 5.0, 5.0]\n",
      "Shelter building solution per year: [105.0, 5.0, 5.0, 5.0, 5.0]\n",
      "Optimal objective Val: 30.0\n"
     ]
    }
   ],
   "source": [
    "def y0(problem):\n",
    "    \" objective function for problem Phi0 \"\n",
    "    solution = {'housing' : problem.h, 'shelter' : problem.s}\n",
    "    fluid_model = model(data_as_is, solution)\n",
    "    fluid_model.analyse(horizon, timestep)\n",
    "    avg_unsh = sum(fluid_model.model.unsh_t)/len(fluid_model.model.unsh_t)\n",
    "    return(avg_unsh)\n",
    "\n",
    "# Set up problem and solve\n",
    "problem = do.Phi(data_as_is, \n",
    "                  timestep, \n",
    "                  horizon, \n",
    "                  budget, \n",
    "                  costs_accomm, \n",
    "                  baseline_build, \n",
    "                  budget_constraint, \n",
    "                  min_house_build, \n",
    "                  min_shelter_build, \n",
    "                  y0)\n",
    "\n",
    "problem.solve('glpk')\n",
    "\n",
    "# Outputs\n",
    "print('House building solution per year: ' + str([round(i,2) for i in problem.h_opt]))\n",
    "print('Shelter building solution per year: ' + str([round(i,2) for i in problem.s_opt]))\n",
    "print('Optimal objective Val: ' + str(round(problem.instance.OBJ(),2)))"
   ]
  },
  {
   "cell_type": "markdown",
   "id": "8a1fbbe8-f2b5-4d57-a955-950dd9b6fa06",
   "metadata": {},
   "source": [
    "Here we see that for the given cost of shelter and given housing service rate, it is best to spend all of our surplus budget on shelter in the first year. "
   ]
  },
  {
   "cell_type": "markdown",
   "id": "9cceefad-80ad-4cab-9870-5e05b9a034b2",
   "metadata": {},
   "source": [
    "####  Phi 1\r\n",
    "    # min TimeAvg(E[unsh(t) + c*E[sh(t)]])\r\n",
    "    # s.t. total budget constraint\r\n",
    "    #      annual minimum build constraint"
   ]
  },
  {
   "cell_type": "code",
   "execution_count": 5,
   "id": "c6fb22cc-f862-4f8f-a8d1-6b1bb0404531",
   "metadata": {},
   "outputs": [
    {
     "name": "stdout",
     "output_type": "stream",
     "text": [
      "House building solution per year: [5.0, 5.0, 5.0, 5.0, 5.0]\n",
      "Shelter building solution per year: [105.0, 5.0, 5.0, 5.0, 5.0]\n",
      "Optimal objective Val: 88.73\n"
     ]
    }
   ],
   "source": [
    "def y1(problem):\n",
    "    \" objective function for problem Phi1 \"\n",
    "    solution = {'housing' : problem.h, 'shelter' : problem.s}\n",
    "    fluid_model = model(data_as_is, solution)\n",
    "    fluid_model.analyse(horizon, timestep)\n",
    "    avg_unsh = sum(fluid_model.model.unsh_t)/len(fluid_model.model.unsh_t)\n",
    "    avg_sh = sum(fluid_model.model.sh_t)/len(fluid_model.model.sh_t)\n",
    "    c = 0.5 # weight placed on sheltered queue compared to unsheltered\n",
    "    return(avg_unsh + (c * avg_sh))\n",
    "\n",
    "# Set up problem and solve\n",
    "problem = do.Phi(data_as_is, \n",
    "                  timestep, \n",
    "                  horizon, \n",
    "                  budget, \n",
    "                  costs_accomm, \n",
    "                  baseline_build, \n",
    "                  budget_constraint, \n",
    "                  min_house_build, \n",
    "                  min_shelter_build, \n",
    "                  y1)\n",
    "\n",
    "problem.solve('glpk')\n",
    "\n",
    "# Outputs\n",
    "print('House building solution per year: ' + str([round(i,2) for i in problem.h_opt]))\n",
    "print('Shelter building solution per year: ' + str([round(i,2) for i in problem.s_opt]))\n",
    "print('Optimal objective Val: ' + str(round(problem.instance.OBJ(),2)))"
   ]
  },
  {
   "cell_type": "markdown",
   "id": "b09b8563-c047-4f31-b48a-d6dc6fb13596",
   "metadata": {},
   "source": [
    "Here we see that by penalising the size of the sheltered queue, our preference shifts to spending all of our surplus budget on housing. "
   ]
  },
  {
   "cell_type": "markdown",
   "id": "8d938588-ea65-4fe2-b829-bf2c0ce0ce58",
   "metadata": {},
   "source": [
    "####  Phi 2\n",
    "    # min TimeAvg(E[unsh(t)^2] + c*E[sh(t)^2])\n",
    "    # s.t. total budget constraint\n",
    "    #      annual minimum build constraintint"
   ]
  },
  {
   "cell_type": "code",
   "execution_count": 6,
   "id": "cbb3257d-4120-49b1-a997-7b57a2e20c3b",
   "metadata": {},
   "outputs": [
    {
     "name": "stdout",
     "output_type": "stream",
     "text": [
      "House building solution per year: [27.88, 5.0, 5.0, 5.0, 5.0]\n",
      "Shelter building solution per year: [36.37, 5.0, 5.0, 5.0, 5.0]\n",
      "Optimal objective Val: 6026.7\n"
     ]
    }
   ],
   "source": [
    "def y2(problem):\n",
    "    \" objective function for problem Phi2 \"\n",
    "    solution = {'housing' : problem.h, 'shelter' : problem.s}\n",
    "    fluid_model = model(data_as_is, solution)\n",
    "    fluid_model.analyse(horizon, timestep)\n",
    "    avg_unsh_2 = sum(fluid_model.model.unsh_sq_t)/len(fluid_model.model.unsh_sq_t)\n",
    "    avg_sh_2 = sum(fluid_model.model.sh_sq_t)/len(fluid_model.model.sh_sq_t)\n",
    "    c = 0.5 # weight placed on the penalty of sheltered queue compared to unsheltered\n",
    "    return(avg_unsh_2 + (c * avg_sh_2))\n",
    "\n",
    "# Set up problem and solve\n",
    "problem = do.Phi(data_as_is, \n",
    "                  timestep, \n",
    "                  horizon, \n",
    "                  budget, \n",
    "                  costs_accomm, \n",
    "                  baseline_build, \n",
    "                  budget_constraint, \n",
    "                  min_house_build, \n",
    "                  min_shelter_build, \n",
    "                  y2)\n",
    "\n",
    "problem.solve('ipopt')\n",
    "\n",
    "# Outputs\n",
    "print('House building solution per year: ' + str([round(i,2) for i in problem.h_opt]))\n",
    "print('Shelter building solution per year: ' + str([round(i,2) for i in problem.s_opt]))\n",
    "print('Optimal objective Val: ' + str(round(problem.instance.OBJ(),2)))"
   ]
  },
  {
   "cell_type": "code",
   "execution_count": null,
   "id": "6c2aa9a3-e43a-4e0c-9413-3a26e33f3d5d",
   "metadata": {},
   "outputs": [],
   "source": []
  }
 ],
 "metadata": {
  "kernelspec": {
   "display_name": "Python 3 (ipykernel)",
   "language": "python",
   "name": "python3"
  },
  "language_info": {
   "codemirror_mode": {
    "name": "ipython",
    "version": 3
   },
   "file_extension": ".py",
   "mimetype": "text/x-python",
   "name": "python",
   "nbconvert_exporter": "python",
   "pygments_lexer": "ipython3",
   "version": "3.11.7"
  }
 },
 "nbformat": 4,
 "nbformat_minor": 5
}
