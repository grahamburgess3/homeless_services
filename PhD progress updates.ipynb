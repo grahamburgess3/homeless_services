{
 "cells": [
  {
   "cell_type": "markdown",
   "id": "bfc76889",
   "metadata": {},
   "source": [
    "#### w/c 13th November 2023\n",
    "* Perform a simple experiment to measure the effect of the following points on a simple objective function (expected value of time average of size of unsheltered Q), where the effects of adding extra shelter are compared to the effects of adding extra housing, and therefore the preference between adding extra shelter or housing can be studied. \n",
    "    * adding accommodation (housing or shelter) at different points in time\n",
    "    * changing the relative cost of shelter compared to housing\n",
    "    * changing the rate at which customers are served in housing\n",
    "    \n",
    "* Make a list of what we currently know about our model of the homelessness response system\n",
    "* Meeting with Burak Buke to discuss analytical methods of modelling the homelessness response system\n",
    "\n",
    "#### w/c 6th November 2023\n",
    "* Add functionality to ranking_and_selection.py to be able to quickly find true optimal solutions, using the analytical model, with a given\ta) cost of building shelter relative to housing, b) mean service time for housing, c) objective function.\n",
    "\n",
    "* Using this functionality, look a how cheap shelter needs to be for it to be preferential compared to housing, for a range of service-time means, with a simple objective function with one linear term.\n",
    "* Assuming shelter is half the price of housing, explore (using the simulation model) the effect of a non-zero service time at shelter, on the preference for housing over shelter.\n",
    "* Meeting with Dashi - discussing trip and research - suggestion that desire for initial ramping up of shelter is to quickly take people out unsheltered queue who have been there for some time.\n",
    "* Planning of trip to NPS / Winter Sim.\n",
    "* Communication with lead analyst in Homelessness & Rough Sleeping (HRS) stats team in UK Dept. for Levelling Up, Housing & Communities (DLUHC) who offered to put me in contact with HRS policy/analytical colleagues in due course.\n",
    "\n",
    "#### w/c 30th October 2023\n",
    "\n",
    "* The current setup favours housing over shelter as early as possible because extra housing not only removes someone from the unsheltered queue (since someone from shelter can enter housing, and someone unsheltered can then move into shelter) but it also conducts service and increases the rate at which customers are leaving the system. \n",
    "* Using this setup, re-run once the R&S algorithm using the indifference-zone parameter exactly equal to the true difference (from the analytical model) between the best and second-best solution, setting alpha = 0.05. \n",
    "* Re-run many times the same algorithm on the same solution space, now setting alpha to 0.25 - in theory this should lead to at least 75% confidence on the optimal solution found. \n",
    "* Now, halve the cost of shelter to give shelter an advantage over housing. Use the the analytical model to study the effect of this - the optimal solution now says shelter is better, the earlier the better. \n",
    "* The setup now favours the advantage of shelter (cheaper) over the advantage of housing (which increases the rate of customers leaving system). \n",
    "* Test this setup with the possibility of building only shelter or only housing or a mix. Now that we favour shelter, the result is to choose only shelter (i.e. best true objective function value). Remember we are just minimising the average size of the unsheltered queue.\n",
    "* Consider an objective function which is a function of both the unsheltered and sheltered queue. The form of this function could enable us to ensure, for example, that we do not want unreasonably large unsheltered or sheltered queues. \n",
    "* Begin reading of \"Integer-Ordered Simulation Optimization using R-SPLINE\" (Wang, 2013). \n",
    "\n",
    "#### w/c 23rd October 2023\n",
    "\n",
    "* Develop new disctete solution space which is more suitable for testing the R&S algorithm (i.e. not quickly clearing the unsheltered queue)\n",
    "* Use analytical model to gain better understanding of the optimal solution (i.e. housing better, the earlier the better). An extra housing unit is better than an extra shelter unit because it not only removes someone from the unsheltered queue (since someone from shelter can enter housing, and someone unsheltered can then move into shelter) but it also conducts service and increases the rate at which customers are leaving the system. \n",
    "\n",
    "#### w/c 16th October 2023\n",
    "\n",
    "* Development of Ranking & Selection algorithm (KN algorithm) to minimise the average size of unsheltered queue\n",
    "* Develop initial choice of discrete solution space for testing R&S algorithm\n",
    "\n",
    "#### w/c 9th October 2023\n",
    "\n",
    "* Complete and test first version of DES model (to allow discrete/continuous solution space)\n",
    "\n",
    "#### w/c 2nd October 2023\n",
    "\n",
    "* Begin development of DES model in Python\n",
    "\n",
    "#### w/c 25th September 2023\n",
    "\n",
    "* Decide upon problem formulation\n",
    "* More reading into possilbe SO algorithms for our choice of problem formulation\n",
    "\n",
    "#### w/c 18th September 2023\n",
    "\n",
    "* Study papers on models for runaway homeless youth populations\n",
    "* Suggest several options for problem formulations (cost minimisation / benefit-cost maximisation etc.)"
   ]
  }
 ],
 "metadata": {
  "kernelspec": {
   "display_name": "Python 3 (ipykernel)",
   "language": "python",
   "name": "python3"
  },
  "language_info": {
   "codemirror_mode": {
    "name": "ipython",
    "version": 3
   },
   "file_extension": ".py",
   "mimetype": "text/x-python",
   "name": "python",
   "nbconvert_exporter": "python",
   "pygments_lexer": "ipython3",
   "version": "3.11.5"
  }
 },
 "nbformat": 4,
 "nbformat_minor": 5
}
