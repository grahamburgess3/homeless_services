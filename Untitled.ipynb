{
 "cells": [
  {
   "cell_type": "code",
   "execution_count": 13,
   "id": "09ec2cb5",
   "metadata": {},
   "outputs": [],
   "source": [
    "import ranking_and_selection as rs\n",
    "\n",
    "build_rate_options = {'housing' : [12, 24], 'shelter' : [12,24]}\n",
    "annual_budget = 36\n",
    "accommodation_budgets = {'housing' : 96, 'shelter' : 96}\n",
    "simulation_length = 5\n",
    "\n",
    "sols = rs.generate_solution_space(build_rate_options, annual_budget, accommodation_budgets, simulation_length)"
   ]
  },
  {
   "cell_type": "code",
   "execution_count": 15,
   "id": "5fe50a89",
   "metadata": {},
   "outputs": [
    {
     "name": "stdout",
     "output_type": "stream",
     "text": [
      "      0   1   2   3   4   5   6   7   8   9\n",
      "0    12  12  12  12  12  12  12  12  12  12\n",
      "1    12  12  12  12  12  24  12  12  12  12\n",
      "2    24  12  12  12  12  12  12  12  12  12\n",
      "3    12  12  12  12  12  12  24  12  12  12\n",
      "4    12  12  12  12  12  24  24  12  12  12\n",
      "..   ..  ..  ..  ..  ..  ..  ..  ..  ..  ..\n",
      "216  12  24  12  24  24  24  12  24  12  12\n",
      "217  12  12  24  24  24  12  12  12  12  12\n",
      "218  12  12  24  24  24  24  12  12  12  12\n",
      "219  12  12  24  24  24  12  24  12  12  12\n",
      "220  12  12  24  24  24  24  24  12  12  12\n",
      "\n",
      "[221 rows x 10 columns]\n"
     ]
    }
   ],
   "source": [
    "# this is probably a better way of doing it - transform the dict into a pd;dataframe.        \n",
    "sol = [{'h':[1,2],'s':[3,4]},{'h':[2,1],'s':[4,3]}]\n"
   ]
  },
  {
   "cell_type": "code",
   "execution_count": null,
   "id": "f6fdff02",
   "metadata": {},
   "outputs": [],
   "source": []
  }
 ],
 "metadata": {
  "kernelspec": {
   "display_name": "Python 3 (ipykernel)",
   "language": "python",
   "name": "python3"
  },
  "language_info": {
   "codemirror_mode": {
    "name": "ipython",
    "version": 3
   },
   "file_extension": ".py",
   "mimetype": "text/x-python",
   "name": "python",
   "nbconvert_exporter": "python",
   "pygments_lexer": "ipython3",
   "version": "3.11.5"
  }
 },
 "nbformat": 4,
 "nbformat_minor": 5
}
