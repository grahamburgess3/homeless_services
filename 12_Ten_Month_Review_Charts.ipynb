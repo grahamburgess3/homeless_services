{
 "cells": [
  {
   "cell_type": "markdown",
   "id": "a624699a-9e03-4134-b119-a1278a7503e7",
   "metadata": {
    "collapsed": false
   },
   "source": [
    "#### Mulit fidelity outputs\n",
    "This notebook generates multi-fidelity output of the homeless care services. We have a fluid flow model, an $M_t/M/h_t$ queueing model and a high fidelity simulation model. "
   ]
  },
  {
   "cell_type": "code",
   "execution_count": 1,
   "id": "19c58786-11df-43e5-9cb7-bb5d7549428f",
   "metadata": {
    "collapsed": false
   },
   "outputs": [],
   "source": [
    "import queueing_model as qm"
   ]
  },
  {
   "cell_type": "code",
   "execution_count": 2,
   "id": "9f68efcf-8ecc-4763-8445-35ed480d11ab",
   "metadata": {
    "collapsed": false
   },
   "outputs": [],
   "source": [
    "import json\n",
    "import matplotlib.pyplot as plt\n"
   ]
  },
  {
   "cell_type": "code",
   "execution_count": 3,
   "id": "dbe66ef0-481b-4478-bc29-5d6577f5b2db",
   "metadata": {
    "collapsed": false
   },
   "outputs": [],
   "source": [
    "# Get data\n",
    "with open('data_singham23.json') as json_file:\n",
    "    data = json.load(json_file)\n",
    "\n",
    "with open('data_as_is_analytical.json') as json_file:\n",
    "    data_analytical = json.load(json_file)\n",
    "    "
   ]
  },
  {
   "cell_type": "code",
   "execution_count": 4,
   "id": "ab68f77c-5f11-4cd4-84e5-d0e0b96d1721",
   "metadata": {
    "collapsed": false
   },
   "outputs": [
    {
     "data": {
      "text/plain": [
       "{'initial_capacity': {'housing': 4000, 'shelter': 1500},\n",
       " 'initial_demand': 12000,\n",
       " 'service_mean': {'housing': 4.487179487179487, 'shelter': 0.0},\n",
       " 'arrival_rates': [10.01518590998043,\n",
       "  11.923350293542077,\n",
       "  13.08718590998043,\n",
       "  13.08718590998043,\n",
       "  11.815185909980432,\n",
       "  10.663185909980431],\n",
       " 'solution': {'housing': [4000, 5400.0, 7920.0, 10720.0, 14710.0, 18000.0],\n",
       "  'shelter': [1500, 2500, 3200, 3200, 3200, 3200]}}"
      ]
     },
     "execution_count": 4,
     "metadata": {},
     "output_type": "execute_result"
    }
   ],
   "source": [
    "data"
   ]
  },
  {
   "cell_type": "code",
   "execution_count": 5,
   "id": "4e008637-15e3-4368-9027-e1b051d01069",
   "metadata": {
    "collapsed": false
   },
   "outputs": [],
   "source": [
    "analysis_horizon = 5\n",
    "max_in_system = 20000\n",
    "data['service_mean']['housing'] = data['service_mean']['housing']*365\n",
    "\n",
    "# Queueing model\n",
    "q = qm.queue(data['arrival_rates'],\n",
    "             data['service_mean'],\n",
    "             data['initial_capacity'], \n",
    "             data['solution'],\n",
    "             data['initial_demand'], \n",
    "             max_in_system)\n",
    "q.model_dynamics(analysis_horizon,\n",
    "                 data_analytical['delta_t'])"
   ]
  },
  {
   "cell_type": "code",
   "execution_count": 19,
   "id": "4974727c-bc15-4567-bf86-d6739e5bf630",
   "metadata": {
    "collapsed": false
   },
   "outputs": [],
   "source": [
    "upc = qm.get_percentiles_single_run(analysis_horizon*365, {'low' : 0.00001, 'high' : 0.99999}, q.p_unsh)"
   ]
  },
  {
   "cell_type": "code",
   "execution_count": 20,
   "id": "9d740640-7a23-41e1-86a1-ecd31857f68a",
   "metadata": {
    "collapsed": false
   },
   "outputs": [
    {
     "data": {
      "image/png": "[encoded data removed]",
      "text/plain": [
       "<Figure size 640x480 with 1 Axes>"
      ]
     },
     "metadata": {},
     "output_type": "display_data"
    }
   ],
   "source": [
    "fig, ax = plt.subplots()\n",
    "x = [(i+365)/365 for i in range(1825)]\n",
    "ax.plot(x,q.num_unsheltered)\n",
    "ax.fill_between(x, upc['low'], upc['high'], facecolor = 'palegreen', alpha = 0.3)\n",
    "plt.show()"
   ]
  },
  {
   "cell_type": "code",
   "execution_count": 21,
   "id": "5ae525b2-f055-4ba5-8de3-c5c06b33ff10",
   "metadata": {
    "collapsed": false
   },
   "outputs": [
    {
     "data": {
      "text/plain": [
       "1024"
      ]
     },
     "execution_count": 21,
     "metadata": {},
     "output_type": "execute_result"
    }
   ],
   "source": [
    "upc['high'][365]"
   ]
  },
  {
   "cell_type": "code",
   "execution_count": 22,
   "id": "aadff115-3849-45f0-a03d-1f76225be68a",
   "metadata": {
    "collapsed": false
   },
   "outputs": [
    {
     "data": {
      "text/plain": [
       "991"
      ]
     },
     "execution_count": 22,
     "metadata": {},
     "output_type": "execute_result"
    }
   ],
   "source": [
    "upc['low'][365]"
   ]
  }
 ],
 "metadata": {
  "kernelspec": {
   "argv": [
    "/home/burges26/GitHub/homeless_services/.venv/bin/python3",
    "-m",
    "ipykernel_launcher",
    "-f",
    "{connection_file}"
   ],
   "display_name": ".venv",
   "env": null,
   "interrupt_mode": "signal",
   "language": "python",
   "metadata": {
    "debugger": true
   },
   "name": ".venv"
  },
  "name": "12_Ten_Month_Review_Charts.ipynb"
 },
 "nbformat": 4,
 "nbformat_minor": 5
}
